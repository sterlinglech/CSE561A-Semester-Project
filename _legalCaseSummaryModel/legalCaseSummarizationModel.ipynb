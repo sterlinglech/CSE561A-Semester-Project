{
 "cells": [
  {
   "cell_type": "markdown",
   "id": "baa20789",
   "metadata": {},
   "source": [
    "# Possible models to use\n",
    "\n",
    "## DistilBART - distilled version of BART, which is much smaller than the full BART model but retains much of its performance. Since it is distilled, it's faster and more efficient while still being well-suited for summarization tasks. DistilBART is designed for text summarization, and the cnn-12-6 variant is trained on news articles, making it a viable medium sized model for summarizing legal documents.\n",
    "\n",
    "## T5 (Text-to-Text Transfer Transformer) - Small or Base - T5 treats every task as a text-to-text problem, making it very flexible for summarization. The small and base variants offer a middle ground between performance and model size, making them suitable for use cases where computational resources are limited."
   ]
  },
  {
   "cell_type": "code",
   "execution_count": 23,
   "id": "312bc7bb",
   "metadata": {},
   "outputs": [],
   "source": [
    "from datasets import load_dataset"
   ]
  },
  {
   "cell_type": "markdown",
   "id": "9b393551",
   "metadata": {},
   "source": [
    "### Here I load the datasets and edit some of the columns prior to tokenizing the datasets"
   ]
  },
  {
   "cell_type": "code",
   "execution_count": 24,
   "id": "ecc784f6",
   "metadata": {},
   "outputs": [
    {
     "name": "stderr",
     "output_type": "stream",
     "text": [
      "Repo card metadata block was not found. Setting CardData to empty.\n"
     ]
    },
    {
     "name": "stdout",
     "output_type": "stream",
     "text": [
      "Dataset({\n",
      "    features: ['text', 'label'],\n",
      "    num_rows: 7773\n",
      "})\n",
      "Dataset({\n",
      "    features: ['text', 'label'],\n",
      "    num_rows: 50\n",
      "})\n",
      "Dataset({\n",
      "    features: ['context', 'endings', 'label'],\n",
      "    num_rows: 45000\n",
      "})\n",
      "Dataset({\n",
      "    features: ['text', 'labels'],\n",
      "    num_rows: 9000\n",
      "})\n",
      "Dataset({\n",
      "    features: ['text', 'labels'],\n",
      "    num_rows: 9000\n",
      "})\n",
      "Dataset({\n",
      "    features: ['text', 'labels'],\n",
      "    num_rows: 55000\n",
      "})\n",
      "Dataset({\n",
      "    features: ['text', 'label'],\n",
      "    num_rows: 60000\n",
      "})\n",
      "Dataset({\n",
      "    features: ['text', 'label'],\n",
      "    num_rows: 5000\n",
      "})\n"
     ]
    }
   ],
   "source": [
    "# Load the datasets\n",
    "ds1_train = load_dataset(\"joelniklaus/legal_case_document_summarization\", split='train')\n",
    "ds1_train = ds1_train.remove_columns(['dataset_name'])\n",
    "ds1_train = ds1_train.rename_column('judgement', 'text')\n",
    "ds1_train = ds1_train.rename_column('summary', 'label')\n",
    "print(ds1_train)\n",
    "\n",
    "# NOTE: This dataset only has 50 rows. It may not be a dataset we want to use.\n",
    "# NOTE: THIS DATA IS NOT PLAYING NICELY WITH CONCATENATION\n",
    "# Although the summaries appear to be good\n",
    "ds2_DatasetDict = load_dataset(\"manasvikalyan/legal-documents-summary\")\n",
    "ds2_actual = ds2_DatasetDict['data']\n",
    "ds2_actual = ds2_actual.remove_columns(['summary_a2'])\n",
    "ds2_actual = ds2_actual.rename_column('summary_a1', 'label')\n",
    "ds2_actual = ds2_actual.rename_column('judgement', 'text')\n",
    "print(ds2_actual)\n",
    "\n",
    "ds3_train = load_dataset(\"coastalcph/lex_glue\", \"case_hold\", split='train')\n",
    "print(ds3_train)\n",
    "ds4_train = load_dataset(\"coastalcph/lex_glue\", \"ecthr_a\", split='train')\n",
    "print(ds4_train)\n",
    "ds5_train = load_dataset(\"coastalcph/lex_glue\", \"ecthr_b\", split='train')\n",
    "print(ds5_train)\n",
    "ds6_train = load_dataset(\"coastalcph/lex_glue\", \"eurlex\", split='train')\n",
    "print(ds6_train)\n",
    "ds7_train = load_dataset(\"coastalcph/lex_glue\", \"ledgar\", split='train')\n",
    "print(ds7_train)\n",
    "ds8_train = load_dataset(\"coastalcph/lex_glue\", \"scotus\", split='train')\n",
    "print(ds8_train)\n"
   ]
  },
  {
   "cell_type": "markdown",
   "id": "5fa986fe",
   "metadata": {},
   "source": [
    "### Here I am pre-processing the data for the DistilBART model"
   ]
  },
  {
   "cell_type": "code",
   "execution_count": 25,
   "id": "33c6b0df",
   "metadata": {},
   "outputs": [],
   "source": [
    "from transformers import BartTokenizer"
   ]
  },
  {
   "cell_type": "code",
   "execution_count": 26,
   "id": "687cc31e-c81c-4613-891f-7c61aba144cd",
   "metadata": {},
   "outputs": [
    {
     "name": "stderr",
     "output_type": "stream",
     "text": [
      "/Library/Frameworks/Python.framework/Versions/3.10/lib/python3.10/site-packages/transformers/tokenization_utils_base.py:1601: FutureWarning: `clean_up_tokenization_spaces` was not set. It will be set to `True` by default. This behavior will be depracted in transformers v4.45, and will be then set to `False` by default. For more details check this issue: https://github.com/huggingface/transformers/issues/31884\n",
      "  warnings.warn(\n"
     ]
    }
   ],
   "source": [
    "# Load the BART tokenizer\n",
    "tokenizer = BartTokenizer.from_pretrained('sshleifer/distilbart-cnn-12-6')"
   ]
  },
  {
   "cell_type": "code",
   "execution_count": 27,
   "id": "14301ed1",
   "metadata": {},
   "outputs": [],
   "source": [
    "# Tokenization function for text and summaries\n",
    "def tokenize_function(examples):\n",
    "    # Tokenize the input text\n",
    "    inputs = tokenizer(examples['text'], max_length=512, truncation=True, padding='max_length')\n",
    "    \n",
    "    # Tokenize the output summary labels\n",
    "    with tokenizer.as_target_tokenizer():\n",
    "        labels = tokenizer(examples['label'], max_length=150, truncation=True, padding='max_length')\n",
    "\n",
    "    # Set the tokenized labels in the input dictionary\n",
    "    inputs['labels'] = labels['input_ids']\n",
    "    \n",
    "    return inputs"
   ]
  },
  {
   "cell_type": "markdown",
   "id": "2249a7dc",
   "metadata": {},
   "source": [
    "### Here I am just Tokenizing 'ds1' and 'ds2' for DistilBART (ds1_train and ds2_actual)\n",
    "\n",
    "### TODO: Tokenize the other datasets later"
   ]
  },
  {
   "cell_type": "code",
   "execution_count": 28,
   "id": "dfffdba3",
   "metadata": {},
   "outputs": [],
   "source": [
    "# Tokenize the datasets for DistilBART (ds1_train and ds2_actual)\n",
    "ds1_train_tokenized = ds1_train.map(tokenize_function, batched=True)\n",
    "# ds2_actual_tokenized = ds2_actual.map(tokenize_function, batched=True) <-- NOT PLAYING NICELY RN"
   ]
  },
  {
   "cell_type": "markdown",
   "id": "af23994f",
   "metadata": {},
   "source": [
    "### TODO: set the other dataset formats later:"
   ]
  },
  {
   "cell_type": "code",
   "execution_count": 29,
   "id": "3c50958d",
   "metadata": {},
   "outputs": [
    {
     "name": "stdout",
     "output_type": "stream",
     "text": [
      "Dataset({\n",
      "    features: ['text', 'label', 'input_ids', 'attention_mask', 'labels'],\n",
      "    num_rows: 7773\n",
      "})\n",
      "Dataset({\n",
      "    features: ['text', 'label', 'input_ids', 'attention_mask', 'labels'],\n",
      "    num_rows: 7773\n",
      "})\n"
     ]
    }
   ],
   "source": [
    "# Set the dataset format to PyTorch tensors\n",
    "print(ds1_train_tokenized)\n",
    "ds1_train_tokenized.set_format(type='torch', columns=['input_ids', 'attention_mask', 'labels'])\n",
    "print(ds1_train_tokenized)"
   ]
  },
  {
   "cell_type": "markdown",
   "id": "caeb3cba",
   "metadata": {},
   "source": [
    "### Here I am concatenating the datasets to use all together\n",
    "\n",
    "### TODO: concatenate the rest of the datasets later"
   ]
  },
  {
   "cell_type": "code",
   "execution_count": 30,
   "id": "70a512e4",
   "metadata": {},
   "outputs": [],
   "source": [
    "from datasets import concatenate_datasets"
   ]
  },
  {
   "cell_type": "code",
   "execution_count": 31,
   "id": "56941f37",
   "metadata": {},
   "outputs": [],
   "source": [
    "# Concatenate/Merge the datasets\n",
    "# FIX LATER --> combined_dataset = concatenate_datasets([ds1_train_tokenized, ds2_actual_tokenized])"
   ]
  },
  {
   "cell_type": "markdown",
   "id": "d09e1003",
   "metadata": {},
   "source": [
    "### Splitting the combined dataset into train and validation sets\n",
    "\n",
    "### TODO: concatenate the rest of the datasets later"
   ]
  },
  {
   "cell_type": "code",
   "execution_count": 32,
   "id": "07068ac4",
   "metadata": {},
   "outputs": [],
   "source": [
    "# FIX LATER --> combined_dataset = combined_dataset.train_test_split(test_size=0.2)\n",
    "ds1_train_tokenized = ds1_train_tokenized.train_test_split(test_size=0.2)\n",
    "train_dataset = ds1_train_tokenized['train'] \n",
    "val_dataset = ds1_train_tokenized['test']"
   ]
  },
  {
   "cell_type": "markdown",
   "id": "5cb160b4",
   "metadata": {},
   "source": [
    "### Load the DistilBART model here"
   ]
  },
  {
   "cell_type": "code",
   "execution_count": 33,
   "id": "bb6116f2",
   "metadata": {},
   "outputs": [],
   "source": [
    "from transformers import BartForConditionalGeneration"
   ]
  },
  {
   "cell_type": "code",
   "execution_count": 34,
   "id": "bac02a8d",
   "metadata": {},
   "outputs": [],
   "source": [
    "# Load the DistilBART model for conditional generation\n",
    "model = BartForConditionalGeneration.from_pretrained('sshleifer/distilbart-cnn-12-6')"
   ]
  },
  {
   "cell_type": "markdown",
   "id": "400f9abc",
   "metadata": {},
   "source": [
    "### Setting up training arguments for the model here\n",
    "\n",
    "### TODO: These can be modified later to improve the model"
   ]
  },
  {
   "cell_type": "code",
   "execution_count": 35,
   "id": "1e2085fa",
   "metadata": {},
   "outputs": [],
   "source": [
    "from transformers import TrainingArguments, Trainer"
   ]
  },
  {
   "cell_type": "code",
   "execution_count": 36,
   "id": "1797285e",
   "metadata": {},
   "outputs": [],
   "source": [
    "# Set up training arguments\n",
    "training_args = TrainingArguments(\n",
    "    output_dir='./results',            # output directory\n",
    "    eval_strategy=\"epoch\",       # evaluate at each epoch\n",
    "    learning_rate=5e-5,                # learning rate\n",
    "    per_device_train_batch_size=4,     # batch size for training\n",
    "    per_device_eval_batch_size=4,      # batch size for evaluation\n",
    "    num_train_epochs=3,                # number of training epochs\n",
    "    weight_decay=0.01,                 # strength of weight decay\n",
    "    save_total_limit=2,                # only keep last 2 checkpoints\n",
    ")"
   ]
  },
  {
   "cell_type": "code",
   "execution_count": 37,
   "id": "d5f7fed8",
   "metadata": {},
   "outputs": [],
   "source": [
    "# Initialize the Trainer\n",
    "trainer = Trainer(\n",
    "    model=model,\n",
    "    args=training_args,\n",
    "    train_dataset=train_dataset,\n",
    "    eval_dataset=val_dataset\n",
    ")"
   ]
  },
  {
   "cell_type": "markdown",
   "id": "57f8c0a3",
   "metadata": {},
   "source": [
    "### Training the model here"
   ]
  },
  {
   "cell_type": "code",
   "execution_count": null,
   "id": "765e21ee",
   "metadata": {},
   "outputs": [
    {
     "data": {
      "text/html": [
       "\n",
       "    <div>\n",
       "      \n",
       "      <progress value='68' max='4665' style='width:300px; height:20px; vertical-align: middle;'></progress>\n",
       "      [  68/4665 03:33 < 4:07:24, 0.31 it/s, Epoch 0.04/3]\n",
       "    </div>\n",
       "    <table border=\"1\" class=\"dataframe\">\n",
       "  <thead>\n",
       " <tr style=\"text-align: left;\">\n",
       "      <th>Epoch</th>\n",
       "      <th>Training Loss</th>\n",
       "      <th>Validation Loss</th>\n",
       "    </tr>\n",
       "  </thead>\n",
       "  <tbody>\n",
       "  </tbody>\n",
       "</table><p>"
      ],
      "text/plain": [
       "<IPython.core.display.HTML object>"
      ]
     },
     "metadata": {},
     "output_type": "display_data"
    }
   ],
   "source": [
    "# Train the model\n",
    "trainer.train()"
   ]
  },
  {
   "cell_type": "code",
   "execution_count": 17,
   "id": "ceb727e8",
   "metadata": {},
   "outputs": [
    {
     "name": "stdout",
     "output_type": "stream",
     "text": [
      "{'text': 'Civil Appeal No. 1046 of 1982.\\nFrom the Order dated 20.9.1980 of the Madhya Pradesh High Court in M.P. No. 84 of 1978.\\nDr. N.M. Ghatate, S.V. Deshpande and S.K. Agnihotri for the Appellants.\\nAman Vachher, S.K. mehta, Mrs. Anjali Verma, D.N. Mishra (for JBD & Co.) and Ashok Srivastava for the Respondents.\\nThe Judgment of the Court was delivered by T.K. THOMMEN, J.\\nThis appeal by the State of Madhya 176 Pradesh arises from the Order of the Madhya Pradesh High Court in Misc.\\nPetition No.84 of 1978 quashing Order dated 1.10.1977 of the Additional Collector, Gwalior, whereby he initiated proceedings against the 3rd respondent, the Gwalior Dairy Limited (hereinafter called `the Company \\') under section 182(2)(i) of the M.P. Land Revenue Code, 1959 (`the Code \\').\\nRespondent Nos.\\n1,2 and 4 are shareholders of the third respondent.\\nThe High Court by the impugned Order held that the Company was not a Government lessee within the meaning of section 181 [read with section 2(h)] and was, therefore, not liable to be proceeded against in terms of section 182.\\nThe Order of the Additional Collector, Gwalior, which was impugned in the High Court, was made consequent on the failure of the Company to pay the rent agreed upon between the Government and the Company subsequent to the unconditional withdrawal by the Company of its Civil Appeal No. 299 of 1967 which was pending in this Court.\\nThat appeal had been brought to this Court by the Company against an earlier judgement of the High Court dated 30.6.1`964 in First Appeal No. 1 of 1961 whereby the High Court, confirming the judgement of the trial court and dismissing the Company \\'s appeal, held that the land admeasuring 495.05 acres was held by the Company in terms of the lease granted by the State and the Company was not a `pakka \\' tenant and did not enjoy the status of a \" Gair Maurusi\" tenant.\\nThe Company entered into a contract of lease with the Gwalior State Government (Sanitary Engineering Department) for a period of one year in Samvat 1999.\\nThe lease was extended for a further period of ten years in Samvat 2000.\\nWhen proceedings were initiated on 16.7.1952 to eject the Company, the Company filed Suit No. 14 of 1960 for declaration of title and perpetual injunction.\\nIssue No. 1(1) in that Suit was in the following words: \"Whether the plaintiff in accordance with paras 5 & 6 of the Plaint was a `gair Maurusi tenant \\' and now by virtue of the Revenue Administration and Ryotwari Land Revenue and Tenancy Act of Samwat 2007 has become a `Pakka Tenant \\'.\\nIf so, what is its effect on the suit?\" That issue was answered in the negative.\\nThe Court held that the Company did not enjoy the status of Gair Maurusi tenant and that it had not become a `pakka \\' tenant under section 54(vii) of Part II of Act 177 No. 66 of 1950 in respect of the land in question.\\nThe Court held that the Company was \"a Government lessee under section 181 of the M.P. Land Revenue Code, 1959 with the rights and liabilities enumerated in section 182\".\\nIt was also held that the Company was not an occupancy tenant under section 185 of the Code as it had not become an ordinary tenant earlier in Madhya Bharat under Act No. 66 of 1950.\\nThis judgement, as stated earlier, was affirmed by the High Court by its judgement dated 30.6.1964 in First Appeal No. 1 of 1961.\\nThe High Court observed that the land held by the Company under the lease was neither zamindari nor ryotwari land.\\nThe Zamindari Abolition Act did not apply to the land as it had become vested in the State long prior to the Act.\\nThe High Court observed: \". .the lands comprised in the Gwalior Sewage Farm were never notified to be a Ryotwari village.\\nThe lands which have been acquired by the Gwalior State in connection with the Gwalior Sewage Farm could not, after their acquisition for a public purpose be notified to be part of a Ryotwari village. the lands were not `Pandat \\' lands nor were the lands included in Ryotwari village.\\nSpecial leases granted by the erstwhile Gwalior State in respect of such lands as had been acquired for a public purpose, namely construction of a sewage system were governed not by any law for the time being in force but by the terms of lease in each case.\\nI have already explained above that to these lands the provisions of the Zamindari Abolition Act did not apply, since they were already held by the State when that came into force. the defendant (the State) has been successful in showing that the plaintiff (the Company) never acquired the status of a Gair Maurusi tenant in respect of the land in dispute at any time prior to the coming into force of the Act No. 66 of 1950 and that he could not, by virtue of the provisions of that Act become a Pukka tenant thereof\".\\nIt was from that judgement that the Company had brought to this Court Civil Appeal No. 299 of 1967 and that appeal was, as stated earlier, unconditionally withdrawn by the Company in 1971.\\nSubsequently, the State entered into an agreement with the Company to grant a fresh lease for a period of ten years from 9.2.1971 subject to the payment of enhanced rent as agreed upon between the parties.\\nSince the Company failed to pay the agreed rents and thus contravened the conditions of the lease, proceedings were initiated by the 178 Additional Collector by his Order dated 1.10.1977 for eviction of the Company from the land in question.\\nThat Order was made under section 182(2)(i) of the Code.\\nIt was that Order which was quashed by the High Court by its impugned Order dated 20.9.1980.\\nThe High Court held that the lease in question was not covered by section 181 of the Code and that the Company could not be evicted by the summary proceeding provided for under that section.\\nAs stated earlier, the High Court had, in the earlier proceeding held that the Company was not a `pakka \\' tenant.\\nThat judgement of the High Court became by the unconditional withdrawal of the appeal filed in this Court against it.\\nThe Madhya Pradesh Land Revenue and Tenancy Act, Samvat 2007 (Act No 66 of 1950), which was the law in force until repealed by the M.P. Land Revenue Code, 1959, defined \"pakka tenant\" as follows: \"section 54 (vii).\\nPakka tenant means a tenant who has been or whose predecessor in interest had been lawfully recorded in respect of his holding as a `Ryot Pattedar \\', `Mamuli Maurusi \\' `Gair Maurusi \\', and `Pukhta Maurusi \\' when this Act comes into force or who may in future be duly recognised as such by a competent authority.\\nExplanation The term `Pukhta Maurusi \\' included Istmurardar tenants, Malikana Haq holder tenants, Hakkiyat Mutafarrikat Sharah Muayyana and Sakitul Mikiyat tenants\".\\nAn `ordinary tenant \\' is defined by Act No. 66 of 1950 as \"a tenant other than a Pakka tenant and shall not include a sub tenant\".\\nThe position, therefore, was that, in terms of Act No. 66 of 1950, the Company was not a pakka tenant, as found by the High Court in the earlier judgement, and, therefore, it was, according to the said Act, an ordinary tenant.\\nThe High Court had found in the earlier proceeding that the land in question was held by the Company under lease from the Government after it had been acquired by the Government for a public purpose of the State.\\nThe question, therefore, is whether the Company was, as found by the Additional Collector, a Government lessee within the meaning of the Code.\\nIt is to be noticed that subsequent to the withdrawal of the appeal from this Court, fresh terms were agreed upon between the Company and the Government to enable the Com 179 pany to remain in possession of the land as a lessee.\\nThe Company is thus a person holding the land from the State Government.\\nThis is so whether or not the Company is deemed to be holding over under the old lease or holding, upon termination of that lease, under and in terms of the fresh conditions agreed upon between the parties to enable the Company to remain in possession of the land as a lessee.\\nIn either event, the Company has been holding the land from the State.\\nIt is not and cannot be disputed that the original lease was obtained from the predecessor State and the Company continued to remain in possession of the land under the newly stipulated terms agreed upon between the Company and the successor State, namely, the Madhya Pradesh State.\\nA `Government Lessee \\' is defined under the M.P. Land Revenue Code, 1959 as \"a person holding land from the State Government under section 181\", Section 181 of the Code reads: \"181.\\nGovernment Lessees.\\n(1) Every person who holds land from the State Government or to whom a right to occupy land is granted by the State Government or the Collector and who is not entitled to hold land as a Bhumiswami shall be called a Government lessee in respect of such land.\\n(2) Every person who at the coming into force of this Code (a) hold any land in the Madhya Bharat region as an ordinary tenant as defined in the Madhya Bharat Land Revenue and Tenancy Act, Samvat2007 (66 of 1950); or (b). . . . . . . . . (c). . . . . . . . . shall be deemed to be a Government lessee in respect of such land\".\\nThese provisions show that whether or not the Company has been holding the land in terms of the original lease or under the newly stipulated terms of the lease, the Company has been holding the land 180 from the State Government and it has never been an ordinary terms as defined in the Madhya Bharat Act No. 66 of 1950.\\nAccordingly whether considered in terms of sub section (1) or sub section (2) of section 181, the Company has been at all material times a Government lessee in respect of the land in question.\\nAccordingly, section 182 of the Code is attracted.\\nThat section reads: \"182.\\nRights and liabilities of Government lessee (1) A Government lessee shall, subject to any express provision in this Code, hold his land in accordance with the terms and conditions of the grant, which shall be deemed to be a grant within the meaning of the (XV of 1985).\\n(2) A Government lessee may be ejected from his land by order of a Revenue Officer on one or more of the following grounds, namely: (i) that he has failed to pay the rent for a period of three months from the date on which it became due; or (ii) that he has used such land for purpose other than for which it was granted; or (iii) that the term of his lease has expired or (iv) that he has contravened any of the terms and conditions of the grant: Provided that no order for ejectment of a Government lessee under this sub section shall be passed without giving him an opportunity of being heard in his defence\".\\nIt was in terms of sub section 2(i) of section 182 that the Additional Collector made his order for eviction of the Company.\\nThe finding of the Additional Collector is a finding of fact based on evidence and is not liable to be questioned in these proceedings.\\nHis finding shows that large amounts are due and payable by the Company as rent and that the rents have remained unpaid for a period far in excess of three months from the dates on which they became due.\\nIn the circumstances, the Additional Collector was well justified in having recourse to the proceeding prescribed under section 182 of the 181 Code.\\nThe finding of the High Court to the contrary was, in our view, totally unjustified and opposed to law.\\nIn the circumstances, the impugned Order of the High Court dated 20.9.1980 in Misc.\\nPetition No 84 of 1978 is set aside.\\nThe Order of the Additional Collector dated 1.10.1977 in Case No. 1 75 76A 39: 182 shall stand restored.\\nThe appeal by the State is allowed with costs throughout.\\nV.P.R. Appeal allowed.\\n', 'label': 'The Company Respondent No. 3 entered into a contract of lease with the State Government for a period of one year and later it was extended for a further period of ten years.\\nWhen proceedings were initiated on 16.7.1952 to eject the Company, the Company filed suit for declaration of title and perpetual injunction.\\nThe trial Court holding that the Company did not become a `pakka \\' tenant under Section 54(vii) of Part II of Act No. 66 of 1950 in respect of the suit land and that the Company was \"a Government lessee under section 181 of the M.P. Land Revenue Code, 1959, and was not an occupancy tenant under section 185 of the Code, dismissed the suit.\\nThis judgment, was affirmed by the High Court in First appeal, observing that the land held by the Company under the lease was neither zamindari nor ryotwari land.\\nAgainst that judgment, the Company filed an appeal in this Court which was withdrawn in 1971.\\nSubsequently, the State entered into an agreement with the Company to grant a fresh lease for a period of ten years from 9.2.1971 subject to the payment of enhanced rent as agreed upon between the parities.\\nSince the Company failed to pay the agreed rents and contravened the conditions of the lease, proceedings were initiated under Section 182(2)(i) of the Code, for eviction of the Company from the land in question.\\n175 Eviction order was quashed by the High Court holding that the lease in question was not covered by section 181 of the Code and that the Company could not be evicted by the summary proceeding provided for under that section, against which the appeal has been filed.\\nAllowing the appeal, this Court, HELD: 1.\\nA `Government lessee \\' is defined under the M.P. land Revenue Code, 1959 as \"a person holding land from the State Government under section 181\".\\n[178E] 2.\\nAs per the provisions in section 181 of the M.P. Land Revenue Code, 1959 whether or not the company has been holding the land in terms of the original lease or under the newly stipulated terms of the lease, the Company has been holding the land from the State Government and it has never been an ordinary tenant as defined in the Madhya Bharat Act No. 66 of 1950.\\nAccordingly, whether considered in term of sub section (1) or sub section (2) of section 181, the Company has been at all material times a Government lessee in respect of the land in question.\\n[179 G 180 A] 3.\\nIt was in terms of sub section 2(i) of section 182 that the Additional Collector made his Order for eviction of the Company.\\nThe finding of the Additional Collector is a finding of fact based on evidence and is not liable to be questioned in these proceedings.\\nLarge amounts are due and payable by the Company as rent.\\nIn the circumstances, the Additional Collector was well justified in having recourse to the proceeding prescribed under section 182 of the Code.\\n[180 F 181 A]\\n', 'input_ids': [0, 41044, 16049, 440, 4, 158, 3761, 9, 12910, 4, 50118, 7605, 5, 9729, 7000, 291, 4, 466, 4, 34499, 9, 5, 4145, 18321, 8120, 755, 837, 11, 256, 4, 510, 4, 440, 4, 7994, 9, 14428, 4, 50118, 14043, 4, 234, 4, 448, 4, 272, 8849, 877, 6, 208, 4, 846, 4, 4762, 24548, 20702, 8, 208, 4, 530, 4, 3303, 24469, 1242, 1069, 13, 5, 3166, 1641, 3277, 4, 50118, 250, 397, 468, 1488, 1843, 6, 208, 4, 530, 4, 162, 6083, 102, 6, 3801, 4, 660, 267, 3644, 3060, 1916, 6, 211, 4, 487, 4, 22975, 763, 36, 1990, 344, 18941, 359, 944, 1592, 8, 4653, 1638, 208, 16936, 1988, 8604, 13, 5, 16533, 4189, 4, 50118, 133, 44319, 9, 5, 837, 21, 2781, 30, 255, 4, 530, 4, 8640, 3765, 42717, 6, 344, 4, 50118, 713, 2868, 30, 5, 331, 9, 4145, 18321, 28558, 8120, 28125, 31, 5, 9729, 9, 5, 4145, 18321, 8120, 755, 837, 11, 40135, 4, 50118, 510, 37258, 440, 4, 6232, 9, 14428, 2677, 8141, 9729, 7000, 112, 4, 698, 4, 44423, 9, 5, 7655, 38934, 6, 272, 10163, 7375, 6, 23920, 37, 9608, 7069, 136, 5, 155, 2586, 33802, 6, 5, 272, 10163, 7375, 21590, 5266, 36, 10859, 1243, 23782, 373, 22209, 627, 1260, 128, 43, 223, 2810, 25669, 1640, 176, 21704, 118, 43, 9, 5, 256, 4, 510, 4, 3192, 5833, 8302, 6, 23342, 36, 12905, 627, 8302, 128, 322, 50118, 44036, 2832, 1342, 29603, 4, 50118, 134, 6, 176, 8, 204, 32, 4071, 9, 5, 371, 33802, 4, 50118, 133, 755, 837, 30, 5, 4023, 3252, 7456, 9729, 547, 14, 5, 1260, 21, 45, 10, 1621, 7427, 7048, 624, 5, 3099, 9, 2810, 30085, 646, 12745, 19, 2810, 132, 1640, 298, 46077, 8, 21, 6, 3891, 6, 45, 19145, 7, 28, 18254, 136, 11, 1110, 9, 2810, 25669, 4, 50118, 133, 9729, 9, 5, 7655, 38934, 6, 272, 10163, 7375, 6, 61, 21, 4023, 3252, 7456, 11, 5, 755, 837, 6, 21, 156, 41593, 1342, 15, 5, 2988, 9, 5, 1260, 7, 582, 5, 5956, 1507, 2115, 227, 5, 1621, 8, 5, 1260, 7757, 7, 5, 31317, 8092, 30, 5, 1260, 9, 63, 5280, 16049, 440, 4, 35768, 9, 13025, 61, 21, 5319, 11, 42, 837, 4, 50118, 1711, 2868, 56, 57, 1146, 7, 42, 837, 30, 5, 1260, 136, 41, 656, 17219, 9, 5, 755, 837, 7000, 389, 4, 401, 4, 134, 12905, 466, 4027, 11, 1234, 16049, 440, 4, 112, 9, 20990, 23920, 5, 755, 837, 6, 13958, 5, 17219, 9, 5, 1500, 461, 8, 24717, 5, 1260, 128, 29, 2868, 6, 547, 14, 5, 1212, 2329, 1794, 40786, 204, 4015, 4, 2546, 6419, 21, 547, 30, 5, 1260, 11, 1110, 9, 5, 7792, 4159, 30, 5, 331, 8, 5, 1260, 21, 45, 10, 22209, 33501, 2348, 128, 18423, 8, 222, 45, 2254, 5, 2194, 9, 10, 22, 272, 2456, 12381, 687, 118, 113, 18423, 4, 50118, 133, 1260, 2867, 88, 10, 1355, 9, 7792, 19, 5, 272, 10163, 7375, 331, 1621, 36, 16033, 16669, 9466, 641, 43, 2], 'attention_mask': [1, 1, 1, 1, 1, 1, 1, 1, 1, 1, 1, 1, 1, 1, 1, 1, 1, 1, 1, 1, 1, 1, 1, 1, 1, 1, 1, 1, 1, 1, 1, 1, 1, 1, 1, 1, 1, 1, 1, 1, 1, 1, 1, 1, 1, 1, 1, 1, 1, 1, 1, 1, 1, 1, 1, 1, 1, 1, 1, 1, 1, 1, 1, 1, 1, 1, 1, 1, 1, 1, 1, 1, 1, 1, 1, 1, 1, 1, 1, 1, 1, 1, 1, 1, 1, 1, 1, 1, 1, 1, 1, 1, 1, 1, 1, 1, 1, 1, 1, 1, 1, 1, 1, 1, 1, 1, 1, 1, 1, 1, 1, 1, 1, 1, 1, 1, 1, 1, 1, 1, 1, 1, 1, 1, 1, 1, 1, 1, 1, 1, 1, 1, 1, 1, 1, 1, 1, 1, 1, 1, 1, 1, 1, 1, 1, 1, 1, 1, 1, 1, 1, 1, 1, 1, 1, 1, 1, 1, 1, 1, 1, 1, 1, 1, 1, 1, 1, 1, 1, 1, 1, 1, 1, 1, 1, 1, 1, 1, 1, 1, 1, 1, 1, 1, 1, 1, 1, 1, 1, 1, 1, 1, 1, 1, 1, 1, 1, 1, 1, 1, 1, 1, 1, 1, 1, 1, 1, 1, 1, 1, 1, 1, 1, 1, 1, 1, 1, 1, 1, 1, 1, 1, 1, 1, 1, 1, 1, 1, 1, 1, 1, 1, 1, 1, 1, 1, 1, 1, 1, 1, 1, 1, 1, 1, 1, 1, 1, 1, 1, 1, 1, 1, 1, 1, 1, 1, 1, 1, 1, 1, 1, 1, 1, 1, 1, 1, 1, 1, 1, 1, 1, 1, 1, 1, 1, 1, 1, 1, 1, 1, 1, 1, 1, 1, 1, 1, 1, 1, 1, 1, 1, 1, 1, 1, 1, 1, 1, 1, 1, 1, 1, 1, 1, 1, 1, 1, 1, 1, 1, 1, 1, 1, 1, 1, 1, 1, 1, 1, 1, 1, 1, 1, 1, 1, 1, 1, 1, 1, 1, 1, 1, 1, 1, 1, 1, 1, 1, 1, 1, 1, 1, 1, 1, 1, 1, 1, 1, 1, 1, 1, 1, 1, 1, 1, 1, 1, 1, 1, 1, 1, 1, 1, 1, 1, 1, 1, 1, 1, 1, 1, 1, 1, 1, 1, 1, 1, 1, 1, 1, 1, 1, 1, 1, 1, 1, 1, 1, 1, 1, 1, 1, 1, 1, 1, 1, 1, 1, 1, 1, 1, 1, 1, 1, 1, 1, 1, 1, 1, 1, 1, 1, 1, 1, 1, 1, 1, 1, 1, 1, 1, 1, 1, 1, 1, 1, 1, 1, 1, 1, 1, 1, 1, 1, 1, 1, 1, 1, 1, 1, 1, 1, 1, 1, 1, 1, 1, 1, 1, 1, 1, 1, 1, 1, 1, 1, 1, 1, 1, 1, 1, 1, 1, 1, 1, 1, 1, 1, 1, 1, 1, 1, 1, 1, 1, 1, 1, 1, 1, 1, 1, 1, 1, 1, 1, 1, 1, 1, 1, 1, 1, 1, 1, 1, 1, 1, 1, 1, 1, 1, 1, 1, 1, 1, 1, 1, 1, 1, 1, 1, 1, 1, 1], 'labels': [0, 133, 1260, 16533, 1342, 440, 4, 155, 2867, 88, 10, 1355, 9, 7792, 19, 5, 331, 1621, 13, 10, 675, 9, 65, 76, 8, 423, 24, 21, 3112, 13, 10, 617, 675, 9, 2724, 107, 4, 50118, 1779, 7069, 58, 9608, 15, 545, 4, 406, 4, 1646, 4429, 7, 29277, 5, 1260, 6, 5, 1260, 1658, 3235, 13, 9394, 9, 1270, 8, 26714, 17096, 4, 50118, 133, 1500, 837, 1826, 14, 5, 1260, 222, 45, 555, 10, 22209, 33501, 2348, 128, 18423, 223, 7162, 4431, 1640, 705, 4132, 43, 9, 4657, 3082, 9, 1783, 440, 4, 5138, 9, 9323, 11, 2098, 9, 5, 3235, 1212, 8, 14, 5, 1260, 21, 22, 102, 1621, 7427, 7048, 223, 2810, 30085, 9, 5, 256, 4, 510, 4, 3192, 5833, 8302, 6, 23342, 6, 8, 21, 45, 41, 22526, 18423, 223, 2810, 21358, 9, 5, 8302, 6, 4768, 5, 3235, 4, 50118, 2]}\n"
     ]
    }
   ],
   "source": []
  },
  {
   "cell_type": "code",
   "execution_count": null,
   "id": "33967e8d",
   "metadata": {},
   "outputs": [],
   "source": []
  }
 ],
 "metadata": {
  "kernelspec": {
   "display_name": "Python 3 (ipykernel)",
   "language": "python",
   "name": "python3"
  },
  "language_info": {
   "codemirror_mode": {
    "name": "ipython",
    "version": 3
   },
   "file_extension": ".py",
   "mimetype": "text/x-python",
   "name": "python",
   "nbconvert_exporter": "python",
   "pygments_lexer": "ipython3",
   "version": "3.10.7"
  }
 },
 "nbformat": 4,
 "nbformat_minor": 5
}
