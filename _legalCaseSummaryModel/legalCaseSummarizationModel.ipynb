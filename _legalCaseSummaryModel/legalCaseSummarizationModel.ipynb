{
 "cells": [
  {
   "cell_type": "markdown",
   "id": "0e0bcc41",
   "metadata": {},
   "source": [
    "# Possible models to use\n",
    "\n",
    "## DistilBART - distilled version of BART, which is much smaller than the full BART model but retains much of its performance. Since it is distilled, it's faster and more efficient while still being well-suited for summarization tasks. DistilBART is designed for text summarization, and the cnn-12-6 variant is trained on news articles, making it a viable medium sized model for summarizing legal documents.\n",
    "\n",
    "## T5 (Text-to-Text Transfer Transformer) - Small or Base - T5 treats every task as a text-to-text problem, making it very flexible for summarization. The small and base variants offer a middle ground between performance and model size, making them suitable for use cases where computational resources are limited."
   ]
  },
  {
   "cell_type": "code",
   "execution_count": 3,
   "id": "312bc7bb",
   "metadata": {},
   "outputs": [],
   "source": [
    "from datasets import load_dataset"
   ]
  },
  {
   "cell_type": "markdown",
   "id": "9a281d52",
   "metadata": {},
   "source": [
    "### Here I load the datasets and edit some of the columns prior to tokenizing the datasets"
   ]
  },
  {
   "cell_type": "code",
   "execution_count": 7,
   "id": "ecc784f6",
   "metadata": {},
   "outputs": [
    {
     "name": "stderr",
     "output_type": "stream",
     "text": [
      "Repo card metadata block was not found. Setting CardData to empty.\n"
     ]
    },
    {
     "name": "stdout",
     "output_type": "stream",
     "text": [
      "Dataset({\n",
      "    features: ['text', 'label'],\n",
      "    num_rows: 7773\n",
      "})\n",
      "Dataset({\n",
      "    features: ['text', 'label'],\n",
      "    num_rows: 50\n",
      "})\n",
      "Dataset({\n",
      "    features: ['context', 'endings', 'label'],\n",
      "    num_rows: 45000\n",
      "})\n",
      "Dataset({\n",
      "    features: ['text', 'labels'],\n",
      "    num_rows: 9000\n",
      "})\n",
      "Dataset({\n",
      "    features: ['text', 'labels'],\n",
      "    num_rows: 9000\n",
      "})\n",
      "Dataset({\n",
      "    features: ['text', 'labels'],\n",
      "    num_rows: 55000\n",
      "})\n",
      "Dataset({\n",
      "    features: ['text', 'label'],\n",
      "    num_rows: 60000\n",
      "})\n",
      "Dataset({\n",
      "    features: ['text', 'label'],\n",
      "    num_rows: 5000\n",
      "})\n"
     ]
    }
   ],
   "source": [
    "# Load the datasets\n",
    "ds1_train = load_dataset(\"joelniklaus/legal_case_document_summarization\", split='train')\n",
    "ds1_train = ds1_train.remove_columns(['dataset_name'])\n",
    "ds1_train = ds1_train.rename_column('judgement', 'text')\n",
    "ds1_train = ds1_train.rename_column('summary', 'label')\n",
    "print(ds1_train)\n",
    "\n",
    "# NOTE: This dataset only has 50 rows. It may not be a dataset we want to use.\n",
    "# Although the summaries appear to be good\n",
    "ds2_DatasetDict = load_dataset(\"manasvikalyan/legal-documents-summary\")\n",
    "ds2_actual = ds2_DatasetDict['data']\n",
    "ds2_actual = ds2_actual.remove_columns(['summary_a2'])\n",
    "ds2_actual = ds2_actual.rename_column('summary_a1', 'label')\n",
    "ds2_actual = ds2_actual.rename_column('judgement', 'text')\n",
    "print(ds2_actual)\n",
    "\n",
    "ds3_train = load_dataset(\"coastalcph/lex_glue\", \"case_hold\", split='train')\n",
    "print(ds3_train)\n",
    "ds4_train = load_dataset(\"coastalcph/lex_glue\", \"ecthr_a\", split='train')\n",
    "print(ds4_train)\n",
    "ds5_train = load_dataset(\"coastalcph/lex_glue\", \"ecthr_b\", split='train')\n",
    "print(ds5_train)\n",
    "ds6_train = load_dataset(\"coastalcph/lex_glue\", \"eurlex\", split='train')\n",
    "print(ds6_train)\n",
    "ds7_train = load_dataset(\"coastalcph/lex_glue\", \"ledgar\", split='train')\n",
    "print(ds7_train)\n",
    "ds8_train = load_dataset(\"coastalcph/lex_glue\", \"scotus\", split='train')\n",
    "print(ds8_train)\n"
   ]
  },
  {
   "cell_type": "markdown",
   "id": "7f49b567",
   "metadata": {},
   "source": [
    "### Here I am pre-processing the data for the DistilBART model"
   ]
  },
  {
   "cell_type": "code",
   "execution_count": 12,
   "id": "33c6b0df",
   "metadata": {},
   "outputs": [],
   "source": [
    "from transformers import BartTokenizer"
   ]
  },
  {
   "cell_type": "code",
   "execution_count": 14,
   "id": "687cc31e-c81c-4613-891f-7c61aba144cd",
   "metadata": {},
   "outputs": [
    {
     "data": {
      "application/vnd.jupyter.widget-view+json": {
       "model_id": "cb7de29c1221428f938bf4272db34b3b",
       "version_major": 2,
       "version_minor": 0
      },
      "text/plain": [
       "tokenizer_config.json:   0%|          | 0.00/26.0 [00:00<?, ?B/s]"
      ]
     },
     "metadata": {},
     "output_type": "display_data"
    },
    {
     "data": {
      "application/vnd.jupyter.widget-view+json": {
       "model_id": "fd702fcff78a46f98927e6c527db399c",
       "version_major": 2,
       "version_minor": 0
      },
      "text/plain": [
       "vocab.json:   0%|          | 0.00/899k [00:00<?, ?B/s]"
      ]
     },
     "metadata": {},
     "output_type": "display_data"
    },
    {
     "data": {
      "application/vnd.jupyter.widget-view+json": {
       "model_id": "e8acb5bfcdcd4fe2bc4084e3a4ddd259",
       "version_major": 2,
       "version_minor": 0
      },
      "text/plain": [
       "merges.txt:   0%|          | 0.00/456k [00:00<?, ?B/s]"
      ]
     },
     "metadata": {},
     "output_type": "display_data"
    },
    {
     "data": {
      "application/vnd.jupyter.widget-view+json": {
       "model_id": "8f0439925596475aa372a255b080eb3a",
       "version_major": 2,
       "version_minor": 0
      },
      "text/plain": [
       "config.json:   0%|          | 0.00/1.80k [00:00<?, ?B/s]"
      ]
     },
     "metadata": {},
     "output_type": "display_data"
    },
    {
     "name": "stderr",
     "output_type": "stream",
     "text": [
      "/Library/Frameworks/Python.framework/Versions/3.10/lib/python3.10/site-packages/transformers/tokenization_utils_base.py:1601: FutureWarning: `clean_up_tokenization_spaces` was not set. It will be set to `True` by default. This behavior will be depracted in transformers v4.45, and will be then set to `False` by default. For more details check this issue: https://github.com/huggingface/transformers/issues/31884\n",
      "  warnings.warn(\n"
     ]
    }
   ],
   "source": [
    "# Load the BART tokenizer\n",
    "tokenizer = BartTokenizer.from_pretrained('sshleifer/distilbart-cnn-12-6')"
   ]
  },
  {
   "cell_type": "code",
   "execution_count": 15,
   "id": "14301ed1",
   "metadata": {},
   "outputs": [],
   "source": [
    "# Tokenization function for text and summaries\n",
    "def tokenize_function(examples):\n",
    "    # Tokenize both the input text and summary (label)\n",
    "    model_inputs = tokenizer(examples['text'], max_length=512, truncation=True, padding='max_length')\n",
    "    \n",
    "    # Tokenize the labels (summaries)\n",
    "    with tokenizer.as_target_tokenizer():\n",
    "        labels = tokenizer(examples['label'], max_length=150, truncation=True, padding='max_length')\n",
    "    \n",
    "    model_inputs[\"labels\"] = labels[\"input_ids\"]\n",
    "    \n",
    "    return model_inputs"
   ]
  },
  {
   "cell_type": "markdown",
   "id": "6f60ff4c",
   "metadata": {},
   "source": [
    "### Here I am just Tokenizing 'ds1' and 'ds2' for DistilBART (ds1_train and ds2_actual)\n",
    "\n",
    "### TODO: Tokenize the other datasets later"
   ]
  },
  {
   "cell_type": "code",
   "execution_count": 16,
   "id": "dfffdba3",
   "metadata": {},
   "outputs": [
    {
     "data": {
      "application/vnd.jupyter.widget-view+json": {
       "model_id": "15fae02e6922497c9955f72942851ae1",
       "version_major": 2,
       "version_minor": 0
      },
      "text/plain": [
       "Map:   0%|          | 0/7773 [00:00<?, ? examples/s]"
      ]
     },
     "metadata": {},
     "output_type": "display_data"
    },
    {
     "name": "stderr",
     "output_type": "stream",
     "text": [
      "/Library/Frameworks/Python.framework/Versions/3.10/lib/python3.10/site-packages/transformers/tokenization_utils_base.py:4126: UserWarning: `as_target_tokenizer` is deprecated and will be removed in v5 of Transformers. You can tokenize your labels by using the argument `text_target` of the regular `__call__` method (either in the same call as your input texts if you use the same keyword arguments, or in a separate call.\n",
      "  warnings.warn(\n"
     ]
    },
    {
     "data": {
      "application/vnd.jupyter.widget-view+json": {
       "model_id": "c034274be71a46449ea43b71930d94fe",
       "version_major": 2,
       "version_minor": 0
      },
      "text/plain": [
       "Map:   0%|          | 0/50 [00:00<?, ? examples/s]"
      ]
     },
     "metadata": {},
     "output_type": "display_data"
    }
   ],
   "source": [
    "# Tokenize the datasets for DistilBART (ds1_train and ds2_actual)\n",
    "ds1_train_tokenized = ds1_train.map(tokenize_function, batched=True)\n",
    "ds2_actual_tokenized = ds2_actual.map(tokenize_function, batched=True)"
   ]
  },
  {
   "cell_type": "markdown",
   "id": "35877283",
   "metadata": {},
   "source": [
    "### Here I am concatenating the datasets to use all together\n",
    "\n",
    "### TODO: concatenate the rest of the datasets later"
   ]
  },
  {
   "cell_type": "code",
   "execution_count": 20,
   "id": "4ffc3627",
   "metadata": {},
   "outputs": [],
   "source": [
    "from datasets import concatenate_datasets"
   ]
  },
  {
   "cell_type": "code",
   "execution_count": 23,
   "id": "56941f37",
   "metadata": {},
   "outputs": [],
   "source": [
    "# Concatenate/Merge the datasets\n",
    "combined_dataset = concatenate_datasets([ds1_train_tokenized, ds2_actual_tokenized])"
   ]
  },
  {
   "cell_type": "markdown",
   "id": "f86f71e5",
   "metadata": {},
   "source": [
    "### Splitting the combined dataset into train and validation sets\n",
    "\n",
    "### TODO: concatenate the rest of the datasets later"
   ]
  },
  {
   "cell_type": "code",
   "execution_count": 24,
   "id": "07068ac4",
   "metadata": {},
   "outputs": [],
   "source": [
    "combined_dataset = combined_dataset.train_test_split(test_size=0.2)\n",
    "\n",
    "train_dataset = combined_dataset['train']he \n",
    "val_dataset = combined_dataset['test']"
   ]
  },
  {
   "cell_type": "markdown",
   "id": "d471367f",
   "metadata": {},
   "source": [
    "### Load the DistilBART model here"
   ]
  },
  {
   "cell_type": "code",
   "execution_count": 26,
   "id": "f6f30478",
   "metadata": {},
   "outputs": [],
   "source": [
    "from transformers import BartForConditionalGeneration"
   ]
  },
  {
   "cell_type": "code",
   "execution_count": 27,
   "id": "79105dcf",
   "metadata": {},
   "outputs": [
    {
     "data": {
      "application/vnd.jupyter.widget-view+json": {
       "model_id": "65a78e090e0d4aa8acc2b382f837570a",
       "version_major": 2,
       "version_minor": 0
      },
      "text/plain": [
       "pytorch_model.bin:   0%|          | 0.00/1.22G [00:00<?, ?B/s]"
      ]
     },
     "metadata": {},
     "output_type": "display_data"
    }
   ],
   "source": [
    "# Load the DistilBART model for conditional generation\n",
    "model = BartForConditionalGeneration.from_pretrained('sshleifer/distilbart-cnn-12-6')"
   ]
  },
  {
   "cell_type": "markdown",
   "id": "643bfad9",
   "metadata": {},
   "source": [
    "### Setting up training arguments for the model here\n",
    "\n",
    "### TODO: These can be modified later to improve the model"
   ]
  },
  {
   "cell_type": "code",
   "execution_count": 28,
   "id": "597d3e9f",
   "metadata": {},
   "outputs": [],
   "source": [
    "from transformers import TrainingArguments, Trainer"
   ]
  },
  {
   "cell_type": "code",
   "execution_count": 30,
   "id": "e2db7dc9",
   "metadata": {},
   "outputs": [],
   "source": [
    "# Set up training arguments\n",
    "training_args = TrainingArguments(\n",
    "    output_dir='./results',            # output directory\n",
    "    eval_strategy=\"epoch\",       # evaluate at each epoch\n",
    "    learning_rate=5e-5,                # learning rate\n",
    "    per_device_train_batch_size=4,     # batch size for training\n",
    "    per_device_eval_batch_size=4,      # batch size for evaluation\n",
    "    num_train_epochs=3,                # number of training epochs\n",
    "    weight_decay=0.01,                 # strength of weight decay\n",
    "    save_total_limit=2,                # only keep last 2 checkpoints\n",
    ")"
   ]
  },
  {
   "cell_type": "code",
   "execution_count": 31,
   "id": "fe8bff85",
   "metadata": {},
   "outputs": [],
   "source": [
    "# Initialize the Trainer\n",
    "trainer = Trainer(\n",
    "    model=model,\n",
    "    args=training_args,\n",
    "    train_dataset=train_dataset,\n",
    "    eval_dataset=val_dataset\n",
    ")"
   ]
  },
  {
   "cell_type": "markdown",
   "id": "13fd36e9",
   "metadata": {},
   "source": [
    "### Training the model here"
   ]
  },
  {
   "cell_type": "markdown",
   "id": "8a10ea64",
   "metadata": {},
   "source": [
    "# Possible models to use\n",
    "\n",
    "## DistilBART - distilled version of BART, which is much smaller than the full BART model but retains much of its performance. Since it is distilled, it's faster and more efficient while still being well-suited for summarization tasks. DistilBART is designed for text summarization, and the cnn-12-6 variant is trained on news articles, making it a viable medium sized model for summarizing legal documents.\n",
    "\n",
    "## T5 (Text-to-Text Transfer Transformer) - Small or Base - T5 treats every task as a text-to-text problem, making it very flexible for summarization. The small and base variants offer a middle ground between performance and model size, making them suitable for use cases where computational resources are limited."
   ]
  },
  {
   "cell_type": "code",
   "execution_count": 3,
   "id": "d5403241",
   "metadata": {},
   "outputs": [],
   "source": [
    "from datasets import load_dataset"
   ]
  },
  {
   "cell_type": "markdown",
   "id": "76f5244f",
   "metadata": {},
   "source": [
    "### Here I load the datasets and edit some of the columns prior to tokenizing the datasets"
   ]
  },
  {
   "cell_type": "code",
   "execution_count": 7,
   "id": "cf1ca6e2",
   "metadata": {},
   "outputs": [
    {
     "name": "stderr",
     "output_type": "stream",
     "text": [
      "Repo card metadata block was not found. Setting CardData to empty.\n"
     ]
    },
    {
     "name": "stdout",
     "output_type": "stream",
     "text": [
      "Dataset({\n",
      "    features: ['text', 'label'],\n",
      "    num_rows: 7773\n",
      "})\n",
      "Dataset({\n",
      "    features: ['text', 'label'],\n",
      "    num_rows: 50\n",
      "})\n",
      "Dataset({\n",
      "    features: ['context', 'endings', 'label'],\n",
      "    num_rows: 45000\n",
      "})\n",
      "Dataset({\n",
      "    features: ['text', 'labels'],\n",
      "    num_rows: 9000\n",
      "})\n",
      "Dataset({\n",
      "    features: ['text', 'labels'],\n",
      "    num_rows: 9000\n",
      "})\n",
      "Dataset({\n",
      "    features: ['text', 'labels'],\n",
      "    num_rows: 55000\n",
      "})\n",
      "Dataset({\n",
      "    features: ['text', 'label'],\n",
      "    num_rows: 60000\n",
      "})\n",
      "Dataset({\n",
      "    features: ['text', 'label'],\n",
      "    num_rows: 5000\n",
      "})\n"
     ]
    }
   ],
   "source": [
    "# Load the datasets\n",
    "ds1_train = load_dataset(\"joelniklaus/legal_case_document_summarization\", split='train')\n",
    "ds1_train = ds1_train.remove_columns(['dataset_name'])\n",
    "ds1_train = ds1_train.rename_column('judgement', 'text')\n",
    "ds1_train = ds1_train.rename_column('summary', 'label')\n",
    "print(ds1_train)\n",
    "\n",
    "# NOTE: This dataset only has 50 rows. It may not be a dataset we want to use.\n",
    "# Although the summaries appear to be good\n",
    "ds2_DatasetDict = load_dataset(\"manasvikalyan/legal-documents-summary\")\n",
    "ds2_actual = ds2_DatasetDict['data']\n",
    "ds2_actual = ds2_actual.remove_columns(['summary_a2'])\n",
    "ds2_actual = ds2_actual.rename_column('summary_a1', 'label')\n",
    "ds2_actual = ds2_actual.rename_column('judgement', 'text')\n",
    "print(ds2_actual)\n",
    "\n",
    "ds3_train = load_dataset(\"coastalcph/lex_glue\", \"case_hold\", split='train')\n",
    "print(ds3_train)\n",
    "ds4_train = load_dataset(\"coastalcph/lex_glue\", \"ecthr_a\", split='train')\n",
    "print(ds4_train)\n",
    "ds5_train = load_dataset(\"coastalcph/lex_glue\", \"ecthr_b\", split='train')\n",
    "print(ds5_train)\n",
    "ds6_train = load_dataset(\"coastalcph/lex_glue\", \"eurlex\", split='train')\n",
    "print(ds6_train)\n",
    "ds7_train = load_dataset(\"coastalcph/lex_glue\", \"ledgar\", split='train')\n",
    "print(ds7_train)\n",
    "ds8_train = load_dataset(\"coastalcph/lex_glue\", \"scotus\", split='train')\n",
    "print(ds8_train)\n"
   ]
  },
  {
   "cell_type": "markdown",
   "id": "599cf9cc",
   "metadata": {},
   "source": [
    "### Here I am pre-processing the data for the DistilBART model"
   ]
  },
  {
   "cell_type": "code",
   "execution_count": 12,
   "id": "6043ff3f",
   "metadata": {},
   "outputs": [],
   "source": [
    "from transformers import BartTokenizer"
   ]
  },
  {
   "cell_type": "code",
   "execution_count": 14,
   "id": "2a04ac8a",
   "metadata": {},
   "outputs": [
    {
     "data": {
      "application/vnd.jupyter.widget-view+json": {
       "model_id": "cb7de29c1221428f938bf4272db34b3b",
       "version_major": 2,
       "version_minor": 0
      },
      "text/plain": [
       "tokenizer_config.json:   0%|          | 0.00/26.0 [00:00<?, ?B/s]"
      ]
     },
     "metadata": {},
     "output_type": "display_data"
    },
    {
     "data": {
      "application/vnd.jupyter.widget-view+json": {
       "model_id": "fd702fcff78a46f98927e6c527db399c",
       "version_major": 2,
       "version_minor": 0
      },
      "text/plain": [
       "vocab.json:   0%|          | 0.00/899k [00:00<?, ?B/s]"
      ]
     },
     "metadata": {},
     "output_type": "display_data"
    },
    {
     "data": {
      "application/vnd.jupyter.widget-view+json": {
       "model_id": "e8acb5bfcdcd4fe2bc4084e3a4ddd259",
       "version_major": 2,
       "version_minor": 0
      },
      "text/plain": [
       "merges.txt:   0%|          | 0.00/456k [00:00<?, ?B/s]"
      ]
     },
     "metadata": {},
     "output_type": "display_data"
    },
    {
     "data": {
      "application/vnd.jupyter.widget-view+json": {
       "model_id": "8f0439925596475aa372a255b080eb3a",
       "version_major": 2,
       "version_minor": 0
      },
      "text/plain": [
       "config.json:   0%|          | 0.00/1.80k [00:00<?, ?B/s]"
      ]
     },
     "metadata": {},
     "output_type": "display_data"
    },
    {
     "name": "stderr",
     "output_type": "stream",
     "text": [
      "/Library/Frameworks/Python.framework/Versions/3.10/lib/python3.10/site-packages/transformers/tokenization_utils_base.py:1601: FutureWarning: `clean_up_tokenization_spaces` was not set. It will be set to `True` by default. This behavior will be depracted in transformers v4.45, and will be then set to `False` by default. For more details check this issue: https://github.com/huggingface/transformers/issues/31884\n",
      "  warnings.warn(\n"
     ]
    }
   ],
   "source": [
    "# Load the BART tokenizer\n",
    "tokenizer = BartTokenizer.from_pretrained('sshleifer/distilbart-cnn-12-6')"
   ]
  },
  {
   "cell_type": "code",
   "execution_count": 15,
   "id": "65e4b661",
   "metadata": {},
   "outputs": [],
   "source": [
    "# Tokenization function for text and summaries\n",
    "def tokenize_function(examples):\n",
    "    # Tokenize both the input text and summary (label)\n",
    "    model_inputs = tokenizer(examples['text'], max_length=512, truncation=True, padding='max_length')\n",
    "    \n",
    "    # Tokenize the labels (summaries)\n",
    "    with tokenizer.as_target_tokenizer():\n",
    "        labels = tokenizer(examples['label'], max_length=150, truncation=True, padding='max_length')\n",
    "    \n",
    "    model_inputs[\"labels\"] = labels[\"input_ids\"]\n",
    "    \n",
    "    return model_inputs"
   ]
  },
  {
   "cell_type": "markdown",
   "id": "2f568064",
   "metadata": {},
   "source": [
    "### Here I am just Tokenizing 'ds1' and 'ds2' for DistilBART (ds1_train and ds2_actual)\n",
    "\n",
    "### TODO: Tokenize the other datasets later"
   ]
  },
  {
   "cell_type": "code",
   "execution_count": 16,
   "id": "f7c0671b",
   "metadata": {},
   "outputs": [
    {
     "data": {
      "application/vnd.jupyter.widget-view+json": {
       "model_id": "15fae02e6922497c9955f72942851ae1",
       "version_major": 2,
       "version_minor": 0
      },
      "text/plain": [
       "Map:   0%|          | 0/7773 [00:00<?, ? examples/s]"
      ]
     },
     "metadata": {},
     "output_type": "display_data"
    },
    {
     "name": "stderr",
     "output_type": "stream",
     "text": [
      "/Library/Frameworks/Python.framework/Versions/3.10/lib/python3.10/site-packages/transformers/tokenization_utils_base.py:4126: UserWarning: `as_target_tokenizer` is deprecated and will be removed in v5 of Transformers. You can tokenize your labels by using the argument `text_target` of the regular `__call__` method (either in the same call as your input texts if you use the same keyword arguments, or in a separate call.\n",
      "  warnings.warn(\n"
     ]
    },
    {
     "data": {
      "application/vnd.jupyter.widget-view+json": {
       "model_id": "c034274be71a46449ea43b71930d94fe",
       "version_major": 2,
       "version_minor": 0
      },
      "text/plain": [
       "Map:   0%|          | 0/50 [00:00<?, ? examples/s]"
      ]
     },
     "metadata": {},
     "output_type": "display_data"
    }
   ],
   "source": [
    "# Tokenize the datasets for DistilBART (ds1_train and ds2_actual)\n",
    "ds1_train_tokenized = ds1_train.map(tokenize_function, batched=True)\n",
    "ds2_actual_tokenized = ds2_actual.map(tokenize_function, batched=True)"
   ]
  },
  {
   "cell_type": "markdown",
   "id": "2abbb214",
   "metadata": {},
   "source": [
    "### Here I am concatenating the datasets to use all together\n",
    "\n",
    "### TODO: concatenate the rest of the datasets later"
   ]
  },
  {
   "cell_type": "code",
   "execution_count": 20,
   "id": "7c891d58",
   "metadata": {},
   "outputs": [],
   "source": [
    "from datasets import concatenate_datasets"
   ]
  },
  {
   "cell_type": "code",
   "execution_count": 23,
   "id": "d2ae7082",
   "metadata": {},
   "outputs": [],
   "source": [
    "# Concatenate/Merge the datasets\n",
    "combined_dataset = concatenate_datasets([ds1_train_tokenized, ds2_actual_tokenized])"
   ]
  },
  {
   "cell_type": "markdown",
   "id": "ccc33217",
   "metadata": {},
   "source": [
    "### Splitting the combined dataset into train and validation sets\n",
    "\n",
    "### TODO: concatenate the rest of the datasets later"
   ]
  },
  {
   "cell_type": "code",
   "execution_count": 24,
   "id": "9034b8f2",
   "metadata": {},
   "outputs": [],
   "source": [
    "combined_dataset = combined_dataset.train_test_split(test_size=0.2)\n",
    "\n",
    "train_dataset = combined_dataset['train']he \n",
    "val_dataset = combined_dataset['test']"
   ]
  },
  {
   "cell_type": "markdown",
   "id": "3317006d",
   "metadata": {},
   "source": [
    "### Load the DistilBART model here"
   ]
  },
  {
   "cell_type": "code",
   "execution_count": 26,
   "id": "a641cb05",
   "metadata": {},
   "outputs": [],
   "source": [
    "from transformers import BartForConditionalGeneration"
   ]
  },
  {
   "cell_type": "code",
   "execution_count": 27,
   "id": "e986ef0b",
   "metadata": {},
   "outputs": [
    {
     "data": {
      "application/vnd.jupyter.widget-view+json": {
       "model_id": "65a78e090e0d4aa8acc2b382f837570a",
       "version_major": 2,
       "version_minor": 0
      },
      "text/plain": [
       "pytorch_model.bin:   0%|          | 0.00/1.22G [00:00<?, ?B/s]"
      ]
     },
     "metadata": {},
     "output_type": "display_data"
    }
   ],
   "source": [
    "# Load the DistilBART model for conditional generation\n",
    "model = BartForConditionalGeneration.from_pretrained('sshleifer/distilbart-cnn-12-6')"
   ]
  },
  {
   "cell_type": "markdown",
   "id": "80d36d28",
   "metadata": {},
   "source": [
    "### Setting up training arguments for the model here\n",
    "\n",
    "### TODO: These can be modified later to improve the model"
   ]
  },
  {
   "cell_type": "code",
   "execution_count": 28,
   "id": "a52a723c",
   "metadata": {},
   "outputs": [],
   "source": [
    "from transformers import TrainingArguments, Trainer"
   ]
  },
  {
   "cell_type": "code",
   "execution_count": 30,
   "id": "85bfacea",
   "metadata": {},
   "outputs": [],
   "source": [
    "# Set up training arguments\n",
    "training_args = TrainingArguments(\n",
    "    output_dir='./results',            # output directory\n",
    "    eval_strategy=\"epoch\",       # evaluate at each epoch\n",
    "    learning_rate=5e-5,                # learning rate\n",
    "    per_device_train_batch_size=4,     # batch size for training\n",
    "    per_device_eval_batch_size=4,      # batch size for evaluation\n",
    "    num_train_epochs=3,                # number of training epochs\n",
    "    weight_decay=0.01,                 # strength of weight decay\n",
    "    save_total_limit=2,                # only keep last 2 checkpoints\n",
    ")"
   ]
  },
  {
   "cell_type": "code",
   "execution_count": 31,
   "id": "f8c42886",
   "metadata": {},
   "outputs": [],
   "source": [
    "# Initialize the Trainer\n",
    "trainer = Trainer(\n",
    "    model=model,\n",
    "    args=training_args,\n",
    "    train_dataset=train_dataset,\n",
    "    eval_dataset=val_dataset\n",
    ")"
   ]
  },
  {
   "cell_type": "markdown",
   "id": "c899d475",
   "metadata": {},
   "source": [
    "### Training the model here\n",
    "\n",
    "# START HERE. HAVING ISSUES WITH RUNNING THIS RN"
   ]
  },
  {
   "cell_type": "code",
   "execution_count": 32,
   "id": "7f4836c4",
   "metadata": {},
   "outputs": [
    {
     "ename": "ValueError",
     "evalue": "too many dimensions 'str'",
     "output_type": "error",
     "traceback": [
      "\u001b[0;31m---------------------------------------------------------------------------\u001b[0m",
      "\u001b[0;31mValueError\u001b[0m                                Traceback (most recent call last)",
      "Cell \u001b[0;32mIn [32], line 2\u001b[0m\n\u001b[1;32m      1\u001b[0m \u001b[38;5;66;03m# Train the model\u001b[39;00m\n\u001b[0;32m----> 2\u001b[0m \u001b[43mtrainer\u001b[49m\u001b[38;5;241;43m.\u001b[39;49m\u001b[43mtrain\u001b[49m\u001b[43m(\u001b[49m\u001b[43m)\u001b[49m\n",
      "File \u001b[0;32m/Library/Frameworks/Python.framework/Versions/3.10/lib/python3.10/site-packages/transformers/trainer.py:1938\u001b[0m, in \u001b[0;36mTrainer.train\u001b[0;34m(self, resume_from_checkpoint, trial, ignore_keys_for_eval, **kwargs)\u001b[0m\n\u001b[1;32m   1936\u001b[0m         hf_hub_utils\u001b[38;5;241m.\u001b[39menable_progress_bars()\n\u001b[1;32m   1937\u001b[0m \u001b[38;5;28;01melse\u001b[39;00m:\n\u001b[0;32m-> 1938\u001b[0m     \u001b[38;5;28;01mreturn\u001b[39;00m \u001b[43minner_training_loop\u001b[49m\u001b[43m(\u001b[49m\n\u001b[1;32m   1939\u001b[0m \u001b[43m        \u001b[49m\u001b[43margs\u001b[49m\u001b[38;5;241;43m=\u001b[39;49m\u001b[43margs\u001b[49m\u001b[43m,\u001b[49m\n\u001b[1;32m   1940\u001b[0m \u001b[43m        \u001b[49m\u001b[43mresume_from_checkpoint\u001b[49m\u001b[38;5;241;43m=\u001b[39;49m\u001b[43mresume_from_checkpoint\u001b[49m\u001b[43m,\u001b[49m\n\u001b[1;32m   1941\u001b[0m \u001b[43m        \u001b[49m\u001b[43mtrial\u001b[49m\u001b[38;5;241;43m=\u001b[39;49m\u001b[43mtrial\u001b[49m\u001b[43m,\u001b[49m\n\u001b[1;32m   1942\u001b[0m \u001b[43m        \u001b[49m\u001b[43mignore_keys_for_eval\u001b[49m\u001b[38;5;241;43m=\u001b[39;49m\u001b[43mignore_keys_for_eval\u001b[49m\u001b[43m,\u001b[49m\n\u001b[1;32m   1943\u001b[0m \u001b[43m    \u001b[49m\u001b[43m)\u001b[49m\n",
      "File \u001b[0;32m/Library/Frameworks/Python.framework/Versions/3.10/lib/python3.10/site-packages/transformers/trainer.py:2236\u001b[0m, in \u001b[0;36mTrainer._inner_training_loop\u001b[0;34m(self, batch_size, args, resume_from_checkpoint, trial, ignore_keys_for_eval)\u001b[0m\n\u001b[1;32m   2233\u001b[0m     rng_to_sync \u001b[38;5;241m=\u001b[39m \u001b[38;5;28;01mTrue\u001b[39;00m\n\u001b[1;32m   2235\u001b[0m step \u001b[38;5;241m=\u001b[39m \u001b[38;5;241m-\u001b[39m\u001b[38;5;241m1\u001b[39m\n\u001b[0;32m-> 2236\u001b[0m \u001b[38;5;28;01mfor\u001b[39;00m step, inputs \u001b[38;5;129;01min\u001b[39;00m \u001b[38;5;28menumerate\u001b[39m(epoch_iterator):\n\u001b[1;32m   2237\u001b[0m     total_batched_samples \u001b[38;5;241m+\u001b[39m\u001b[38;5;241m=\u001b[39m \u001b[38;5;241m1\u001b[39m\n\u001b[1;32m   2239\u001b[0m     \u001b[38;5;28;01mif\u001b[39;00m \u001b[38;5;28mself\u001b[39m\u001b[38;5;241m.\u001b[39margs\u001b[38;5;241m.\u001b[39minclude_num_input_tokens_seen:\n",
      "File \u001b[0;32m/Library/Frameworks/Python.framework/Versions/3.10/lib/python3.10/site-packages/accelerate/data_loader.py:550\u001b[0m, in \u001b[0;36mDataLoaderShard.__iter__\u001b[0;34m(self)\u001b[0m\n\u001b[1;32m    548\u001b[0m \u001b[38;5;66;03m# We iterate one batch ahead to check when we are at the end\u001b[39;00m\n\u001b[1;32m    549\u001b[0m \u001b[38;5;28;01mtry\u001b[39;00m:\n\u001b[0;32m--> 550\u001b[0m     current_batch \u001b[38;5;241m=\u001b[39m \u001b[38;5;28;43mnext\u001b[39;49m\u001b[43m(\u001b[49m\u001b[43mdataloader_iter\u001b[49m\u001b[43m)\u001b[49m\n\u001b[1;32m    551\u001b[0m \u001b[38;5;28;01mexcept\u001b[39;00m \u001b[38;5;167;01mStopIteration\u001b[39;00m:\n\u001b[1;32m    552\u001b[0m     \u001b[38;5;28;01myield\u001b[39;00m\n",
      "File \u001b[0;32m/Library/Frameworks/Python.framework/Versions/3.10/lib/python3.10/site-packages/torch/utils/data/dataloader.py:630\u001b[0m, in \u001b[0;36m_BaseDataLoaderIter.__next__\u001b[0;34m(self)\u001b[0m\n\u001b[1;32m    627\u001b[0m \u001b[38;5;28;01mif\u001b[39;00m \u001b[38;5;28mself\u001b[39m\u001b[38;5;241m.\u001b[39m_sampler_iter \u001b[38;5;129;01mis\u001b[39;00m \u001b[38;5;28;01mNone\u001b[39;00m:\n\u001b[1;32m    628\u001b[0m     \u001b[38;5;66;03m# TODO(https://github.com/pytorch/pytorch/issues/76750)\u001b[39;00m\n\u001b[1;32m    629\u001b[0m     \u001b[38;5;28mself\u001b[39m\u001b[38;5;241m.\u001b[39m_reset()  \u001b[38;5;66;03m# type: ignore[call-arg]\u001b[39;00m\n\u001b[0;32m--> 630\u001b[0m data \u001b[38;5;241m=\u001b[39m \u001b[38;5;28;43mself\u001b[39;49m\u001b[38;5;241;43m.\u001b[39;49m\u001b[43m_next_data\u001b[49m\u001b[43m(\u001b[49m\u001b[43m)\u001b[49m\n\u001b[1;32m    631\u001b[0m \u001b[38;5;28mself\u001b[39m\u001b[38;5;241m.\u001b[39m_num_yielded \u001b[38;5;241m+\u001b[39m\u001b[38;5;241m=\u001b[39m \u001b[38;5;241m1\u001b[39m\n\u001b[1;32m    632\u001b[0m \u001b[38;5;28;01mif\u001b[39;00m \u001b[38;5;28mself\u001b[39m\u001b[38;5;241m.\u001b[39m_dataset_kind \u001b[38;5;241m==\u001b[39m _DatasetKind\u001b[38;5;241m.\u001b[39mIterable \u001b[38;5;129;01mand\u001b[39;00m \\\n\u001b[1;32m    633\u001b[0m         \u001b[38;5;28mself\u001b[39m\u001b[38;5;241m.\u001b[39m_IterableDataset_len_called \u001b[38;5;129;01mis\u001b[39;00m \u001b[38;5;129;01mnot\u001b[39;00m \u001b[38;5;28;01mNone\u001b[39;00m \u001b[38;5;129;01mand\u001b[39;00m \\\n\u001b[1;32m    634\u001b[0m         \u001b[38;5;28mself\u001b[39m\u001b[38;5;241m.\u001b[39m_num_yielded \u001b[38;5;241m>\u001b[39m \u001b[38;5;28mself\u001b[39m\u001b[38;5;241m.\u001b[39m_IterableDataset_len_called:\n",
      "File \u001b[0;32m/Library/Frameworks/Python.framework/Versions/3.10/lib/python3.10/site-packages/torch/utils/data/dataloader.py:673\u001b[0m, in \u001b[0;36m_SingleProcessDataLoaderIter._next_data\u001b[0;34m(self)\u001b[0m\n\u001b[1;32m    671\u001b[0m \u001b[38;5;28;01mdef\u001b[39;00m \u001b[38;5;21m_next_data\u001b[39m(\u001b[38;5;28mself\u001b[39m):\n\u001b[1;32m    672\u001b[0m     index \u001b[38;5;241m=\u001b[39m \u001b[38;5;28mself\u001b[39m\u001b[38;5;241m.\u001b[39m_next_index()  \u001b[38;5;66;03m# may raise StopIteration\u001b[39;00m\n\u001b[0;32m--> 673\u001b[0m     data \u001b[38;5;241m=\u001b[39m \u001b[38;5;28;43mself\u001b[39;49m\u001b[38;5;241;43m.\u001b[39;49m\u001b[43m_dataset_fetcher\u001b[49m\u001b[38;5;241;43m.\u001b[39;49m\u001b[43mfetch\u001b[49m\u001b[43m(\u001b[49m\u001b[43mindex\u001b[49m\u001b[43m)\u001b[49m  \u001b[38;5;66;03m# may raise StopIteration\u001b[39;00m\n\u001b[1;32m    674\u001b[0m     \u001b[38;5;28;01mif\u001b[39;00m \u001b[38;5;28mself\u001b[39m\u001b[38;5;241m.\u001b[39m_pin_memory:\n\u001b[1;32m    675\u001b[0m         data \u001b[38;5;241m=\u001b[39m _utils\u001b[38;5;241m.\u001b[39mpin_memory\u001b[38;5;241m.\u001b[39mpin_memory(data, \u001b[38;5;28mself\u001b[39m\u001b[38;5;241m.\u001b[39m_pin_memory_device)\n",
      "File \u001b[0;32m/Library/Frameworks/Python.framework/Versions/3.10/lib/python3.10/site-packages/torch/utils/data/_utils/fetch.py:55\u001b[0m, in \u001b[0;36m_MapDatasetFetcher.fetch\u001b[0;34m(self, possibly_batched_index)\u001b[0m\n\u001b[1;32m     53\u001b[0m \u001b[38;5;28;01melse\u001b[39;00m:\n\u001b[1;32m     54\u001b[0m     data \u001b[38;5;241m=\u001b[39m \u001b[38;5;28mself\u001b[39m\u001b[38;5;241m.\u001b[39mdataset[possibly_batched_index]\n\u001b[0;32m---> 55\u001b[0m \u001b[38;5;28;01mreturn\u001b[39;00m \u001b[38;5;28;43mself\u001b[39;49m\u001b[38;5;241;43m.\u001b[39;49m\u001b[43mcollate_fn\u001b[49m\u001b[43m(\u001b[49m\u001b[43mdata\u001b[49m\u001b[43m)\u001b[49m\n",
      "File \u001b[0;32m/Library/Frameworks/Python.framework/Versions/3.10/lib/python3.10/site-packages/transformers/data/data_collator.py:92\u001b[0m, in \u001b[0;36mdefault_data_collator\u001b[0;34m(features, return_tensors)\u001b[0m\n\u001b[1;32m     86\u001b[0m \u001b[38;5;66;03m# In this function we'll make the assumption that all `features` in the batch\u001b[39;00m\n\u001b[1;32m     87\u001b[0m \u001b[38;5;66;03m# have the same attributes.\u001b[39;00m\n\u001b[1;32m     88\u001b[0m \u001b[38;5;66;03m# So we will look at the first element as a proxy for what attributes exist\u001b[39;00m\n\u001b[1;32m     89\u001b[0m \u001b[38;5;66;03m# on the whole batch.\u001b[39;00m\n\u001b[1;32m     91\u001b[0m \u001b[38;5;28;01mif\u001b[39;00m return_tensors \u001b[38;5;241m==\u001b[39m \u001b[38;5;124m\"\u001b[39m\u001b[38;5;124mpt\u001b[39m\u001b[38;5;124m\"\u001b[39m:\n\u001b[0;32m---> 92\u001b[0m     \u001b[38;5;28;01mreturn\u001b[39;00m \u001b[43mtorch_default_data_collator\u001b[49m\u001b[43m(\u001b[49m\u001b[43mfeatures\u001b[49m\u001b[43m)\u001b[49m\n\u001b[1;32m     93\u001b[0m \u001b[38;5;28;01melif\u001b[39;00m return_tensors \u001b[38;5;241m==\u001b[39m \u001b[38;5;124m\"\u001b[39m\u001b[38;5;124mtf\u001b[39m\u001b[38;5;124m\"\u001b[39m:\n\u001b[1;32m     94\u001b[0m     \u001b[38;5;28;01mreturn\u001b[39;00m tf_default_data_collator(features)\n",
      "File \u001b[0;32m/Library/Frameworks/Python.framework/Versions/3.10/lib/python3.10/site-packages/transformers/data/data_collator.py:141\u001b[0m, in \u001b[0;36mtorch_default_data_collator\u001b[0;34m(features)\u001b[0m\n\u001b[1;32m    139\u001b[0m     label \u001b[38;5;241m=\u001b[39m first[\u001b[38;5;124m\"\u001b[39m\u001b[38;5;124mlabel\u001b[39m\u001b[38;5;124m\"\u001b[39m]\u001b[38;5;241m.\u001b[39mitem() \u001b[38;5;28;01mif\u001b[39;00m \u001b[38;5;28misinstance\u001b[39m(first[\u001b[38;5;124m\"\u001b[39m\u001b[38;5;124mlabel\u001b[39m\u001b[38;5;124m\"\u001b[39m], torch\u001b[38;5;241m.\u001b[39mTensor) \u001b[38;5;28;01melse\u001b[39;00m first[\u001b[38;5;124m\"\u001b[39m\u001b[38;5;124mlabel\u001b[39m\u001b[38;5;124m\"\u001b[39m]\n\u001b[1;32m    140\u001b[0m     dtype \u001b[38;5;241m=\u001b[39m torch\u001b[38;5;241m.\u001b[39mlong \u001b[38;5;28;01mif\u001b[39;00m \u001b[38;5;28misinstance\u001b[39m(label, \u001b[38;5;28mint\u001b[39m) \u001b[38;5;28;01melse\u001b[39;00m torch\u001b[38;5;241m.\u001b[39mfloat\n\u001b[0;32m--> 141\u001b[0m     batch[\u001b[38;5;124m\"\u001b[39m\u001b[38;5;124mlabels\u001b[39m\u001b[38;5;124m\"\u001b[39m] \u001b[38;5;241m=\u001b[39m \u001b[43mtorch\u001b[49m\u001b[38;5;241;43m.\u001b[39;49m\u001b[43mtensor\u001b[49m\u001b[43m(\u001b[49m\u001b[43m[\u001b[49m\u001b[43mf\u001b[49m\u001b[43m[\u001b[49m\u001b[38;5;124;43m\"\u001b[39;49m\u001b[38;5;124;43mlabel\u001b[39;49m\u001b[38;5;124;43m\"\u001b[39;49m\u001b[43m]\u001b[49m\u001b[43m \u001b[49m\u001b[38;5;28;43;01mfor\u001b[39;49;00m\u001b[43m \u001b[49m\u001b[43mf\u001b[49m\u001b[43m \u001b[49m\u001b[38;5;129;43;01min\u001b[39;49;00m\u001b[43m \u001b[49m\u001b[43mfeatures\u001b[49m\u001b[43m]\u001b[49m\u001b[43m,\u001b[49m\u001b[43m \u001b[49m\u001b[43mdtype\u001b[49m\u001b[38;5;241;43m=\u001b[39;49m\u001b[43mdtype\u001b[49m\u001b[43m)\u001b[49m\n\u001b[1;32m    142\u001b[0m \u001b[38;5;28;01melif\u001b[39;00m \u001b[38;5;124m\"\u001b[39m\u001b[38;5;124mlabel_ids\u001b[39m\u001b[38;5;124m\"\u001b[39m \u001b[38;5;129;01min\u001b[39;00m first \u001b[38;5;129;01mand\u001b[39;00m first[\u001b[38;5;124m\"\u001b[39m\u001b[38;5;124mlabel_ids\u001b[39m\u001b[38;5;124m\"\u001b[39m] \u001b[38;5;129;01mis\u001b[39;00m \u001b[38;5;129;01mnot\u001b[39;00m \u001b[38;5;28;01mNone\u001b[39;00m:\n\u001b[1;32m    143\u001b[0m     \u001b[38;5;28;01mif\u001b[39;00m \u001b[38;5;28misinstance\u001b[39m(first[\u001b[38;5;124m\"\u001b[39m\u001b[38;5;124mlabel_ids\u001b[39m\u001b[38;5;124m\"\u001b[39m], torch\u001b[38;5;241m.\u001b[39mTensor):\n",
      "\u001b[0;31mValueError\u001b[0m: too many dimensions 'str'"
     ]
    }
   ],
   "source": [
    "# Train the model\n",
    "trainer.train()"
   ]
  },
  {
   "cell_type": "code",
   "execution_count": 35,
   "id": "37c9cf9d",
   "metadata": {},
   "outputs": [
    {
     "name": "stdout",
     "output_type": "stream",
     "text": [
      "{'text': 'Appeals Nos. 934935 of 1963.\\nAppeals from the judgment and orders dated August 12, 1960, and April 30, 1960, of the Madhya Pradesh High Court in Civil Suit No. 1 of 1958 and Misc.Petition No. 101 of 1958 respectively.\\nC.K. Daphtary, Attorney General, R. Ganapathy Iyer and R. H. Dhebar, for the appellants (in both the appeals).\\nM.C. Setalvad, K. A. Chitale, M. K. Nambyar.\\nRameshwar Nath and section N. Andley, for the respondents (in both the appeals).\\nApril 28, 1964.\\nThe judgment of the Court was delivered by WANCHOO, J.\\nThese two appeals on certificates granted by the Madhya Pradesh High Court raise common questions of law and will be dealt with together.\\nThe respondent the Gwalior Rayon Silk Manufacturing (Weaving) Company Limited (hereinafter referred to as the company) is registered under the Indian Companies Act.\\nIt is necessary to set out how the company came to be established in order to understand the case put forward by the company.\\nIn October 1946 Messrs. Birla Brothers Limited, Gwalior, wrote to the Government of Gwalior that they intended to establish at some suitable place in Gwalior a kind of industrial centre in which they intended to set up certain industries provided certain facilities were granted to them by the Government of Gwalior.\\nThe facilities for which they made the request were (i) free adequate land at a suitable site; (ii) free processing water if obtainable from a river and at a specially concessional rate if obtainable from a dam; and (iii) exemption from any form of taxation on income for a period of fifteen years from the date of the starting of the factories.\\nOn this letter being received, the matter was processed in the Secretariat of the former State of Gwalior.\\nThe Secretariat noting shows that the decision to establish industries in Gwalior was largely to be influenced by the decision of the Gwalior Government as to the facilities asked for.\\nThe Secretariat also noted that no positive scheme regarding the proposed industrial centre had been submitted but that only tentative proposals were made to ascertain if the State was willing to grant the concessions asked for.\\nIt was pointed out that the main question that required consideration was with respect to exemption from any form of taxation on income for a period of fifteen years.\\nIt was also pointed out that no income tax was leviable 895 in that State at that time and that exemption from incometax for period of fifteen years would lead to the establishment of the industries which thereafter would yield income in the shape of taxes to the State.\\nIt was therefore proposed by the Secretariat that the concessions asked for might be granted.\\nLater, however, the period of exemption from taxation on income was reduced from fifteen to twelve years and it was recommended that this might be granted in order to attract the establishment of industries in the State.\\nThe matter was eventually put up before the Ruler on January 18, 1947, and he passed the following order: \"The Guzarish of the Minister for Industries, Commerce and Communications dated 15 11 1946 is sanctioned.\\nExemption from any form of taxation on the income for a period of 12 years from the date of starting of the factories is granted.\\nThe other two concessions he has asked for should be given and attempt should be made to establish and start these factories as early as possible.\\n\" The substance \\'of this order was communicated to Messrs. Birla Brothers Limited and eventually an agreement was entered into on April 7, 1947 between the Government of Gwalior and Messrs. Birla Brothers Limited, which stated that in accordance with the orders of the Ruler dated January 18, 1947, it was hereby agreed to grant and accord the facilities, privileges, concessions and benefits hereinafter mentioned to the said company.\\nThese facilities, privileges, concessions and benefits in the agreement were three, namely (1)provision for sufficient and adequate land or lands absolutely free of any cost, revenue or cess whatsoever, for the construction and erection of factory etc.for starting the industries mentioned in the agreement; (2)making of arrangements for the supply of adequate and sufficient quantities of suitable water, whatever available, for the above mentioned industries on most concessional and suitable terms; (3) granting of exemption to the above mentioned industries and/or any concern or concerns promoted or started or to be hereinafter promoted or started for the establishment and starting of all or any of the above mentioned industries from the payment of all taxes and/or duties, in any form or nature whatsoever, on their incomes, prolits, gains or busi ness, levied or to be hereinafter levied in the Gwalior State, or any part thereof, for a period of twelve years reckoned from the date on which the factory or factories of the abovementioned industries has or have started, working or starts or start working.\\n896 In consequence of this agreement, the company was a started and actual production began sometime in June 1949 so far as the weaving section for manufacturing cloth from artificial silk yarn was concerned.\\nIt may be added that the staple fibre section of the company started actual working on or about February 18, 1954.\\nThat is how the company came to be established and started working in what was the former Gwalior State in pursuance of the agreement of April 7, 1949.\\nBefore however the company actually started working even the weaving section for manufacturing cloth from artificial silk yarn, certain constitutional changes took place in India to which it is now necessary to refer.\\nOn August 15, 1947, India became a Dominion and the process of mergers which eventually resulted in the emergence of the Republic ,of India and its Constitution on January 26, 1950, began.\\nIn that process, the Rulers of Gwalior, Indore and certain other States in what was known as Central India, entered into a covenant for the formation of the United State of Gwalior, Indore and Malwa (also known as Madhya Bharat) in April 1948.\\nArticle VI of that covenant provided that the Ruler ,of each covenanting State shall, as soon as may be practicable, and in any event not later than the first day of July 1948, make over the administration of his State to the Raj Pramukh, and thereupon (1) all rights, authority and jurisdiction belonging to the Ruler, which appertain or are incidental to the Government of the covenanting State shall vest in the United State; (2) all duties and obligations of the Ruler pertaining or incidental to the Government of the covenanting State shall devolve on the United State and shall be discharged by it; (3) all the assets and liabilities of the covenanting State shall be the assets and liabilities \\'of the United State; and (4) the military forces, if any, of the covenanting State shall be the military forces of the United State.\\nClause (2) of this Article also provided that where in pursuance of any agreement of merger, the administration of any other State was made over to the Raj Pramukh, the provisions of cl.(1) would apply to such State as they applied in relation to a covenanting State.\\nOn July 19, 1948, the State of Madhya Bharat acceded to the Dominion of India.\\nOn November 24, 1949, the Raj Pramukh of Madhya Bharat issued a proclamation accepting the provisions of the Constitution of India to be framed for the State of Madhya Bharat also.\\nOn January 26, 1950, the Constitution of India came into force and the United State ,of Gwalior, Indore, Malwa became the Part B State of Madhya Bharat.\\nMeanwhile on December 13, 1948, the United State of Gwalior, Indore, Malwa (Madhya Bharat) Regulation of 897 Government Act, No. I of 1948 was passed.\\nSection 4 of that Act provided that \"when the administration of any covenanting State has been taken over by the Raj Pramukh or when any State has merged in the United State as aforesaid, all laws, Ordinances, Acts, Rules, Regulations etc., having the force of Law in the said State shall continue to remain in force until repealed or amended under the provisions of the next succeeding section, and shall be construed as if references in them to the Ruler or Government of the State were references to the Raj Pramukh or the Government of the United State respectively\".\\nThe company contended that by virtue of this Act read with article VI of the covenant, the liabilities of the covenanting States devolved on the United State of Gwalior, Indore, Malwa (Madhva Bharat).\\nFurther it was contended that under cl.(b) of article 295(l), when the Constitution came into force all rights, liabilities and obligations of the Government of any Indian State corresponding to a State specified in Part B of the First Schedule, became the rights, liabilities and obligations of the Government of India, if the purposes for which such rights were acquired or liabilities or obligations were incurred before such commencement would thereafter be purposes of the Government of India relating to any of the matters enumerated in the Union List.\\nThis was subject to any agreement entered into in that behalf by the Government of India with the Government of the State concerned.\\nIt was therefore contended on behalf of the company that the obligation incurred by the Ruler of Gwalior by virtue of the agreement of April 7, 1947 became the obligation of the Government of India under cl(b) of article 295(1) on January 26, 1950.\\nOn April 1, 1950, the Indian Income tax Act was extended to the Part B State of Madhya Bharat.\\nFrom the same date the Finance Act (No. XXV of 1950) also became applicable to the Part B State of Madhya Bharat by which incometax became chargeable as provided therein on any income accruing or arising in Madhya Bharat, which by then had become part of India.\\nFurther section 13 to the Finance Act, 1950 provided that \"if immediately before the 1st day of April, 1950, there is in force in any Part B State other than Jammu and Kashmir or in Manipur, Tripura or Vindhya Pradesh or in the merged territory of Cooch Behar any law relating to income tax or super tax or tax on profits of business, that law shall cease to have effect except for the purposes of the levy, assessment and collection of income tax and super tax in respect of any period not included in the previous year for the purposes of assessment under the Indian Income tax Act, 1922, for the year ending on the 31st day of March, 1951 or for any subsequent year, or, as the case may be, the levy, assessment and collection of the tax on profits of business L/P(D)ISCI 29 898 for any chargeable accounting period ending on or before the 31st day of March, 1949\".\\nThe effect of this provision was to repeal all laws relating to income tax in its broadest sense prevailing in those parts \\'of India to which the Indian Income tax Act was extended from April 1, 1950.\\nIn the meantime, however, agreements were entered into by the Government of India with Part B States in accordance with the recommendation of the Indian States Finances En quiry Committee, 1948 49 (hereinafter referred to as the Enquiry Committee \\'.\\nThe agreement with the State of Madhya Bharat provided that the recommendations of the said Com mittee contained in Part 1 of its report read with Chapters 1, 11, III of Part 11 of its report insofar as they apply to the State of Madhya Bharat together with the recommendations contained in Chapter IX of Part 11 of its report were accepted by the parties subject to certain modifications and this agreement was in force for a period of ten years.\\nFurther in order to overcome difficulties which might arise on the application of the Indian Income tax Act, 1922 to Part B States and other areas which became merged with India, section 60 A was introduced in the Income tax Act in the following terms: \"Power to make exemption etc., in relation to merged territories or to any Part B State or to Chandernagore If the Central Government considers it necessary or expedient, so to do for avoiding any hardship or anomaly, or removing any difficulty that may arise as a result of the extension of this Act to the merged territories. or to any Part, B State. . the Central Government may, by general or special order, make an exemption, reduction in rate or other modification in respect of income tax in favour of any class of income, or in regard to the whole or any part of the income of any person or class of persons.\\n\" In pursuance of this power, the Central Government issued the Part B States (Taxation Concessions) Order, 1950 (here inafter referred to as the Concessions Order), which fixed reduced rates of income tax and super tax for Part B States.\\nClause 16 of that Order is material for our purpose and was in these terms: \"Concession to industrial undertakings (1) Where any industrial undertaking situated in any State claims that it has been granted any exemption from or concession in respect of income tax or super tax by the Ruler of an Indian State and was enjoying such exemption or concession immediately before the appointed day it shall submit 899 an application to the Commissioner of Income tax giving the following particulars: 1.Name of the industrial undertaking.\\nStatus (ie.whether public or private company\", firm, individual or Hindu undivided family).\\nNature of the business.\\nDate of commencement of the business.\\nNature of the concession granted.\\nPeriod for which concessions granted.\\nUnexpired period of the concessions after the appointed day.\\n(2) Every such application shall be accompanied by the orders in original of the Indian State granting the concession together with a certified copy of the order.\\n(3) The Commissioner shall after obtaining such other information as he may require, forward the application to the Central Government which, having regard to all the circumstances of the case, may grant such relief, if any, as it thinks appropriate.\\n\" In December 1950, the company applied under cl. 16 of the Concessions Orders for concessions regarding income tax and super tax.\\nIn November 1951, the company was informed that the Government of India had decided to exempt it from income tax and super tax for the assessment years 1950 51 to 1954 55 in respect of the weaving section.\\nThe company wanted exemption for the full period of twelve years as pro vided in the agreement of 1947, but was asked to apply later and eventually the Central Government granted exemption to the weaving section for another five years from 1955 56 to 1959 60.\\nThe company \\'s request for exemption of the staple fibre section which began working in April 1954 was rejected by the Government of India.\\nIn the meantime assessment proceedings had been initiated by the Income tax Officer, A Ward, Gwalior against the company and assessment orders were passed in March 1955, March 1956 and March 1957 with reference to the weaving section for the assessment years 1950 51, 1951 52 and 1952 53.\\nThe company appealed to the Assistant Appellate Commisssioner against these orders.\\nAs the contention of the company was that it was entitled to exemption in accordance with the agreement of April 7, 1947 consequent on the order of the Ruler of Gwalior dated January 18, 1947, it filed a suit on November 23, 1956 against the Union of India for a declaration that under the order dated January 18, 1947 and the agreement L/P(D)ISCI 30 900 following thereon, the company was entitled to exemption from income tax and super tax and for other reliefs in the alternative.\\nThis suit was transferred in 1958 to the High Court on the application of the company under article 228 of the Constitution.\\nWhile this suit was pending the company filed a petition under article 226 of the Constitution on September 11, 1957 in which also it claimed that by virtue of the order of the Ruler of Gwalior dated January 18, 1947 and the agreement following thereon, it was entitled to exemption from incometax and super tax for a period of 12 years from June 1949 with respect to the weaving section and for a period of 12 years from February 1954 with respect to the staple fibre section of the company and for other consequential reliefs in the alternative.\\nThe High Court of Madhya Pradesh accepted the petition of the company and a direction was issued restraining the Union of India and its officers from making any assessment under the Income tax Act and levying or collecting income tax or super tax in contravention of the exemption given by the agreement dated April 7. 1947.\\nFurther the proceedings taken by the income tax authorities in contravention of the said exemption were quashed.\\nIn view of this decision on the writ petition, the High Court decreed the suit in the same terms.\\nThe High Court however gave certificates to the Union of India and its officers to appeal to this Court; and that is how there are two appeals before us.\\none against the decree passed in the suit and the other against order in the writ petition, though as we have said already, the points involved in the two appeals are exactly the same.\\nThree main contentions were raised on behalf of the company in the High Court.\\nIn the first place it was urged that the order dated January 18, 1947 was a special law.\\nIt was continued by the State of Madhya Bharat by Act No. 1 of 1948 and it continued after the Constitution came into force by virtue of article 372.\\nIt was not repealed either by the extension of the Income tax Act to the State of Madhya Bharat from April 1, 1950 or by section 13 of the Finance Act, 1950, which applied to the State of Madhya Bharat from the same date.\\nIn this connection reliance was placed on the agreement between the President of India and the State of Madhya Bharat dated February 25, 1950 to show that there could be no intention to repeal this special law merely by the extension of the Income tax Act to the State of Madhya Bharat or by section 13 of the Finance Act.\\nIn the alternative it was submitted that if the order of January 18, 1947 did not have the force of law the agreement of April 7, 1947 between the Ruler of Gwalior and the com pany created an obligation which was binding on the former State of Gwalior.\\nThat obligation continued to be binding 901 on the State of Madhya Bharat as it was before the Constitu tion came into force by virtue of Act No. 1 of 1948 read with article VI of the covenant.\\nFurther that obligation of the State of Madhya Bharat devolved on the Government of India by cl.(b) of article 295 (1) of the Constitution.\\nThe obligation thus being a constitutional obligation was not and could not be affected by the extension of the Income tax Act to the Part B State of Madhya Bharat read with the Finance Act, 1950, and could only be got rid of by an amendment of the Constitution, as cl.(b) of article 295 (1) made it into a constitutional obligation which could not be affected even by law.\\nThirdly reliance was placed on the agreement between the President of India and the State of Madhya Bharat dated February 25, 1950 under article 278 of the Constitution and it was contended that this agreement was binding under article 278 (1) (a) of the Constitution and the result of the agreement was that the concessions granted in the agreement in favour of industrial corporations would continue and could not be affected even by the enactment of a law in the shape of the extension of the Income tax Act to the Part B State of Madhya Bharat read with the Finance Act, 1950.\\nThe High Court held that the order dated January 18, 1947 was a law and that it continued in force by virtue of Act I of 1948 of the State of Madhya Bharat and article 372 of the ,Constitution and that it was not repealed by the extension of the Income tax Act to the State of Madhya Bharat read with section 13 of the Finance Act, 1950.\\nIt further held that in view of cl.(b) of article 295 (1) of the Constitution there was a clear positive instruction in the Constitution that the obligations devolving thereby would be fulfilled and therefore the Government of India was bound to fulfil them irrespective of the extension of the Income tax Act read with the Finance Act to the State of Madhya Bharat from April 1, 1950.\\nThe High Court summed up its conclusion as follows: 1.that the order dated January 18, 1947 of the Ruler of Gwalior State exempting the company from taxation had the effect of law and the agreement executed on April 7, 1947 cast an obligation on the Gwalior Government to exempt the ,company from taxation; 2.that by virtue of sections 3 and 4 of Madhya Bharat Act No. 1 of 1948, the company \\'s right to get the exemption received legislative recognition and the State of Madhya Bharat was bound to discharge the obligation undertaken by the Ruler of the Gwalior State which devolved on it; 3.that it was this obligation of the Madhya Bharat Government to fulfil the obligation undertaken by the Ruler of Gwalior State of granting exemption to the company that 902 devolved on the Government of India under article 295 (1) (b) and became a constitutional obligation of that Government; and 4.that on a true construction of the relevant provisions of the Income tax Act, section 13 of the Finance Act of 1950, and cl. 16 of the Taxation Concessions Order 1950, they did not repeal the specific exemption granted to the company by spe cial statutory provisions and that therefore the company \\'s claim for exemption from taxation was well founded.\\nThe argument based on article 278 does not seem to have been considered by the High Court; but it has been urged before us by learned counsel for the company in support of the con clusions of the High Court.\\nThe questions that were raised in the High Court have all been raised before us and we now proceed to deal with them seriatim.\\nThe first question that falls for consideration is whether the order of January 18, 1947, is a law.\\nIn this connection it is contended on behalf of the company that the order must be looked at independently of the agreement of April 7, 1947 which followed it and looked at in that way it must be held to be a law.\\nOn the other hand, learned Attorney General urges that the order was passed by the Ruler in connecting with a process which started with the letter of Birla Brothers Limited dated October 17, 1946 and ended with the agreement of April 7, 1947.\\nBirla Brothers Limited had asked for certain concessions in order to enable them to start certain industries in Gwalior and that matter was processed in the Secretariat of the former State of Gwalior.\\nNaturally as concessions could not be granted without the sanction of the Ruler, the matter was put up before the Ruler whether he would agree to rant concessions and the order of January 18, 1947 is nothing more than the Ruler \\'s acceptance of the prayer for grant of concessions which eventually culminated in the agreement of April 7, 1947.\\nThe learned Attorney General therefore contends that the order must be read in the context in which it was passed and if so read, it cannot be law.\\nBefore we consider the rival contentions in this behalf \\' we would like to clear the ground with respect to orders of absolute Rulers.\\nThe High Court has relied in this connec tion on two decisions of this Court, viz. Ameer un Nissa Begum vs Mehboob Begum(1), and the Director of Endowments Government of Hyderabad vs Akram Ali(2).\\nIn these cases it was observed that the Firmans were expressions of the sover eign will of the Nizam and they were binding in the same way as any other law; and therefore so long as a particular Firman (1)A.I.R (2) A.I.R. 1956 S.C. 60.903 held the field, that alone would govern or regulate the rights of the parties concerned and that the word of the Nizam was law.\\nIt was on these general observations that the High Court relied to hold that the order of January 18, 1947 was law.\\nSince then, however, this Court bad occasion to consider these observations in three cases, namely: (I) Maharaja Shree Umaid Mills Ltd. vs Union of India(1), (2) the State of Gujarat vs Vara Fiddali Badruddin Mithibar(2) and (3) Rajkumar Narsingh Pratap Singh Deo vs The State of Orissa(3).\\nIt has been pointed out in these cases that the observations in the earlier cases were not intended to lay down a general proposition that in the case of an absolute monarch no distinction can be made between his legislative and his executive acts.\\nIn Maharaja Shree Umaid Mills Limited(1), the agreement between the Ruler and the Mills pursuant to the order of the Ruler was held to be a mere contract and not a law within the meaning of article 372.\\nThe same view has been expressed by four learned Judges in the case of Vara Fiddali Badruddin Mithibar(2).\\nFinally in Rajkumar Narsingh Pratap Singh Deo \\'s case(3) it was held that this Court had not laid down a general proposition about the irrelevance or inapplicability of the well recognised distinction between legislative and executive acts in regard to the orders issued by absolute monarchs and that the true legal position was that whenever a dispute arose as to whether an order passed by an absolute monarch represented a legislative act all relevant factors must be considered before the question was answered.\\nThese relevant factors were, the nature of the order, the scope and effect of its provisions, its general setting and context, the method adopted by the Ruler in promulgating legislative as distinguished from executive orders, these and other allied matters would have to be examined before the character of the order is judicially determined.\\nWe need only add that this must be so when the contention is that a particular order of the Ruler has been continued as a law by article 372 of the Constitution.\\nWe cannot impute to the Constitution makers an intention to continue each and every order of an absolute Ruler as a law whatsoever be its nature.\\nWhen article 372 of the Constitution speaks of continuance of laws in 1950 the jurisprudential distinction between legislative, judicial and executive acts must have been present in the mind of the Constitution makers and that distinction must always be kept in mind by courts in deciding whether a particular order of an absolute Ruler is law for the purpose of its continuance under article 372.\\nIt may be that the order might not be liable to challenge by any one in the State, while the Ruler was there and in that sense the word of a Ruler might be law in his State.\\nBut when we are (1) [1963] Supp. 2 S.C.R. 515.(2) A.I.R. 1964 S.C. 1043.(3) ; 904 considering whether a particular order of a Ruler continues under article 372 as law we cannot forget the jurisprudential distinction between legislative, judicial and executive acts and only those orders of the Ruler which are jurisprudentially legislative acts will continue as laws under article 372 of the Constitution.\\nTherefore simply because the order dated January 18, 1947 was passed by an absolute Ruler it does riot necessarily follow that it is law for the purpose of article 372 and we have to see after looking into all the various considerations referred to above whether the order can be jurisprudentially said to be a law in order that it may continue as law under article 372 of the Constitution.\\nLet us therefore see the circumstances in which the order came to be passed.\\nWe have already referred to the fact that on October 17, 1946, Birla Brothers Limited wrote to the Government of Gwalior saying that they intended to establish in some suitable place in Gwalior a kind of industrial centre in which certain new industries would be located provided certain facilities requested by them were granted by the Government.\\nThe facilities requested were three namely, (i) provision for adequate land free at a suitable place (ii) Supply of water free or at a concessional rate, and (iii) exemption from any form of taxation on income for a period of fifteen years from the date of the starting of the factory.\\nIt also appears that the industries would have been started in Gwalior only if the concessions were granted.\\nThis request in the letter of October 17, 1946 was processed in the Secretariat of the former Gwalior State.\\nThe entire file has apparently not been placed before the court but from whatever material is available on the record it appears that there was first a note by the office.\\nThereafter the Secretary of the department concerned gave his opinion in which it was pointed out that Birla Brothers Limited would only establish industries in Gwalior State if they got the concessions.\\nThen there is the vinanti by the Minister concerned.\\nThe Minister made it clear that no positive scheme had been submitted but only tentative proposals were made to ascertain if the State would be willing to grant the concessions asked for.\\nThe Minister also pointed out that there was no income tax in the State at that time and so if concession from such taxation was granted it would lead to establishment of industries which after fifteen years might be made liable to such taxes yielding additional income to the State.\\nTherefore the Minister recommended that the concessions as to income tax as well as the other two concessions might be granted.\\nThis report was made on November 15, 1946.\\nOn November 17, 1946, the Ruler made the following note thereon: \"Submit personally on my return\".\\nIt cannot be the case of the company that even this order of the Ruler requiring papers to be submitted on his return was a law, though 905 it was certainly an order requiring the Minister to submit papers again when the Ruler returned from somewhere.\\nThen on January 17, 1947, there was a Guzarish.\\nIn this Guzarish it was said that the concessions which had been asked for a period of fifteen years would be accepted if granted for twelve years.\\nIt was also made clear that unless such concessions were granted Birla Brothers Limited would not be induced to open factories within the State.\\nThen followed the order of the Ruler dated January 18, 1947, headed Darbar Order, which we have already set out.\\nThis order is apparently on the relevant file and it is not in dispute that it was never published, though it was usual by that time in the State of Gwalior to publish laws in some form or other: see, Madhaorao Phalke vs The State of Madhya Bharat(1).\\nApart however from the fact that this order was never published in any form the circumstances in which it came to be made also clearly show that the Ruler while passing the order was merely telling his officers that they could go ahead to comply with the request of Birla Brothers Limited for the three concessions that they wanted.\\nThe form of the order also shows that it could not be law.\\nThe order consists of three sentences.\\nThe first sentence says that \"the Guzarihs of the Minister. dated 15 11 1946 is sanctioned\".\\nObviously such a sanction for certain concessions cannot be law.\\nThen comes the sentence: \"exemption from any form of taxation on the income for a period of 12 years from the date of starting of the factories is granted\".\\nIt is this sentence which according to the company is law.\\nIt may however be mentioned that there was no law as to income tax in Gwalior State at the time and all that this sentence could mean in the cir cumstances was that the Ruler was telling his officers that they might assure Birla Brothers Limited that he would not subject them to income tax for 12 years, even if a law as to incometax came to be passed later on.\\nIn the circumstances we do not think that this sentence which was a promise to exempt Birla Brothers Limited from income tax, if and when a law of income tax was passed in future, can jurisprudentially be called a law.\\nLooking at the matter jurisprudentially, the sentence means that if and when the Ruler came to pass a law as to income tax he would include therein a provision exempting Birla Brothers Limited for the period mentioned in the order.\\nWe are therefore of opinion that this sentence even by itself cannot amount to law.\\nThen follows the third sentence, which is divided into two parts.\\nThe first part says that \"the other two concessions he has asked for should be given\".\\nThis cannot obviously be law and it is not even contended on behalf of the company that the concessions as to giving of land free and giving of water free or at concessional rate were law.\\nThen follows the second part of the sentence ; , at 966 67. 906 which says that \"attempt should be made to establish and start these factories as early as possible\".\\nThis cannot possibly be called law and even the company does not contend that this part of the sentence is a law promulgated by the Ruler of Gwalior.\\nReading the order as a whole therefore it is obvious that the officers of the Ruler put up the request of Birla Brothers Limited for certain concessions for his order in order that they might be able to go forward and in particular make provision for land and water for the company to be started by Birla Brothers Limited.\\nTherefore as we read this order of January 18, 1947, it appears that by this order the Ruler of Gwalior was saying that he was agreeable to the request of Birla Brothers Limited asking for concessions in order to enable them to start certain industries in Gwalior and that he would grant them concessions if they started industries in Gwalior.\\nThis order was apparently communicated to Birla Brothers Limited and it was followed on April 7, 1947 by a formal agreement between the State and Birla Brothers Limited.\\nWhatever doubt might there have been as to the nature of the order, that is in our opinion completely set at rest by the fact that it was followed 2 1/2 months later by an agreement which specifically recited that in accordance with the orders of the Darbar dated January 18, 1947, the agreement was being entered into in order to grant and accord certain facilities etc. to the company.\\nLooking at the matter therefore in the entire context beginning with the letter of Birla Brothers Limited of October 17, 1946 and ending with the agreement of April 7, 1947, all that in our opinion the order of January 18, 1947 says is that the Ruler was agreeable to grant the concessions and that his officers could proceed to take further steps necessary for the purpose.\\nWe are not prepared to accept the argument on behalf of the company that the order of January 18, 1947 must be read independently of the agreement of April 7, 1947 simply because the order did Dot say that an agreement should be taken from Birla Brothers Limited.\\nThe absence in the order of any reference to any agreement in our opinion makes no difference in the context in which the order came to be passed and we have no difficulty in holding that the order of January 18, 1947 was not a law by which the Ruler of Gwalior granted exemption from income tax to the company to be established.\\nIt only amounted to a signification of the Ruler \\'s acceptance of the request for concessions made by Birla Brothers Limited and an order to his officers to proceed further in the matter after this signification of the Ruler \\'s acceptance of the request.\\nThat the matter was processed further is clear from the fact that on April 7, 1947 an agreement was entered into between the Government of Gwalior and Birla Brothers Limited incorporating the terms acceptance of which had been signified by the Ruler of Gwalior on January 18, 1947.\\nThe fact that the 907 order is called a Darbar Order is again of no significance for it was the Ruler who was signifying his acceptance of the request and the matter was cast in the form of a Darbar Order because his officers would have to carry out what he had decided.\\nThere is therefore no doubt that the order of January 18, 1947 cannot be read independently of the agreement of April 7, 1947 and must be read in the context of the entire set of circumstances beginning from the letter of Birla Brothers Limited dated October 17, 1946 and ending with the agreement of April 7, 1947 and so read the order must be held to be a mere signification of the acceptance of the request and cannot be held to be a law even with respect to that part of it which dealt with exemption from income tax.\\nFurther the form and content of the order are against its being a law.\\nFinally the fact that it was never published and remained only on the file concerned has also a bearing on the question and shows that it was not a law but a mere signification of the Ruler \\'s acceptance of the request made by Birla Brothers Limited.\\nIt is plain that the order must in the context be treated as one step in the negotiations between the parties which ultimately led to the agreement; and so it would be idle to dissociate it from the said negotiations and treat it as a law.\\nBesides the fact that the parties entered into a formal contract in writing embodying these concessions by the Ruler as consideration for the obligation on the part of Birla Brothers Limited to start the named industries in Gwalior State, is really decisive to negative the argument urged by the company.\\nThe agreement having force as a contract undoubtedly that was the intention both of the Government of the Ruler and Birla Brothers Limited is wholly irreconcilable with a law operating side by side simultaneously and de hors the contract.\\nAs we have come to the conclusion that the order of January 18, 1947 is not a law, we think it unnecessary to consider whether if it was a law it could be said to have been re pealed by the extension of the Income tax Act read with section 13 of the Finance Act, 1950 to the State of Madhya Bharat.\\nNor is it necessary to consider what the effect of the agreement between the President of India and the State of Madhya Bharat dated February 25, 1950 would be on the question of repeal and whether that agreement supports the view that in the circumstances there could be no repeal.\\nThis brings us to the alternative argument based on article 295 (1) (b) of the Constitution read with the agreement of April 7, 1947.\\nThe argument on behalf of the company is that in view of article 295 (1)(b) the obligation cast on the Ruler of Gwalior by the agreement of April 7, 1947 became the obligation of the Government of India through the Government of Madhya Bharat, and this was a constitutional obligation which could not be affected by the extension of the 908 Income tax Act to the Part B State of Madhya Bharat, from April 1, 1950.\\nit is contended that the obligation being cast by the Constitution its binding force could only be taken away by the amendment of the Constitution and that no law, even if it was good law, could take away the exemption granted by the agreement.\\nOn the other hand, learned Attorney General contends that article 295 (1) merely provides in the context of the coming into existence of the sovereign State of \\'the Republic of India for the devolution of the property and assets, and the rights, liabilities and obligations of the Governments of the former Indian States corresponding to State specified in Part B of the First Schedule to the Constitution.\\nHe, therefore, contends that article 295 (1) (b), when it provides that the liabilities and obligations of any Indian State corresponding to a State specified in Part B of the First Schedule to the Constitution shall in the circumstances mentioned therein be the liabilities and obligations of the Government of India, it only means that for the purposes of the rights and liabilities arising for example out of an agreement between the previous Indian State and any other person, the Govern ment of India will in the circumstances mentioned in article 295 (1) (b) be substituted for the Indian State concerned.\\nHe further contends that article 295 (1) (b) does not in any manner make the liabilities and obligations arising particularly out of contract any the more binding on the Government of India than would have been the case as against the State which originally entered into the contract and that it is not correct to say that article 295 (1) (b) cast any constitutional obligation on the Government of India to honour the liabilities and obligations.\\nIt is urged that Government of India would have the same defences against a contract as the previous Indian State which originally entered into it would have had, and that article 295 (1) (b) is not a fetter on the power of Parliament to legislate in respect of matters with which such contract is concerned and that such legislation would prevail against contract if Parliament was competent to enact it and it did not in any way transgress the constitutional limitations.\\nWe are of opinion that the submission of the learned Attorney General is correct.\\narticle 295 appears in Part XII of the Constitution dealing with finance, property, contracts and suits.\\nThis Part is divided into three chapters.\\nThe first chapter deals with finance and provides for a consolidated fund (article 266), a contingency fund if necessary (article 267), and for the distribution of public revenues between the Union and the States (articles 268 to 272) and grants by the Union to the States (articles 273 and 275).\\nArticle 277 provides for savings with respect to certain taxes, duties, cesses and fees which were being lawfuly levied by any Government before the constitution came into force and article 278 provides for an 909 agreement between the Union and the States for a period not exceeding ten years, with respect to certain matters.\\nThe other Articles upto article 284 in this chapter provide for the Finance Commission and make other miscellaneous provision in financial matters relating to public revenues.\\nThese provi sions dealing with finances have nothing to do with legislative competence of Parliament or of State legislatures.\\nArticles 285 to 289 certainly affect legislative competence but that is because they make provision in express terms in that behalf.\\nArticles 290 and 291 deal with certain financial adjustments and privy purses of Rulers.\\nChapter 11 relates to borrowing and has nothing to do with legislative competence.\\nThen comes Chapter 111, which deals with property, contracts, rights, liabilities, obligations and suits.\\nArticle 294 provides for the devolution of property and assets, and rights, liabilities and obligations as between the Union and the previous Provinces which became Part A States when the Constitution came into force.\\nSimilarly article 295 provides for devolution of property and assets, and rights, liabilities and obligations between the Union and what were Part B States when the Constitution came into force.\\nThese provisions as to devolution of property and assets, and rights, liabilities and obligations were necessary when the Republic of India came into existence.\\nBut there is nothing either in article 294 or article 295 which in any way fetters the legislative competence either of the Union or of the State legislatures.\\nThese provisions had to be made in view of List I and List 11 which defined the ambit of the power of the Union and the States respectively \\'.\\nbut the effect of these provisions so far as rights, liabilities and obligations are concerned, was only to substitute the Union or the States, as the case may be, in place of the old British Indian Provinces or the old Indian States which became respectively Part A and Part B States under the Constitution.\\nThese provisions relating to devolution of rights, liabilities and obligations were therefore made only to substitute in place of the old British Indian Provinces and the old Indian States either the Union or Part A or Part B States in accordance with the scheme of division contained in List I and List 11 of the Seventh Schedule to the Constitution.\\nThey did not confer any greater sanctity on contracts, for example, entered into by an old Indian State with other persons, and did not cast any fresh obligation on the Union or the new Part A or Part B State over and above what was already cast on the previous States by contracts when they were made.\\nThe defences which would have been open to the old Indian States or the old British Indian Provinces would still be open I to the Union or Part A or Part B States against such contracts and the fact that articles 294 and 295 provided for devolution made no change in their essential nature as contracts merely.\\nWe have not therefore been able to understand what exactly 910 is meant by saying that contracts existing from before were converted into constitutional obligations which could only be changed by an amendment of the Constitution and could not be affected even by law validly passed after the Constitution came into force.\\nStress has particularly been laid on the words \"shall be the rights, liabilities and obligations of the Government of India\" in article 295 (1) (b) and it is suggested that that means that there was clear positive instruction that the obligations so devolving shall be fulfilled, We do not read any such meaning in these words and as we see them they only provide that liabilities and obligations on the Government of India shall be the same as in the case of the previous Indian State which originally entered into contract and therefore the Government of India will have the same defences to such a contract as the previous Indian State would have bad; further if the contract could be affected by legislation previously it could equally be affected by legislation after the provision in article 295(l)(b).\\nIf contracts entered into by the Union could be overborne or nullified by law competently enacted, the obligations devolving on the Union under article 295 (1) (b) do not enjoy any higher sanctity or immunity from the effect of legislation.\\nSimilar words occur in article 294 (b), and what we have said about article 295 (1) (b) may be illustrated with respect to article 294 (b).\\nSuppose a contract had been entered into by the Dominion of India which was not in accordance with section 175 of the Government of India Act, 1935, corresponding to article 299 of the Constitution.\\nSurely it cannot be contended that simply because article 294 (b) says that liabilities and obligations of the Dominion of India shall be the liabilities and obligations of the Government of India, under the Constitution, it would not be open to the Government of India to raise the defence that the contract was not binding on it as it was not entered into in accordance with section 175 of the Government of India Act, 1935, because these words in article 294 (b) amounted to a clear positive instruction that obligations devolving shall be fulfilled.\\nWe have no doubt therefore that neither article 294 nor article 295 cast any such obligation to the effect that the obligation shall be fulfilled, even though it might not have been binding on the previous Indian State which entered into it and even though the previous State might have the right to affect the contract by legislation provided the law passed was valid.\\nThe position in our opinion is the same even after the devolution provided in articles 294 and 295, and all that these Articles have done is to substitute in place of the previous States or the British Indian Provinces, the Government of India or Part A or Part B States, as the case may be.\\nThe devolution of the rights and liabilities prescribed by article 295 does not involve and is not intended to involve any change in the character of the said rights and liabilities; and 911 so pleas which could have been raised in respect of the said rights and liabilities prior to the devolution remain entirely unaffected.\\nThere is therefore no question of any constitutional obligation being cast by the provisions contained in ,article 295 (1) (b) on the Government of India to fulfil the contracts irrespective of whether they were binding on the original State which entered into them and whether they can be affected by law validly passed after the Constitution came into force.\\nWe may in this connection refer to the decision in Maharaja Shree Umaid Mills Ltd.(1) where it was held that there was nothing in article 295 to show that it fettered for all time to come, the power of the Union legislature to make modifications or changes in the rights, liabilities and obligations which bad vested in the Government of India.\\nThe legislative competence of the Union legislature or even of the State legislature could only be circumscribed by express prohibition contained in the Constitution itself and unless and until there was any provision in the Constitution expressly prohibiting legislation on the subject either absolutely or conditionally, there was no fetter or limitation on the plenary powers which the legislature enjoyed to legislate on the topics enumerated in the relevant lists.\\nThere is nothing in article 295 which expressly prohibits Parliament from enacting a law as to income tax in territories which became Part B States and which were formerly Indian States, and such a prohibition cannot be read into article 295 by virtue of some contract that might have been made by the then Ruler of an Indian State with any person.\\nFurther in State of Rajasthan vs Shyam Lal(2), this Court pointed out that even though liability or obligation may be cast on the Government of India or Part A or Part B State by articles 294 and 295 of the Constitution, such liability or obligation was always subject to any law made by the new State repealing the old laws and the liabilities arising thereunder or even otherwise, provided the law so made was within the competence of the new State and did not transgress the constitutional limitations.\\nThe fact that the obligation of the Ruler of Gwalior under the agreement of April 7, 1947, devolved on the Government of India eventually by virtue of article295 (1) (b) therefore would not take away the power of parliament to pass a valid law within its competence which does not transgress the constitutional limitations, and which might affect the obligation arising out of the agreement of April 7, 1947, and even completely superseding it.\\nWe have therefore to see what happened after the Consti tution came into force and whether any law was passed by Parliament which in any way affected the agreement of 1947.\\nReliance in this connection has been placed on behalf of the company on the agreement of February 25, 1950 between the President of India and the State of Madhya Bharat to which we have already referred.\\nThat agreement accepted the recommendations of the Enquiry Committee.\\nOur attention is drawn to Part 11, Chapter 11 of the recommendations, where the following recommendation was made in para.11 (4) (ii): \"Any special financial privileges and immunities affecting federal revenues conferred by the State upon other individuals and corporations should ordinarily be continued on the same terms by the Centre, subject to a maximum period of ten (or fifteen) years, and subject also to limiting in other ways any such concessions as may be extravagant or against the public interest.\\n\" This recommendation is undoubtedly part of the agreement made between the President of India and the State of Madhya Bharat on February 25, 1950.\\nIt is therefore urged that in view of this recommendation in the agreement it was not open to the Government of India to take away the exemption ranted by the agreement of April 7, 1947.\\nThe agreement between the President of India and the State of Madhya Bharat was entered under articles 278, 291, 295 and 306 of the Constitution.\\nIt may be accepted that the provision to which we have referred above was entered into by virtue of article 295 (1) which provided for devolution of property and assets.\\nand rights, liabilities and obligations subject to any agreement entered into in that behalf by the Government of India with the Government of that State, and to that extent the Government of India was bound to honour the agreement of February 25, 1950.\\nBut we have to see what exactly this agreement provides with respect to any special financial privileges and immunities conferred on corporations by the old Indian States.\\nThe provision is that privileges and immunities should ordinarily be continued on the same terms by the Centre subject to a maximum period of ten (or fifteen) years.\\nWe may emphasise the word \"ordinarily\" in this provision which shows that the Centre was not bound to continue the privileges and immunities exactly in the same form though \\'.ordinarily\" it was expected to do so.\\nEven so, the use of the word \"ordinarily\" shows that it was open to the Centre to examine the privileges and immunities and decide for itself whether they should be continued and if so in what form and to what extent.\\nFurther the provision as to the continuance of the privileges and immunities was subject also to the power of 913 the Government of India to limiting in other ways any such ,concession as might appear to it to be extravagant or against the public interest.\\nThere was thus a double limitation on the continuance of the privileges and immunities of corporations.\\nFirstly, these privileges and immunities were ordinarily to be continued and that in itself imports that in some cases they might not be continued.\\nIn the second place the Government of India was given power to limit these privileges and immunities if it was of the opinion that the privileges and immunities were extravagant or against the public interest.\\nThis again is a very wide power which the Government of India had even under the agreement of February 25, 1950.\\nTherefore, the argument that the Government of India was bound to continue the privileges and immunities without any modification because of the agreement of February 25, 1960 cannot prevail.\\nLet us therefore see if any provision was made by the Government of India in this behalf, to carry out this recom mendation of the Enquiry Committee.\\nIt may be mentioned that the recommendation was made on July 22, 1949 though it was brought into the agreement on February 25, 1950.\\nSection 60 A was introduced in the Income tax Act by section 19 of the Taxation laws (Extension to Merged States and Amendment) Act, (No. LXVII of 1949).\\nOriginally it only applied to merged territories, but when the Income tax Act was extended to part B States on April 1, 1950 by the Finance Act, 1950, section 60 A was amended from the same date and applied to part B States also.\\nThus it seems to us clear that the provision with respect to immunities and privileges of corporations to which we have already referred was given effect to by the application of section 60 A which we have already set out above to Part B States.\\nThat section provides that if the Central Government consiciers it necessary or expedient so to do for avoiding any hardship or anomaly or removing any difficulty that may arise as a result of the extension of the Income tax Act to Part B States, the Central Government may, by general or special order, make an exemption, reduction in rate or other modification in respect of income tax in favour of any class of income or in regard to the whole or any part of the income of any person or class of persons.\\nSection 60 A therefore clearly provides for the continuance of exemptions where the Central Government thought it necessary so to do.\\nThis provision is clearly in accord with the recommendation of , the Enquiry Committee to which we have already referred above.\\nThis was followed by the Concessions Order, cl. 16 of which specifically referred to concessions to industrial undertakings and provided that the Central Government having regard to all the circumstances of the case might grant such relief if any as it thought appropriate.\\nIt may be mentioned further that the same Order 914 provided for lower rates of income tax for some time with respect to all incomes accruing in a Part B State.\\nThe position therefore which emerges on April 1, 1950 is that the income tax Act was extended to Part B States as from that date by the Finance Act, 1950, and thus income tax became payable on all income accruing in Part B States subject to the terms of the Finance Act, 1950.\\nFurther by the Concessions Order relief was given generally to all income tax payers in Part B States by reducing the rates of income tax and there was a special provision in cl. 16 of the Concessions Order with respect to industrial undertakings situated in Part B States which had been ranted any exemption from or any concession in respect of income tax or super tax by the Ruler of an Indian State and was enjoying such exemption or concession immediately before April 1, 1950.\\nIt is not in dispute that it was within the competence of Parliament to extend the Income tax Act to Part B States and to subject incomes accruing in Part B States to income tax and super tax by the Finance Act of 1950.\\nA specific provision was also made in the Income tax Act by section 60 A to provide for exemption, reduction in rates or other modifications in respect of income tax accruing in Part B States, in order to avoid any hardship or anomaly or removing any difficulty which might arise as a result of the extension of the Income tax Act to Part B States.\\nLastly by the Concessions Order issued under section 60 A of the Income tax Act rates were reduced generally for sometimes and special provision was made with respect to concssions to industrial undertakings in cl. 16.\\nThese provisions were all within the competence of parliament and it is not the case of the company that they transgress any constitutional limitation.\\nTherefore as soon as these provisions came into force from April 1. 1950, the result must be that the exemption claimed by the company under the agreement of April 7, 1947 must fall in the face of these legislative provisions and the company would only be entitled to (i) reduction in rates provided by the Concessions Order and (ii) such exemption or concessions as the Central Government might grant under cl. 16 of the Concessions Order.\\nThese provisions of law therefore clearly affect the exemption granted by the agreement of April 7. 1947 and after these provisions came into force from April 1, 1950 the company could only get such concessions as were allowable generally under the Concessions Order or specifically under cl. 16 thereof to Industrial undertakings covered by that clause.\\nThese provisions clearly affect and supersede the agreement and it is not the case of the company that these provisions are not valid.\\nThe agreement must therefore be held to have been superseded and the company could only get such benefits as it was entitled to under the Concessions Order.\\nThe argument therefore that the obligation arising out of the agreement of 1947 could 915 not be affected by the extension of the Income tax Act to Part B State of Madhya Bharat read with Finance Act of 1950 must fail.\\nWe have already pointed out what the scope of article 295 (1) (b) is and we are of opinion that it was not necessary to amend the Constitution in order to affect the agreement of April 7, 1947.\\nThe argument that the Union of India was still bound by the agreement of April 7, 1947 in spite of the legislative provisions made from April 1, 1950 to which we have already referred must therefore fail.\\nThe company is therefore not entitled to rely on the agreement of April 7, 1947 for the purpose of exemption and that it can only take advantage of the Concessions Order with respect to income accruing to it in Madhya Bharat.\\nIt may be mentioned that the company applied under cl. 16 of the Concessions Order and was given certain exemptions with respect to the weaving section and that is all that the company is entitled to.\\nAs to the staple fibre section, the company did apply for exemption under cl. 16, but in all the circumstances the Government of India did not think it fit to grant exemption in that behalf.\\nAs that order was in accordance with law the company cannot rest on the agreement of April 7, 1947 which must be deemed to have been superseded by legislative provisions made from April 1, 1950 with respect to income tax and super tax in the Part B State of Madhya Bharat.\\nIn this connection our attention is drawn to The South India Corporation Ltd. vs The Secretary, Board of Revenue(1) on behalf of the company.\\nWe find nothing in that case which in any way militates against the view that we have taken and it is therefore unnecessary to consider that case in detail.\\nWe are therefore of opinion that the High Court was not correct in holding that the Government of India was bound to fulfil the obligation undertaken by the Ruler of Gwalior and was bound to grant exemption to the company under the agreement of April 7, 1947, irrespective of the legislative provisions made with respect to income tax and super tax from April 1, 1950.\\nThis brings us to the last contention based on article 278, of the Constitution.\\nIn this connection the company relies on the agreement of February 25, 1950 to which we have already referred and on the recommendation of the Enquiry Committee.\\nwhich was made part of the agreement and to which also we have already referred.\\nThe argument is that that recommendation must be treated to be an agreement under article 278 and would therefore be binding for ten years under that Article and thus the company would be entitled to exemption for at least ten years by virtue of the agreement.\\nWe are of opinion that there is no force in this argument.\\nIn the first place, the agreement of February 25, 1950 was not merely under article 278; it was a composite agreement under articles 278, 291, 295 (1) ; 916 and 306.\\nWe have already pointed out while dealing with the argument based on article 295 (1) (b) that this provision of the agreement relating to corporations as to exemptions and concessions to be granted to them may be treated as an agreement under article 295 (1), for it dealt with matters of obligation devolving on the Government of India and such devolution was subject to any agreement entered into in that behalf by the Government of India with the Government of the State concerned.\\nBut we are unable to see how the provision relating to exemptions or concessions to corporations can be said to be an agreement under article 278.\\nThe relevant part of article 278 (1), on which reliance is placed on behalf of the company isas follows: \"(1)Notwithstanding anything in this Constitution, the Government of India, may, subject to the provisions of clause (2), enter into an agreement with the Government of a State specified in Part B of the First Schedule with respect to (a) the levy and collection of any tax or duty leviable by the Government of India in such State and for the distribution of the proceeds thereof otherwise than in accordance with the provisions of this Chapter; (b). . . . . . . . \"\\nClause (2) of article 278 to which cl.(1) is subject merely prescribes the period for which the agreement will remain in force, the maximum being ten years in all.\\nArticle 278 appears in Ch.I of Part XII with which we have already dealt with briefly.\\nAs we read article 278 (1) (a) we find nothing in it which has any relevance with respect to any agreement between Ruler of an Indian State and a corporation.\\nArticle 278(l)(a) provides for an agreement between the Government of India and the Government of a Part B State for the levy or collection of any tax or duty leviable by the Government of India in such State and for the distribution of the proceeds thereof otherwise than in accordance with the provisions of Chapter 1 Part XII; and this provision is \"notwithstanding anything on the Constitution.\\n\" The earlier provisions in this Chapter provide for the levy and collection of certain taxes and duties leviable by the Government of India and for their distribuion between the Government of India and the States.\\nArticle 268 (1) deals with such stamp duties and such duties of excise on medicinal and toilet preparations as are mentioned on the Union List and provides that they shall be levied by he Government of India but shall be collected by the States within which such duties are leviable and the proceeds of such duties are to be assigned to that State.\\nSimilarly article 69 deals with certain other duties and says that they shall be levied and collected by the Government of India but shall 917 be assigned to the States as provided therein.\\nArticle 270 speaks of taxes on income other than agricultural income and lays down that they shall be levied and collected by the Government of India and distributed between the Union and the States in the manner provided thereunder.\\nArticle 272 speaks of Union duties of Excise other than such duties of excise on medicinal and toilet preparations as are mentioned in the Union List and lays down that they shall be levied and collected by the Government of India, but, if Parliament by law so provides, there shall be paid out of the Consolidated Fund of India to the States to which the law imposing the duty extends sums equivalent to the whole or any part of the net proceeds.\\nIt will be clear therefore that the earlier part of the Chapter has provided for levy and collection of certain taxes and duties leviable by the Government of India and the distribution of the proceeds between the Government of India and the States.\\nAll that article 278 (1) does is to permit by agreement variation in the manner of levy and collection as compared to the provision in the earlier part of the Chapter and also variation in the manner of distribution of the proceeds as compared to the provision in the earlier part.\\nArticle 278 (1) (a) only deals with levy and collection of certain public revenues and their distribution between the Government of India and the States.\\nIt gives power to the Government of India to enter into agreement with any Government of a State specified in Part B of the First Schedule by which variation may be made in the manner of levy and collection of any tax or duty leviable by the Gov ernment of India and the distribution of the proceeds, even though that might not be in accordance with the earlier provisions in the Chapter.\\nArticle 278 (1) (a) thus has nothing to do with any obligation arising out of agreements between Rulers of former Indian States and other persons with respect to exemption from any tax or duty.\\nNor do we see anything in article 278 (1) which in any way affects the legislative competence of Parliament or of State Legislatures to pass any law within their respective powers.\\nAll that it provides is that the earlier provisions in the Chapter relating to levy, collection and distribution of any tax or duty may be varied for a certain period on an agreement between the Government of India and the Government of a Part B State.\\nThis was clearly necessary in view of the fact that many sources of revenue of States which came to form part B States had to be taken over by the Government of India in view of the division of powers of taxation in List I and List 11 of the Seventh Schedule to the Constitu tion and that might have created a gap in the revenues of Part B States.\\nTherefore the Government of India was given the power for a period of ten years at the outside to come to an agreement with any Part B State in the matter of levy or collection of any tax or duty leviable by it and its distribution.\\n918 Article 278(l)(a) would also affect article 266 which provides that all revenues received by the Government of India shall form one consolidated fund except the proceeds of certain taxes and duties which were assigned in whole or in part to the States by the other provisions of this Chapter.\\nWhat article 278 (1) does is that it permits the Government of India to enter into agreements not only with respect to levy and collection of duties and taxes specifically dealt with in this Chapter but also with respect to other taxes and duties leviable by the Government of India which would ordinarily go to the Consolidated Fund of India and to provide how such taxes and duties which are made part of the agreement may be levied and collected and in what manner they should be distributed between the Government of India and the Part B State concerned.\\nBut for this provision it may not have been open to the Government of India to give help to Part B States which required it beyond what is provided in the earlier provisions of this Chapter.\\nAll that article 278 (1) does is to provide for further help to Part B States in case it was necessary by entering into agreements with them as to the manner of levy and collection of any tax and duty leviable by the Government of India and for the distribution of its proceeds in spite of the provision in Art 266 requiring all such proceeds to be credited in the Consolidated Fund of India.\\nWhen article 278 (1) (a) speaks of levy and collection it does not deal with legislative competence but only with the actual levy of tax and its collection , and this in our opinion is clear from the later provision which relates to the distribution of the proceeds resulting from such levy and collection.\\nIt is true that sometimes the word \"levy\" also includes imposition of tax and not merely its assessment and collection; but in the context in which the words \"levy and collection\" have been used in article 278(l), it seems to us that they only cover the assessment and collection not the imposition of a tax.\\nWe may in this connection refer to the words of article 277 which speaks of any taxes, duties, cesses or fees which were being lawfully levied by the Government of any State or by any municipality or other local authority or body.\\nThose words came up for consideration by this Court in The Town Municipal Committee vs Ramchandra Vasudeo Chimote (1) and it was held that in the context the words \"being lawfully levied\" in article 277 meant that the tax was actually levied and not merely that a law imposing a tax had been made.\\nSimilarly in the context of article 278 (1) (a) the levy and collection of any tax, followed as it is by the distribution of its proceeds, mean the actual assessment and collection of the tax and the way in which that should be done and have no reference to legislative competence as to the imposition of the tax.\\nWe are of opinion that article 278 (1) (a) deals only with public revenues and how they should be assessed and collected (1) ; 919 and distributed between the Union of India and Part B States in case there is an agreement in that behalf between the Union of India and Part B States.\\nIt further provides that in case of such agreement the earlier provisions of the Chapter relating to the levy, collection and distribution of taxes and duties would not apply and the agreement would prevail for a maximum period of ten years.\\nAs to the non obstante clause with which article 278 (1) (a) opens, that was apparently necessary in view of certain provisions of the Constitution as to the extent of the executive power of the Union and the States.\\nThus it becomes possible to the Government of India if it so decides to enter into an agreement with a Part B State with respect to a tax leviable by the Government of India that the tax shall be assessed and collected by the State through its own officers and the State may retain the entire proceeds so assessed and collected even though the executive power of the Union under article 73 extends to matters with respect to which Parliament has power to make laws and ordinarily if a law as to taxation is passed by Parliament within its power its assessment and collection would be by officers under the Government of India.\\nArticle 278 (1) (a) however permits that such assessment and collection may also by agreement be left to the States in spite of the provisions in other part of the Constitution.\\nThe nonobstante clause however with which article 278 (1) opens does not in our opinion affect the legislative competence of Parliament even with respect to duties and taxes which are dealt with by an agreement under article 278(l)(a).\\nWe are therefore of opinion that in the first place the agreement of February 25, 1950 on which the company relies with respect to concessions to corporations must be deemed to have been entered under article 295 (1) (b), and not under article 278 (1) (a).\\nIn the second place, article 278 (1) (a) merely contemplates an agreement between the Centre and Part B States with respect to levy collection or distribution of public revenues which are leviable by the Government of India and has nothing to do with any contract between a former Indian State and another person with respect to such revenues which may have become the obligation of the Government of India under article 295 (1) (b).\\nThe company therefore cannot rely on the agreement of February 25, 1950 in this connection and contend that the agreement of April 7, 1947 was binding for at least ten years thereunder.\\nWe are therefore of opinion that the view taken by the High Court is incorrect.\\nThe appeals are therefore allowed and the order of the High Court in the writ petition and the decree of the High Court in the suit are set aside, and the writ petition and the suit are dismissed.\\nIn the circumstances we order parties to bear their own costs throughout.\\nAppeal allowed.\\n', 'label': \"In October 1946, B wrote to the Government of the erstwhile State of Gwalior stating that certain industries would be established in Gwalior if the Government gave certain facilities including exemption from taxation.\\nThe matter was eventually put up before the Ruler who on January 18, 1949, made an order sanctioning the proposals made by the minister which.\\nincluded exemption from taxation as desired by B.\\nOn April ' 7, 1947, an agreement was entered into between the Government and B in accordance with the order of the Ruler dated January 18, 1947, under which certain facilities and concessions were granted to B for the establishment of industries in Gwalior, which included exemption from any form of taxation on the income for a period of 12 years from the date of starting of the factories.\\nIn pursuance of the agreement the appellant company was started and actual production began sometime in June 1949 so far as the weaving section of manufacturing, cloth from artificial silk yarn was concerned, while the staple fibre section of the company started actual working on or about February 18, 1954.\\nIn April 1948 the Ruler of Gwalior entered into a covenant with the rulers of certain other States for the, formation of a United State called Madhya Bharat, under which the Rulers made over the administration to the Raj Pramukh.\\nArticle VI of the Covenant provided, inter alia, that the duties.\\nand obligations of the Ruler pertaining or incidental to the Government of the covenanting states shall devolve on the United State and shall be discharged by it.\\nOn December 13, 1948, the Madhya Bharat Act, No. 1 of 1948, was passed which, provided, inter alia, that all laws of the covenanting states.\\nshall continue to remain in force until repealed or amended.\\nOn January 26, 1950, the Constitution of India came into force and the State of Madhya Bharat became a Part B State under the Constitution.\\nOn April 1, 1950, the Indian Income tax Act,. 1922, was extended to the Part B State of Madhya Bharat, and, from the same date Finance Act, 1950, also became applicable, to that State.\\nThe effect of section 13 of the Act of 1950 was to repeal all laws relating to income tax prevailing in those parts of India to which the Indian Income tax Act was extended.\\nOn February 25, 1950, an agreement was entered into between the President of India and the State of Madhya Bharat, which was to be in force for a period of ten years under which certain recommendations of Indian States Finances Enquiry Committee were accepted.\\nThe Government of India also issued the Part 893 B States (Taxation Concessions) Order, 1950, by cl. 16 of which, certain concessions were given to industrial undertakings which had been granted exemption from income tax by the Ruler of an Indian State.\\nIn December 1950, the company applied under cl. 16 of the Concessions Order for an exemption from payment of income tax for the full period of twelve years as provided in the agreement dated April 7, 1947, but the Government of India decided to exempt the company from incometax and super tax for the assessment years 1950 51 to 1954 55 in respect of the weaving section and rejected the claim for exemption of the staple fibre section which began working in April 1954.\\nOn November 23, 1956, the company filed a suit against the Union of India for a declaration that under the agreement dated April 7, 1947, it was entitled to exemption from income tax and super tax for a period of 12 years from June 1949 with respect to the weaving section and for a period of 12 years from February 1954 with respect to the staple fibre section of the company.\\nThe company also filed a petition under article 226 of the Constitution before the High Court of Madhya Pradesh for the same reliefs.\\nHeld:(i) The order of January 18, 1947, was not a law by which the Ruler of Gwalior granted exemption from income tax to the company to be established.\\nIt only amounted to a signification of the Ruler 's acceptance of the request for concessions made by B and an order to his officers to proceed further in the matter after the signification of the Ruler 's acceptance of the request.\\n(ii)In finding out whether a particular order of a Ruler continued under article 372 of the Constitution of India as law, the jurisprudential distinction between legislative, judicial and executive acts had to be considered; and only those orders of the Ruler which were jurisprudentially legislative acts would continue as laws under article 372.\\n(iii)The fact that the obligation of the Ruler of Gwalior under the agreement of April 7, 1947, devolved on the Government of India eventually by virtue of article 295(l)(b), did not take away the power of Parliament to pass a valid law within its competence which did not transgress the constitutional limitations, and which might affect the obligation arising out of the agreement of April 7, 1947, and even completely supersede it.\\n(iv)After the extension of the Indian Income tax Act to Part B State of Madhya Bharat and the passing of the Finance Act, 1950, the exemption claimed by the company under the agreement of April 7, 1947, must fall and the company would only be entitled to (i) reduction in rates provided by the Concessions Order and (ii) such exemption or concessions as the Central Government might grant under cl. 16 of the Concessions Order.\\n(v)Art.\\n278(l)(a) merely contemplated an agreement between the Centre and Part B States with respect to levy, collec tion and distribution of public revenues which were leviable by the Government of India and had nothing to do with any contract between a former Indian State and another person with respect to such revenues which might have become the obligation of the Government of India under article 295(1)(b) 894 (vi)The Agreement of February 25, 1950, with respect to concessions to corporations must be deemed to have been en tered under article 295(l)(b) and not under article 278(l)(a) and, hence, the company could not rely on that agreement and con tend that the agreement of April 7, 1947, was binding for at least ten years thereunder.\\n\", 'input_ids': [0, 19186, 44933, 29603, 4, 361, 27758, 2022, 9, 18733, 4, 50118, 19186, 44933, 31, 5, 7579, 8, 3365, 7000, 830, 316, 6, 7571, 6, 8, 587, 389, 6, 7571, 6, 9, 5, 4145, 18321, 8120, 755, 837, 11, 5280, 39271, 440, 4, 112, 9, 23102, 8, 40135, 4, 510, 37258, 440, 4, 6560, 9, 23102, 4067, 4, 50118, 347, 4, 530, 4, 211, 1115, 6083, 1766, 6, 2745, 1292, 6, 248, 4, 16929, 1115, 17543, 38, 6426, 8, 248, 4, 289, 4, 211, 700, 4901, 6, 13, 5, 44361, 3277, 36, 179, 258, 5, 7688, 322, 50118, 448, 4, 347, 4, 8504, 337, 705, 625, 6, 229, 4, 83, 4, 732, 405, 1627, 6, 256, 4, 229, 4, 8603, 1409, 271, 4, 50118, 500, 12336, 298, 5557, 22634, 8, 2810, 234, 4, 178, 607, 6, 13, 5, 10011, 36, 179, 258, 5, 7688, 322, 50118, 13949, 971, 6, 17616, 4, 50118, 133, 7579, 9, 5, 837, 21, 2781, 30, 305, 1889, 3764, 9332, 6, 344, 4, 50118, 4528, 80, 7688, 15, 15588, 4159, 30, 5, 4145, 18321, 8120, 755, 837, 1693, 1537, 1142, 9, 488, 8, 40, 28, 7911, 19, 561, 4, 50118, 133, 33802, 5, 272, 10163, 7375, 4622, 261, 26537, 12047, 36, 170, 13286, 43, 1260, 5266, 36, 10859, 1243, 23782, 4997, 7, 25, 5, 138, 43, 16, 3382, 223, 5, 1362, 6931, 1783, 4, 50118, 243, 16, 2139, 7, 278, 66, 141, 5, 138, 376, 7, 28, 2885, 11, 645, 7, 1346, 5, 403, 342, 556, 30, 5, 138, 4, 50118, 1121, 779, 27723, 15212, 4926, 4, 163, 12862, 102, 10144, 5266, 6, 272, 10163, 7375, 6, 875, 7, 5, 1621, 9, 272, 10163, 7375, 14, 51, 3833, 7, 5242, 23, 103, 10686, 317, 11, 272, 10163, 7375, 10, 761, 9, 2683, 2100, 11, 61, 51, 3833, 7, 278, 62, 1402, 4510, 1286, 1402, 2644, 58, 4159, 7, 106, 30, 5, 1621, 9, 272, 10163, 7375, 4, 50118, 133, 2644, 13, 61, 51, 156, 5, 2069, 58, 36, 118, 43, 481, 9077, 1212, 23, 10, 10686, 1082, 131, 36, 4132, 43, 481, 5774, 514, 114, 6925, 868, 31, 10, 4908, 8, 23, 10, 18041, 45315, 6073, 731, 114, 6925, 868, 31, 10, 9656, 131, 8, 36, 31917, 43, 14928, 31, 143, 1026, 9, 19775, 15, 1425, 13, 10, 675, 9, 23843, 107, 31, 5, 1248, 9, 5, 1158, 9, 5, 12126, 4, 50118, 4148, 42, 1601, 145, 829, 6, 5, 948, 21, 12069, 11, 5, 8350, 18014, 9, 5, 320, 331, 9, 272, 10163, 7375, 4, 50118, 133, 8350, 18014, 5196, 924, 14, 5, 568, 7, 5242, 4510, 11, 272, 10163, 7375, 21, 2743, 7, 28, 11359, 30, 5, 568, 9, 5, 272, 10163, 7375, 1621, 25, 7, 5, 2644, 553, 13, 4, 50118, 133, 8350, 18014, 67, 1581, 14, 117, 1313, 3552, 2624, 5, 1850, 2683, 2100, 56, 57, 4813, 53, 14, 129, 22948, 5327, 58, 156, 7, 29477, 114, 5, 331, 21, 2882, 7, 4470, 5, 12889, 553, 13, 4, 50118, 243, 21, 3273, 66, 14, 5, 1049, 864, 14, 1552, 6077, 21, 19, 2098, 2], 'attention_mask': [1, 1, 1, 1, 1, 1, 1, 1, 1, 1, 1, 1, 1, 1, 1, 1, 1, 1, 1, 1, 1, 1, 1, 1, 1, 1, 1, 1, 1, 1, 1, 1, 1, 1, 1, 1, 1, 1, 1, 1, 1, 1, 1, 1, 1, 1, 1, 1, 1, 1, 1, 1, 1, 1, 1, 1, 1, 1, 1, 1, 1, 1, 1, 1, 1, 1, 1, 1, 1, 1, 1, 1, 1, 1, 1, 1, 1, 1, 1, 1, 1, 1, 1, 1, 1, 1, 1, 1, 1, 1, 1, 1, 1, 1, 1, 1, 1, 1, 1, 1, 1, 1, 1, 1, 1, 1, 1, 1, 1, 1, 1, 1, 1, 1, 1, 1, 1, 1, 1, 1, 1, 1, 1, 1, 1, 1, 1, 1, 1, 1, 1, 1, 1, 1, 1, 1, 1, 1, 1, 1, 1, 1, 1, 1, 1, 1, 1, 1, 1, 1, 1, 1, 1, 1, 1, 1, 1, 1, 1, 1, 1, 1, 1, 1, 1, 1, 1, 1, 1, 1, 1, 1, 1, 1, 1, 1, 1, 1, 1, 1, 1, 1, 1, 1, 1, 1, 1, 1, 1, 1, 1, 1, 1, 1, 1, 1, 1, 1, 1, 1, 1, 1, 1, 1, 1, 1, 1, 1, 1, 1, 1, 1, 1, 1, 1, 1, 1, 1, 1, 1, 1, 1, 1, 1, 1, 1, 1, 1, 1, 1, 1, 1, 1, 1, 1, 1, 1, 1, 1, 1, 1, 1, 1, 1, 1, 1, 1, 1, 1, 1, 1, 1, 1, 1, 1, 1, 1, 1, 1, 1, 1, 1, 1, 1, 1, 1, 1, 1, 1, 1, 1, 1, 1, 1, 1, 1, 1, 1, 1, 1, 1, 1, 1, 1, 1, 1, 1, 1, 1, 1, 1, 1, 1, 1, 1, 1, 1, 1, 1, 1, 1, 1, 1, 1, 1, 1, 1, 1, 1, 1, 1, 1, 1, 1, 1, 1, 1, 1, 1, 1, 1, 1, 1, 1, 1, 1, 1, 1, 1, 1, 1, 1, 1, 1, 1, 1, 1, 1, 1, 1, 1, 1, 1, 1, 1, 1, 1, 1, 1, 1, 1, 1, 1, 1, 1, 1, 1, 1, 1, 1, 1, 1, 1, 1, 1, 1, 1, 1, 1, 1, 1, 1, 1, 1, 1, 1, 1, 1, 1, 1, 1, 1, 1, 1, 1, 1, 1, 1, 1, 1, 1, 1, 1, 1, 1, 1, 1, 1, 1, 1, 1, 1, 1, 1, 1, 1, 1, 1, 1, 1, 1, 1, 1, 1, 1, 1, 1, 1, 1, 1, 1, 1, 1, 1, 1, 1, 1, 1, 1, 1, 1, 1, 1, 1, 1, 1, 1, 1, 1, 1, 1, 1, 1, 1, 1, 1, 1, 1, 1, 1, 1, 1, 1, 1, 1, 1, 1, 1, 1, 1, 1, 1, 1, 1, 1, 1, 1, 1, 1, 1, 1, 1, 1, 1, 1, 1, 1, 1, 1, 1, 1, 1, 1, 1, 1, 1, 1, 1, 1, 1, 1, 1, 1, 1, 1, 1, 1, 1, 1, 1, 1, 1, 1, 1, 1, 1, 1, 1, 1, 1, 1, 1], 'labels': [0, 1121, 779, 27723, 6, 163, 875, 7, 5, 1621, 9, 5, 3335, 620, 20235, 331, 9, 272, 10163, 7375, 9052, 14, 1402, 4510, 74, 28, 2885, 11, 272, 10163, 7375, 114, 5, 1621, 851, 1402, 2644, 217, 14928, 31, 19775, 4, 50118, 133, 948, 21, 2140, 342, 62, 137, 5, 43493, 54, 15, 644, 504, 6, 25345, 6, 156, 41, 645, 19334, 154, 5, 5327, 156, 30, 5, 1269, 61, 4, 50118, 179, 26441, 14928, 31, 19775, 25, 12762, 30, 163, 4, 50118, 4148, 587, 128, 262, 6, 21868, 6, 41, 1288, 21, 2867, 88, 227, 5, 1621, 8, 163, 11, 10753, 19, 5, 645, 9, 5, 43493, 7000, 644, 504, 6, 21868, 6, 223, 61, 1402, 2644, 8, 12889, 58, 4159, 7, 163, 13, 5, 7147, 9, 4510, 11, 272, 10163, 7375, 6, 61, 1165, 14928, 31, 143, 1026, 9, 19775, 15, 5, 1425, 13, 10, 675, 2]}\n"
     ]
    }
   ],
   "source": [
    "print(combined_dataset['train'][0])  # Print the first training example to inspect"
   ]
  },
  {
   "cell_type": "code",
   "execution_count": null,
   "id": "12b34e36",
   "metadata": {},
   "outputs": [],
   "source": []
  }
 ],
 "metadata": {
  "kernelspec": {
   "display_name": "Python 3 (ipykernel)",
   "language": "python",
   "name": "python3"
  },
  "language_info": {
   "codemirror_mode": {
    "name": "ipython",
    "version": 3
   },
   "file_extension": ".py",
   "mimetype": "text/x-python",
   "name": "python",
   "nbconvert_exporter": "python",
   "pygments_lexer": "ipython3",
   "version": "3.10.7"
  }
 },
 "nbformat": 4,
 "nbformat_minor": 5
}
