{
 "cells": [
  {
   "cell_type": "code",
   "execution_count": 2,
   "id": "b396a93a-ad3a-4e9a-a494-41e38e4bc171",
   "metadata": {
    "slideshow": {
     "slide_type": ""
    },
    "tags": []
   },
   "outputs": [],
   "source": [
    "from datasets import load_dataset"
   ]
  },
  {
   "cell_type": "code",
   "execution_count": 3,
   "id": "7d33f29b-4437-4a9e-98e2-4696463c6b02",
   "metadata": {},
   "outputs": [],
   "source": [
    "# Load the datasets\n",
    "# ds1_train = load_dataset(\"joelniklaus/legal_case_document_summarization\", split='train')\n",
    "# ds1_train = ds1_train.remove_columns(['dataset_name'])\n",
    "# ds1_train = ds1_train.rename_column('judgement', 'text')\n",
    "# ds1_train = ds1_train.rename_column('summary', 'labels')\n",
    "# print(ds1_train)\n",
    "\n",
    "# ds1_test = load_dataset(\"joelniklaus/legal_case_document_summarization\", split='test')\n",
    "# ds1_test = ds1_test.remove_columns(['dataset_name'])\n",
    "# ds1_test = ds1_test.rename_column('judgement', 'text')\n",
    "# ds1_test = ds1_test.rename_column('summary', 'labels')\n",
    "\n",
    "# # NOTE: This dataset only has 50 rows. It may not be a dataset we want to use.\n",
    "# # NOTE: THIS DATA IS NOT PLAYING NICELY WITH CONCATENATION\n",
    "# # Although the summaries appear to be good\n",
    "# ds2 = load_dataset(\"manasvikalyan/legal-documents-summary\")\n",
    "# ds2 = ds2['data']\n",
    "# ds2 = ds2.remove_columns(['summary_a2'])\n",
    "# ds2 = ds2.rename_column('summary_a1', 'labels')\n",
    "# ds2 = ds2.rename_column('judgement', 'text')\n",
    "# print(ds2)"
   ]
  },
  {
   "cell_type": "code",
   "execution_count": 4,
   "id": "8f987de1-e338-487e-bb43-e73329fb1b33",
   "metadata": {},
   "outputs": [
    {
     "name": "stdout",
     "output_type": "stream",
     "text": [
      "Dataset({\n",
      "    features: ['judgement', 'dataset_name', 'summary', 'text'],\n",
      "    num_rows: 7773\n",
      "})\n"
     ]
    }
   ],
   "source": [
    "# ds9: AjayMukundS/Legal_Text_Summarization-llama2\n",
    "ds9_train = load_dataset(\"AjayMukundS/Legal_Text_Summarization-llama2\", split='train')\n",
    "ds9_test = load_dataset(\"AjayMukundS/Legal_Text_Summarization-llama2\", split='test')\n",
    "print(ds9_train)"
   ]
  },
  {
   "cell_type": "code",
   "execution_count": 5,
   "id": "0646ec4b-3108-4b55-9101-034b4bafc787",
   "metadata": {},
   "outputs": [],
   "source": [
    "from transformers import BartTokenizer"
   ]
  },
  {
   "cell_type": "code",
   "execution_count": 6,
   "id": "3e2be482-9f03-4826-a46a-8fe9f16e65ee",
   "metadata": {},
   "outputs": [
    {
     "name": "stderr",
     "output_type": "stream",
     "text": [
      "C:\\Users\\Sterling\\AppData\\Local\\Programs\\Python\\Python312\\Lib\\site-packages\\transformers\\tokenization_utils_base.py:1617: FutureWarning: `clean_up_tokenization_spaces` was not set. It will be set to `True` by default. This behavior will be deprecated in transformers v4.45, and will be then set to `False` by default. For more details check this issue: https://github.com/huggingface/transformers/issues/31884\n",
      "  warnings.warn(\n"
     ]
    }
   ],
   "source": [
    "# Load the BART tokenizer\n",
    "tokenizer = BartTokenizer.from_pretrained('sshleifer/distilbart-cnn-12-6')"
   ]
  },
  {
   "cell_type": "code",
   "execution_count": 7,
   "id": "6108a129-9e5e-420f-9183-e8701549ccb9",
   "metadata": {},
   "outputs": [],
   "source": [
    "from transformers import AutoTokenizer"
   ]
  },
  {
   "cell_type": "code",
   "execution_count": 8,
   "id": "1d1d1246-ace2-4369-8dbe-d71ea4ead684",
   "metadata": {},
   "outputs": [],
   "source": [
    "# Load the tokenizer\n",
    "tokenizer = AutoTokenizer.from_pretrained(\"sshleifer/distilbart-cnn-12-6\")"
   ]
  },
  {
   "cell_type": "code",
   "execution_count": 9,
   "id": "f56e86ab-3711-42d6-8b18-2bef4e86586c",
   "metadata": {},
   "outputs": [],
   "source": [
    "# Tokenize the input texts\n",
    "def preprocess_data(batch):\n",
    "    inputs = batch['text']\n",
    "    targets = batch['summary']\n",
    "    \n",
    "    model_inputs = tokenizer(inputs, max_length=1024, truncation=True, padding=\"max_length\")\n",
    "    labels = tokenizer(targets, max_length=128, truncation=True, padding=\"max_length\")\n",
    "\n",
    "    model_inputs['labels'] = labels['input_ids']\n",
    "    return model_inputs"
   ]
  },
  {
   "cell_type": "code",
   "execution_count": 10,
   "id": "08cf9f69-0a30-4bae-9a2f-3ab3361396d4",
   "metadata": {},
   "outputs": [
    {
     "data": {
      "application/vnd.jupyter.widget-view+json": {
       "model_id": "738c27a785304fd3beba587cf5a220f5",
       "version_major": 2,
       "version_minor": 0
      },
      "text/plain": [
       "Map:   0%|          | 0/200 [00:00<?, ? examples/s]"
      ]
     },
     "metadata": {},
     "output_type": "display_data"
    }
   ],
   "source": [
    "# Tokenize the datasets for DistilBART\n",
    "# Apply preprocessing to the dataset\n",
    "train_dataset = ds9_train.map(preprocess_data, batched=True, remove_columns=ds9_train.column_names)\n",
    "test_dataset = ds9_test.map(preprocess_data, batched=True, remove_columns=ds9_test.column_names)"
   ]
  },
  {
   "cell_type": "code",
   "execution_count": 11,
   "id": "2ae33d4f-d8ec-4d20-aa2d-49d5bad72da4",
   "metadata": {},
   "outputs": [],
   "source": [
    "# Set dataset format for PyTorch\n",
    "train_dataset.set_format(type='torch', columns=['input_ids', 'attention_mask', 'labels'])\n",
    "test_dataset.set_format(type='torch', columns=['input_ids', 'attention_mask', 'labels'])"
   ]
  },
  {
   "cell_type": "code",
   "execution_count": 12,
   "id": "354dca5e-5b01-469d-bd65-79fb3a866bdc",
   "metadata": {},
   "outputs": [
    {
     "name": "stdout",
     "output_type": "stream",
     "text": [
      "Dataset({\n",
      "    features: ['input_ids', 'attention_mask', 'labels'],\n",
      "    num_rows: 30\n",
      "})\n",
      "Dataset({\n",
      "    features: ['input_ids', 'attention_mask', 'labels'],\n",
      "    num_rows: 10\n",
      "})\n"
     ]
    }
   ],
   "source": [
    "# Taking 10 examples from each tokenized set to test the training.\n",
    "train_sample = train_dataset.select(range(30))\n",
    "test_sample = test_dataset.select(range(10))\n",
    "\n",
    "print(train_sample)\n",
    "print(test_sample)\n"
   ]
  },
  {
   "cell_type": "code",
   "execution_count": 13,
   "id": "21b2d3db-7cb7-43d8-98e3-af522501e62b",
   "metadata": {},
   "outputs": [],
   "source": [
    "from datasets import concatenate_datasets"
   ]
  },
  {
   "cell_type": "code",
   "execution_count": 14,
   "id": "b83cfdcd-afa0-4d35-bc9e-319da31eefa5",
   "metadata": {},
   "outputs": [],
   "source": [
    "# Maybe do later?"
   ]
  },
  {
   "cell_type": "code",
   "execution_count": 15,
   "id": "e79eabc6-8269-4a5e-8d08-c2a9bebbbe00",
   "metadata": {},
   "outputs": [],
   "source": [
    "from transformers import BartForConditionalGeneration"
   ]
  },
  {
   "cell_type": "code",
   "execution_count": 16,
   "id": "99917024-5ed1-47c8-a126-ba778b2491fa",
   "metadata": {},
   "outputs": [],
   "source": [
    "# Load the DistilBART model for conditional generation\n",
    "model = BartForConditionalGeneration.from_pretrained('sshleifer/distilbart-cnn-12-6')"
   ]
  },
  {
   "cell_type": "code",
   "execution_count": 17,
   "id": "c5ade4c9-52ae-427d-9b75-e9971faf95b8",
   "metadata": {},
   "outputs": [],
   "source": [
    "# To handle padding dynamically (i.e., pad to the longest sequence in a batch rather than a fixed length)\n",
    "from transformers import DataCollatorForSeq2Seq\n",
    "\n",
    "data_collator = DataCollatorForSeq2Seq(tokenizer, model=model)"
   ]
  },
  {
   "cell_type": "code",
   "execution_count": 18,
   "id": "a28dd2e9-1a21-483f-9b94-416e052f243d",
   "metadata": {},
   "outputs": [],
   "source": [
    "from transformers import TrainingArguments, Trainer, logging"
   ]
  },
  {
   "cell_type": "code",
   "execution_count": 19,
   "id": "5337b244-e29c-4757-a75c-96019d0b5955",
   "metadata": {},
   "outputs": [
    {
     "name": "stdout",
     "output_type": "stream",
     "text": [
      "Accelerator is using device: cpu\n"
     ]
    }
   ],
   "source": [
    "import torch\n",
    "from accelerate import Accelerator\n",
    "\n",
    "accelerator = Accelerator()\n",
    "device = accelerator.device\n",
    "print(f\"Accelerator is using device: {device}\")"
   ]
  },
  {
   "cell_type": "code",
   "execution_count": 20,
   "id": "e23318af-3b58-486c-995a-2d34d2eec405",
   "metadata": {},
   "outputs": [
    {
     "name": "stderr",
     "output_type": "stream",
     "text": [
      "C:\\Users\\Sterling\\AppData\\Local\\Programs\\Python\\Python312\\Lib\\site-packages\\transformers\\training_args.py:1545: FutureWarning: `evaluation_strategy` is deprecated and will be removed in version 4.46 of 🤗 Transformers. Use `eval_strategy` instead\n",
      "  warnings.warn(\n"
     ]
    }
   ],
   "source": [
    "from transformers import Seq2SeqTrainer, Seq2SeqTrainingArguments\n",
    "\n",
    "training_args = Seq2SeqTrainingArguments(\n",
    "    output_dir=\"./results\",\n",
    "    evaluation_strategy=\"epoch\",\n",
    "    learning_rate=3e-5,\n",
    "    per_device_train_batch_size=4,\n",
    "    per_device_eval_batch_size=4,\n",
    "    weight_decay=0.01,\n",
    "    save_total_limit=3,\n",
    "    num_train_epochs=3,\n",
    "    predict_with_generate=True,\n",
    "    logging_dir=\"./logs\",\n",
    "    logging_steps=100,\n",
    ")"
   ]
  },
  {
   "cell_type": "code",
   "execution_count": 21,
   "id": "e4fa073f-774f-4ba5-bdab-72d0e305fc99",
   "metadata": {},
   "outputs": [],
   "source": [
    "# Initialize the Trainer\n",
    "trainer = Seq2SeqTrainer(\n",
    "    model=model,\n",
    "    args=training_args,\n",
    "    train_dataset=train_sample,\n",
    "    eval_dataset=test_sample,\n",
    "    tokenizer=tokenizer\n",
    ")"
   ]
  },
  {
   "cell_type": "code",
   "execution_count": 22,
   "id": "83593ca1-a99d-4959-8c46-fa0d7aedd83d",
   "metadata": {},
   "outputs": [
    {
     "data": {
      "text/html": [
       "\n",
       "    <div>\n",
       "      \n",
       "      <progress value='24' max='24' style='width:300px; height:20px; vertical-align: middle;'></progress>\n",
       "      [24/24 05:26, Epoch 3/3]\n",
       "    </div>\n",
       "    <table border=\"1\" class=\"dataframe\">\n",
       "  <thead>\n",
       " <tr style=\"text-align: left;\">\n",
       "      <th>Epoch</th>\n",
       "      <th>Training Loss</th>\n",
       "      <th>Validation Loss</th>\n",
       "    </tr>\n",
       "  </thead>\n",
       "  <tbody>\n",
       "    <tr>\n",
       "      <td>1</td>\n",
       "      <td>No log</td>\n",
       "      <td>2.389033</td>\n",
       "    </tr>\n",
       "    <tr>\n",
       "      <td>2</td>\n",
       "      <td>No log</td>\n",
       "      <td>2.340875</td>\n",
       "    </tr>\n",
       "    <tr>\n",
       "      <td>3</td>\n",
       "      <td>No log</td>\n",
       "      <td>2.342005</td>\n",
       "    </tr>\n",
       "  </tbody>\n",
       "</table><p>"
      ],
      "text/plain": [
       "<IPython.core.display.HTML object>"
      ]
     },
     "metadata": {},
     "output_type": "display_data"
    },
    {
     "name": "stderr",
     "output_type": "stream",
     "text": [
      "C:\\Users\\Sterling\\AppData\\Local\\Programs\\Python\\Python312\\Lib\\site-packages\\transformers\\modeling_utils.py:2618: UserWarning: Moving the following attributes in the config to the generation config: {'max_length': 142, 'min_length': 56, 'early_stopping': True, 'num_beams': 4, 'length_penalty': 2.0, 'no_repeat_ngram_size': 3, 'forced_bos_token_id': 0}. You are seeing this warning because you've set generation parameters in the model config, as opposed to in the generation config.\n",
      "  warnings.warn(\n"
     ]
    },
    {
     "data": {
      "text/plain": [
       "TrainOutput(global_step=24, training_loss=2.1253064473470054, metrics={'train_runtime': 339.6156, 'train_samples_per_second': 0.265, 'train_steps_per_second': 0.071, 'total_flos': 139312087695360.0, 'train_loss': 2.1253064473470054, 'epoch': 3.0})"
      ]
     },
     "execution_count": 22,
     "metadata": {},
     "output_type": "execute_result"
    }
   ],
   "source": [
    "# Train the model\n",
    "trainer.train()"
   ]
  },
  {
   "cell_type": "code",
   "execution_count": 23,
   "id": "e3e599d7-8c19-42db-99b2-9c86e332e83b",
   "metadata": {},
   "outputs": [
    {
     "data": {
      "text/html": [
       "\n",
       "    <div>\n",
       "      \n",
       "      <progress value='3' max='3' style='width:300px; height:20px; vertical-align: middle;'></progress>\n",
       "      [3/3 00:06]\n",
       "    </div>\n",
       "    "
      ],
      "text/plain": [
       "<IPython.core.display.HTML object>"
      ]
     },
     "metadata": {},
     "output_type": "display_data"
    },
    {
     "name": "stdout",
     "output_type": "stream",
     "text": [
      "{'eval_loss': 2.3420045375823975, 'eval_runtime': 9.9767, 'eval_samples_per_second': 1.002, 'eval_steps_per_second': 0.301, 'epoch': 3.0}\n"
     ]
    }
   ],
   "source": [
    "# Evaluate the model\n",
    "eval_results = trainer.evaluate()\n",
    "print(eval_results)"
   ]
  },
  {
   "cell_type": "code",
   "execution_count": null,
   "id": "0f887de8-24f6-44ca-b9dc-79a9533b4dc1",
   "metadata": {},
   "outputs": [],
   "source": [
    "import random\n",
    "\n",
    "# Get a random index\n",
    "random_index = random.randint(0, len(ds9_test) - 1)\n",
    "\n",
    "# Access the 'text' property of the randomly selected sample\n",
    "random_sample_text = ds9_test[random_index]['text']\n",
    "print(random_sample_text)"
   ]
  },
  {
   "cell_type": "code",
   "execution_count": 27,
   "id": "a1f9ae02-7bf0-44b9-a803-aad8da06c86d",
   "metadata": {},
   "outputs": [
    {
     "name": "stdout",
     "output_type": "stream",
     "text": [
      "The plaintiffs applied for an interim injunction restraining the Bank of India Ltd. the first defendant from taking any steps in pursuance of a letter of credit opened in favour of M/s. V/O Tractors Export, Moscow, the second defendant.\n",
      "The High Court observed that an order granting interim injunction \"is a final order, as far as this Court is concerned\"\n"
     ]
    }
   ],
   "source": [
    "# Example of generating a summary\n",
    "\n",
    "inputs = [random_sample_text]\n",
    "\n",
    "# Tokenize the input\n",
    "input_ids = tokenizer(inputs, return_tensors=\"pt\", max_length=1024, truncation=True, padding=\"max_length\").input_ids\n",
    "\n",
    "# Generate summary\n",
    "outputs = model.generate(input_ids=input_ids, max_length=128, num_beams=4, early_stopping=True)\n",
    "summary = tokenizer.decode(outputs[0], skip_special_tokens=True)\n",
    "\n",
    "print(summary)\n",
    "\n"
   ]
  },
  {
   "cell_type": "code",
   "execution_count": null,
   "id": "0e69bec9-c0b9-40d5-bf89-e9a02f016cdd",
   "metadata": {},
   "outputs": [],
   "source": [
    "# Save your model\n",
    "model.save_pretrained('./trained_HX100_model_2')\n",
    "\n",
    "# Save the tokenizer\n",
    "tokenizer.save_pretrained('./trained_HX100_model_2')"
   ]
  },
  {
   "cell_type": "code",
   "execution_count": null,
   "id": "feab2f49-0d1b-42a5-9331-a913a61ee30d",
   "metadata": {},
   "outputs": [],
   "source": [
    "from transformers import AutoModelForSeq2SeqLM, AutoTokenizer\n",
    "\n",
    "# Load the trained model and tokenizer\n",
    "model = AutoModelForSeq2SeqLM.from_pretrained('./trained_HX100_model_2')\n",
    "tokenizer = AutoTokenizer.from_pretrained('./trained_HX100_model_2')\n",
    "\n",
    "# Move the model to GPU if available\n",
    "device = torch.device(\"cuda\" if torch.cuda.is_available() else \"cpu\")\n",
    "model.to(device)"
   ]
  },
  {
   "cell_type": "code",
   "execution_count": 28,
   "id": "ed18a58e-998d-40b1-9203-b4de57002b94",
   "metadata": {},
   "outputs": [
    {
     "name": "stdout",
     "output_type": "stream",
     "text": [
      "Dataset({\n",
      "    features: ['judgement', 'dataset_name', 'summary', 'text'],\n",
      "    num_rows: 200\n",
      "})\n"
     ]
    }
   ],
   "source": [
    "print(ds9_test)"
   ]
  },
  {
   "cell_type": "code",
   "execution_count": 29,
   "id": "46bb4047-c5e9-4ba7-8597-b43c0bea85f6",
   "metadata": {},
   "outputs": [
    {
     "name": "stdout",
     "output_type": "stream",
     "text": [
      "['judgement', 'dataset_name', 'summary', 'text']\n"
     ]
    }
   ],
   "source": [
    "print(ds9_test.column_names)"
   ]
  },
  {
   "cell_type": "code",
   "execution_count": 35,
   "id": "109e87bb-54e3-438b-939a-df0a2e5b52b2",
   "metadata": {},
   "outputs": [
    {
     "name": "stdout",
     "output_type": "stream",
     "text": [
      "------------------------------------------------------------------------------------------\n",
      "Example 190:\n",
      "Original Summary: Section 28 of the Housing Act 1988 The Housing Act 1988 (the 1988 Act) was brought in with a view to stimulating the availability of rented accommodation in the private sector; it allowed landlords to let new tenancies on terms more advantageous to themselves [4].\n",
      "Parliament included safeguards to deter unscrupulous landlords from evicting existing tenants with protected tenancies [15].\n",
      "Section 27 of the 1988 Act provides the right to claim damages for unlawful eviction [6].\n",
      "Section 28 sets out the method by which such damages are calculated, being the difference in value between two alternative calculations of the landlords interest in the building at the time immediately prior to the unlawful eviction: (1) The basis for the assessment of damages [for unlawful eviction] is the difference in value, determined as at the time immediately before the residential occupier ceased to occupy the premises in question as his residence, between (a) the value of the interest of the landlord in default determined on the assumption that the residential occupier continues to have the same right to occupy the premises as before that time; and (b) the value of that interest determined on the assumption that the residential occupier has ceased to have that right. (2) In relation to any premises, any reference in this section to the interest of the landlord in default is a reference to his interest in the building in which the premises in question are comprised (whether or not that building contains any other premises) together with its curtilage. (3) For the purposes of the valuations referred to in subsection (1) above, it shall be assumed (a) that the landlord in default is selling his interest on the open market to a willing buyer Mr Loveridges flat at 19 Moresby Walk From November 2002 Mr Loveridge lived in the downstairs flat at 19 Moresby Walk, a two storey house.\n",
      "Both his flat and the upstairs flat were owned by the London Borough of Lambeth (Lambeth) and let under secure tenancies conferring certain statutory protections.\n",
      "From July to December 2009 Mr Loveridge made a trip to Ghana.\n",
      "While he was away, Lambeth changed the locks on his flat and cleared his possessions, mistakenly believing that he had died.\n",
      "Two days after he returned to the UK, his flat was rented to somebody else [2].\n",
      "Mr Loveridge sued Lambeth for damages.\n",
      "The parties approaches to damages under section 28 Mr Loveridge and Lambeth each instructed a surveyor to value Lambeths interest in 19 Moresby Walk for the purposes of subsections 28(1)(a) and (b).\n",
      "Mr Loveridges surveyor calculated valuation (a) on the basis that 19 Moresby Walk was sold with both the upstairs and downstairs flats subject to secure tenancies.\n",
      "He calculated valuation (b) on the basis that 19 Moresby Walk was sold with vacant possession of the downstairs flat but with the upstairs flat subject to a secure tenancy.\n",
      "The difference in value was 90,500 [22].\n",
      "Lambeth adopted a different approach.\n",
      "It relied on subsection 28(3)(a), which requires both valuations (a) and (b) to be calculated on the assumption that the property is sold on the open market to a willing buyer [18].\n",
      "If 19 Moresby Walk had in fact been sold on the open market, say to a private landlord, the secure tenancies (which do not apply to private landlords) would have been converted into assured tenancies, thus allowing the new landlord to bring the rents up to market level [20].\n",
      "Lambeths surveyor therefore conducted valuation (a) on the basis that both flats were subject to assured tenancies.\n",
      "He concluded that valuation (b) produced the same figure as valuation (a) because the downstairs flat with vacant possession would be worth the same as if it were subject to an assured tenancy [23].\n",
      "The procedural history At the hearing in the Lambeth County Court, the judge found that Mr Loveridge had been unlawfully evicted.\n",
      "He preferred Mr Loveridges approach to the section 28 valuation exercise.\n",
      "On 25 September 2012 he awarded Mr Loveridge90,500 under section 28 and 9,000 at common law in respect of the trespass to his goods [2].\n",
      "Lambeth appealed against the quantum of damages.\n",
      "The Court of Appeal accepted Lambeths argument and 10 May 2013 set aside the section 28 award [1].\n",
      "It ordered Lambeth to pay 7,400 in damages at common law for unlawfully evicting Mr Loveridge, and, as before, 9,000 for trespass to goods.\n",
      "The Supreme Court unanimously allows the appeal and restores HHJ Blunsdons order for damages.\n",
      "Lord Wilson (with whom Lord Neuberger, Lord Sumption, Lord Carnwath and Lord Toulson agree) gives the judgment.\n",
      "The words of section 27 of the 1988 Act are wide enough to cover local authority landlords as well as public landlords, even though local authority landlords rarely perpetrate unlawful evictions of their tenants [15].\n",
      "Section 28(1) requires the court to make two valuations, namely (a) and (b), of the landlords interest [16].\n",
      "Valuation (a) is based on the assumption that the tenant continues to have the same right to occupy the premises, and the landlord continues to be subject to the same restrictions on recovering possession, as before the eviction occurred.\n",
      "Valuation (b) is based on the assumption that the tenants right to occupy and the restrictions on recovering possession have ceased [17].\n",
      "The issue in this case was whether the valuation of both the upstairs and downstairs flats at 19 Moresby Walk (for valuation (a)) and of the upstairs flat (for valuation (b)) should be conducted on the assumption that they were subject to secure tenancies or to assured tenancies [24].\n",
      "The assumption of a sale on the open market (subsection 28(3)(a)) is for the purposes of the valuations at subsection 28(1), in which other assumptions are mandated, namely (a) that the tenant continues to have the same right to occupy the premises as he had immediately prior to the eviction and, alternatively, (b) that he has ceased to have that right [26].\n",
      "Prior to eviction, Mr Loveridges right to occupy the downstairs flat was that of a secure tenant.\n",
      "The notional exercise required by subsection 28(3)(a) does not extend to making adjustments to the nature of the tenants rights that are consequent upon sale.\n",
      "Such adjustments are barred by subsection 28(1)(a) which stipulates that the same right continues [27].\n",
      "The likely effect upon a secure tenancy of a sale to a private landlord should not therefore be taken into account [28].\n",
      "\n",
      "*****************************************************************************************\n",
      "Generated Summary: The London Borough of Lambeth granted to Mr Loveridge a weekly tenancy of a flat at 19 Moresby Walk, London, which was subject to a secure tenancy within the meaning of section 79 of the Housing Act 1985.\n",
      "On 22 September 2009, believing that he had died, Lambeth effected forcible entry to the flat; took possession of it by changing the locks; and left a notice to quit, expressed to expire on 26 October 2009.\n",
      "It was agreed that his damages in respect of its trespass to his goods amounted to 9000.\n",
      "The parties further agreed that, at common law, the damages for any unlawful\n",
      "\n",
      "\n"
     ]
    }
   ],
   "source": [
    "# Randomly select a sample from the test dataset for comparison\n",
    "sample_index = random.randint(0, len(ds9_test) - 1)\n",
    "sample = ds9_test[sample_index]\n",
    "\n",
    "# Original text and summary\n",
    "original_text = sample['text']\n",
    "original_summary = sample['summary']\n",
    "\n",
    "# Tokenize the input\n",
    "input_ids = tokenizer([original_text], return_tensors=\"pt\", max_length=1024, truncation=True, padding=\"max_length\").input_ids\n",
    "\n",
    "# Generate summary with the model\n",
    "outputs = model.generate(input_ids=input_ids, max_length=1024, num_beams=4, early_stopping=True)\n",
    "generated_summary = tokenizer.decode(outputs[0], skip_special_tokens=True)\n",
    "\n",
    "# Print both summaries for comparison\n",
    "print(\"------------------------------------------------------------------------------------------\")\n",
    "print(f\"Example {idx + 1}:\")\n",
    "print(\"Original Summary:\", original_summary)\n",
    "print(\"*****************************************************************************************\")\n",
    "print(\"Generated Summary:\", generated_summary)\n",
    "print(\"\\n\")"
   ]
  }
 ],
 "metadata": {
  "kernelspec": {
   "display_name": "Python 3 (ipykernel)",
   "language": "python",
   "name": "python3"
  },
  "language_info": {
   "codemirror_mode": {
    "name": "ipython",
    "version": 3
   },
   "file_extension": ".py",
   "mimetype": "text/x-python",
   "name": "python",
   "nbconvert_exporter": "python",
   "pygments_lexer": "ipython3",
   "version": "3.12.6"
  }
 },
 "nbformat": 4,
 "nbformat_minor": 5
}
