{
 "cells": [
  {
   "cell_type": "code",
   "execution_count": 1,
   "id": "b396a93a-ad3a-4e9a-a494-41e38e4bc171",
   "metadata": {
    "slideshow": {
     "slide_type": ""
    },
    "tags": []
   },
   "outputs": [],
   "source": [
    "from datasets import load_dataset"
   ]
  },
  {
   "cell_type": "code",
   "execution_count": 44,
   "id": "7d33f29b-4437-4a9e-98e2-4696463c6b02",
   "metadata": {},
   "outputs": [],
   "source": [
    "# Load the datasets\n",
    "# ds1_train = load_dataset(\"joelniklaus/legal_case_document_summarization\", split='train')\n",
    "# ds1_train = ds1_train.remove_columns(['dataset_name'])\n",
    "# ds1_train = ds1_train.rename_column('judgement', 'text')\n",
    "# ds1_train = ds1_train.rename_column('summary', 'labels')\n",
    "# print(ds1_train)\n",
    "\n",
    "# ds1_test = load_dataset(\"joelniklaus/legal_case_document_summarization\", split='test')\n",
    "# ds1_test = ds1_test.remove_columns(['dataset_name'])\n",
    "# ds1_test = ds1_test.rename_column('judgement', 'text')\n",
    "# ds1_test = ds1_test.rename_column('summary', 'labels')\n",
    "\n",
    "# # NOTE: This dataset only has 50 rows. It may not be a dataset we want to use.\n",
    "# # NOTE: THIS DATA IS NOT PLAYING NICELY WITH CONCATENATION\n",
    "# # Although the summaries appear to be good\n",
    "# ds2 = load_dataset(\"manasvikalyan/legal-documents-summary\")\n",
    "# ds2 = ds2['data']\n",
    "# ds2 = ds2.remove_columns(['summary_a2'])\n",
    "# ds2 = ds2.rename_column('summary_a1', 'labels')\n",
    "# ds2 = ds2.rename_column('judgement', 'text')\n",
    "# print(ds2)"
   ]
  },
  {
   "cell_type": "code",
   "execution_count": 3,
   "id": "8f987de1-e338-487e-bb43-e73329fb1b33",
   "metadata": {},
   "outputs": [
    {
     "name": "stdout",
     "output_type": "stream",
     "text": [
      "Dataset({\n",
      "    features: ['judgement', 'dataset_name', 'summary', 'text'],\n",
      "    num_rows: 7773\n",
      "})\n"
     ]
    }
   ],
   "source": [
    "# ds9: AjayMukundS/Legal_Text_Summarization-llama2\n",
    "ds9_train = load_dataset(\"AjayMukundS/Legal_Text_Summarization-llama2\", split='train')\n",
    "ds9_test = load_dataset(\"AjayMukundS/Legal_Text_Summarization-llama2\", split='test')\n",
    "print(ds9_train)"
   ]
  },
  {
   "cell_type": "code",
   "execution_count": 4,
   "id": "0646ec4b-3108-4b55-9101-034b4bafc787",
   "metadata": {},
   "outputs": [],
   "source": [
    "from transformers import BartTokenizer"
   ]
  },
  {
   "cell_type": "code",
   "execution_count": null,
   "id": "3e2be482-9f03-4826-a46a-8fe9f16e65ee",
   "metadata": {},
   "outputs": [],
   "source": [
    "# Load the BART tokenizer\n",
    "tokenizer = BartTokenizer.from_pretrained('sshleifer/distilbart-cnn-12-6')"
   ]
  },
  {
   "cell_type": "code",
   "execution_count": 26,
   "id": "6108a129-9e5e-420f-9183-e8701549ccb9",
   "metadata": {},
   "outputs": [],
   "source": [
    "from transformers import AutoTokenizer"
   ]
  },
  {
   "cell_type": "code",
   "execution_count": null,
   "id": "1d1d1246-ace2-4369-8dbe-d71ea4ead684",
   "metadata": {},
   "outputs": [],
   "source": [
    "# Load the tokenizer\n",
    "tokenizer = AutoTokenizer.from_pretrained(\"sshleifer/distilbart-cnn-12-6\")"
   ]
  },
  {
   "cell_type": "code",
   "execution_count": 30,
   "id": "f56e86ab-3711-42d6-8b18-2bef4e86586c",
   "metadata": {},
   "outputs": [],
   "source": [
    "# Tokenize the input texts\n",
    "def preprocess_data(batch):\n",
    "    inputs = batch['text']\n",
    "    targets = batch['summary']\n",
    "    \n",
    "    model_inputs = tokenizer(inputs, max_length=1024, truncation=True, padding=\"max_length\")\n",
    "    labels = tokenizer(targets, max_length=128, truncation=True, padding=\"max_length\")\n",
    "\n",
    "    model_inputs['labels'] = labels['input_ids']\n",
    "    return model_inputs"
   ]
  },
  {
   "cell_type": "code",
   "execution_count": 31,
   "id": "08cf9f69-0a30-4bae-9a2f-3ab3361396d4",
   "metadata": {},
   "outputs": [
    {
     "data": {
      "application/vnd.jupyter.widget-view+json": {
       "model_id": "24cc57a9cadd48c687e6d55f2bacab19",
       "version_major": 2,
       "version_minor": 0
      },
      "text/plain": [
       "Map:   0%|          | 0/7773 [00:00<?, ? examples/s]"
      ]
     },
     "metadata": {},
     "output_type": "display_data"
    },
    {
     "data": {
      "application/vnd.jupyter.widget-view+json": {
       "model_id": "e791ff082f214c908f4ca71fc4422fd4",
       "version_major": 2,
       "version_minor": 0
      },
      "text/plain": [
       "Map:   0%|          | 0/200 [00:00<?, ? examples/s]"
      ]
     },
     "metadata": {},
     "output_type": "display_data"
    }
   ],
   "source": [
    "# Tokenize the datasets for DistilBART\n",
    "# Apply preprocessing to the dataset\n",
    "train_dataset = ds9_train.map(preprocess_data, batched=True, remove_columns=ds9_train.column_names)\n",
    "test_dataset = ds9_test.map(preprocess_data, batched=True, remove_columns=ds9_test.column_names)"
   ]
  },
  {
   "cell_type": "code",
   "execution_count": 34,
   "id": "2ae33d4f-d8ec-4d20-aa2d-49d5bad72da4",
   "metadata": {},
   "outputs": [],
   "source": [
    "# Set dataset format for PyTorch\n",
    "train_dataset.set_format(type='torch', columns=['input_ids', 'attention_mask', 'labels'])\n",
    "test_dataset.set_format(type='torch', columns=['input_ids', 'attention_mask', 'labels'])"
   ]
  },
  {
   "cell_type": "code",
   "execution_count": 35,
   "id": "354dca5e-5b01-469d-bd65-79fb3a866bdc",
   "metadata": {},
   "outputs": [
    {
     "name": "stdout",
     "output_type": "stream",
     "text": [
      "Dataset({\n",
      "    features: ['input_ids', 'attention_mask', 'labels'],\n",
      "    num_rows: 30\n",
      "})\n",
      "Dataset({\n",
      "    features: ['input_ids', 'attention_mask', 'labels'],\n",
      "    num_rows: 10\n",
      "})\n"
     ]
    }
   ],
   "source": [
    "# Taking 10 examples from each tokenized set to test the training.\n",
    "train_sample = train_dataset.select(range(30))\n",
    "test_sample = test_dataset.select(range(10))\n",
    "\n",
    "print(train_sample)\n",
    "print(test_sample)\n"
   ]
  },
  {
   "cell_type": "code",
   "execution_count": 11,
   "id": "21b2d3db-7cb7-43d8-98e3-af522501e62b",
   "metadata": {},
   "outputs": [],
   "source": [
    "from datasets import concatenate_datasets"
   ]
  },
  {
   "cell_type": "code",
   "execution_count": 12,
   "id": "b83cfdcd-afa0-4d35-bc9e-319da31eefa5",
   "metadata": {},
   "outputs": [],
   "source": [
    "# Maybe do later?"
   ]
  },
  {
   "cell_type": "code",
   "execution_count": 36,
   "id": "e79eabc6-8269-4a5e-8d08-c2a9bebbbe00",
   "metadata": {},
   "outputs": [],
   "source": [
    "from transformers import BartForConditionalGeneration"
   ]
  },
  {
   "cell_type": "code",
   "execution_count": null,
   "id": "99917024-5ed1-47c8-a126-ba778b2491fa",
   "metadata": {},
   "outputs": [],
   "source": [
    "# Load the DistilBART model for conditional generation\n",
    "model = BartForConditionalGeneration.from_pretrained('sshleifer/distilbart-cnn-12-6')"
   ]
  },
  {
   "cell_type": "code",
   "execution_count": 15,
   "id": "c5ade4c9-52ae-427d-9b75-e9971faf95b8",
   "metadata": {},
   "outputs": [],
   "source": [
    "# To handle padding dynamically (i.e., pad to the longest sequence in a batch rather than a fixed length)\n",
    "from transformers import DataCollatorForSeq2Seq\n",
    "\n",
    "data_collator = DataCollatorForSeq2Seq(tokenizer, model=model)"
   ]
  },
  {
   "cell_type": "code",
   "execution_count": 16,
   "id": "a28dd2e9-1a21-483f-9b94-416e052f243d",
   "metadata": {},
   "outputs": [],
   "source": [
    "from transformers import TrainingArguments, Trainer, logging"
   ]
  },
  {
   "cell_type": "code",
   "execution_count": 17,
   "id": "5337b244-e29c-4757-a75c-96019d0b5955",
   "metadata": {},
   "outputs": [
    {
     "name": "stdout",
     "output_type": "stream",
     "text": [
      "Accelerator is using device: cpu\n"
     ]
    }
   ],
   "source": [
    "import torch\n",
    "from accelerate import Accelerator\n",
    "\n",
    "accelerator = Accelerator()\n",
    "device = accelerator.device\n",
    "print(f\"Accelerator is using device: {device}\")"
   ]
  },
  {
   "cell_type": "code",
   "execution_count": null,
   "id": "e23318af-3b58-486c-995a-2d34d2eec405",
   "metadata": {},
   "outputs": [],
   "source": [
    "from transformers import Seq2SeqTrainer, Seq2SeqTrainingArguments\n",
    "\n",
    "training_args = Seq2SeqTrainingArguments(\n",
    "    output_dir=\"./results\",\n",
    "    evaluation_strategy=\"epoch\",\n",
    "    learning_rate=3e-5,\n",
    "    per_device_train_batch_size=4,\n",
    "    per_device_eval_batch_size=4,\n",
    "    weight_decay=0.01,\n",
    "    save_total_limit=3,\n",
    "    num_train_epochs=3,\n",
    "    predict_with_generate=True,\n",
    "    logging_dir=\"./logs\",\n",
    "    logging_steps=100,\n",
    ")"
   ]
  },
  {
   "cell_type": "code",
   "execution_count": 39,
   "id": "e4fa073f-774f-4ba5-bdab-72d0e305fc99",
   "metadata": {},
   "outputs": [],
   "source": [
    "# Initialize the Trainer\n",
    "trainer = Seq2SeqTrainer(\n",
    "    model=model,\n",
    "    args=training_args,\n",
    "    train_dataset=train_sample,\n",
    "    eval_dataset=test_sample,\n",
    "    tokenizer=tokenizer\n",
    ")"
   ]
  },
  {
   "cell_type": "code",
   "execution_count": 40,
   "id": "83593ca1-a99d-4959-8c46-fa0d7aedd83d",
   "metadata": {},
   "outputs": [
    {
     "name": "stderr",
     "output_type": "stream",
     "text": [
      "***** Running training *****\n",
      "  Num examples = 30\n",
      "  Num Epochs = 3\n",
      "  Instantaneous batch size per device = 4\n",
      "  Total train batch size (w. parallel, distributed & accumulation) = 4\n",
      "  Gradient Accumulation steps = 1\n",
      "  Total optimization steps = 24\n",
      "  Number of trainable parameters = 305,510,400\n"
     ]
    },
    {
     "data": {
      "text/html": [
       "\n",
       "    <div>\n",
       "      \n",
       "      <progress value='24' max='24' style='width:300px; height:20px; vertical-align: middle;'></progress>\n",
       "      [24/24 05:29, Epoch 3/3]\n",
       "    </div>\n",
       "    <table border=\"1\" class=\"dataframe\">\n",
       "  <thead>\n",
       " <tr style=\"text-align: left;\">\n",
       "      <th>Epoch</th>\n",
       "      <th>Training Loss</th>\n",
       "      <th>Validation Loss</th>\n",
       "    </tr>\n",
       "  </thead>\n",
       "  <tbody>\n",
       "    <tr>\n",
       "      <td>1</td>\n",
       "      <td>No log</td>\n",
       "      <td>2.389033</td>\n",
       "    </tr>\n",
       "    <tr>\n",
       "      <td>2</td>\n",
       "      <td>No log</td>\n",
       "      <td>2.340875</td>\n",
       "    </tr>\n",
       "    <tr>\n",
       "      <td>3</td>\n",
       "      <td>No log</td>\n",
       "      <td>2.342005</td>\n",
       "    </tr>\n",
       "  </tbody>\n",
       "</table><p>"
      ],
      "text/plain": [
       "<IPython.core.display.HTML object>"
      ]
     },
     "metadata": {},
     "output_type": "display_data"
    },
    {
     "name": "stderr",
     "output_type": "stream",
     "text": [
      "\n",
      "***** Running Evaluation *****\n",
      "  Num examples = 10\n",
      "  Batch size = 4\n",
      "\n",
      "***** Running Evaluation *****\n",
      "  Num examples = 10\n",
      "  Batch size = 4\n",
      "Saving model checkpoint to ./results\\checkpoint-24\n",
      "C:\\Users\\Sterling\\AppData\\Local\\Programs\\Python\\Python312\\Lib\\site-packages\\transformers\\modeling_utils.py:2618: UserWarning: Moving the following attributes in the config to the generation config: {'max_length': 142, 'min_length': 56, 'early_stopping': True, 'num_beams': 4, 'length_penalty': 2.0, 'no_repeat_ngram_size': 3, 'forced_bos_token_id': 0}. You are seeing this warning because you've set generation parameters in the model config, as opposed to in the generation config.\n",
      "  warnings.warn(\n",
      "Configuration saved in ./results\\checkpoint-24\\config.json\n",
      "Configuration saved in ./results\\checkpoint-24\\generation_config.json\n",
      "Model weights saved in ./results\\checkpoint-24\\model.safetensors\n",
      "tokenizer config file saved in ./results\\checkpoint-24\\tokenizer_config.json\n",
      "Special tokens file saved in ./results\\checkpoint-24\\special_tokens_map.json\n",
      "\n",
      "***** Running Evaluation *****\n",
      "  Num examples = 10\n",
      "  Batch size = 4\n",
      "\n",
      "\n",
      "Training completed. Do not forget to share your model on huggingface.co/models =)\n",
      "\n",
      "\n"
     ]
    },
    {
     "data": {
      "text/plain": [
       "TrainOutput(global_step=24, training_loss=2.1253064473470054, metrics={'train_runtime': 343.4027, 'train_samples_per_second': 0.262, 'train_steps_per_second': 0.07, 'total_flos': 139312087695360.0, 'train_loss': 2.1253064473470054, 'epoch': 3.0})"
      ]
     },
     "execution_count": 40,
     "metadata": {},
     "output_type": "execute_result"
    }
   ],
   "source": [
    "# Train the model\n",
    "trainer.train()"
   ]
  },
  {
   "cell_type": "code",
   "execution_count": 21,
   "id": "e3e599d7-8c19-42db-99b2-9c86e332e83b",
   "metadata": {},
   "outputs": [
    {
     "name": "stderr",
     "output_type": "stream",
     "text": [
      "The following columns in the evaluation set don't have a corresponding argument in `BartForConditionalGeneration.forward` and have been ignored: summary, text, judgement, dataset_name. If summary, text, judgement, dataset_name are not expected by `BartForConditionalGeneration.forward`,  you can safely ignore this message.\n",
      "\n",
      "***** Running Evaluation *****\n",
      "  Num examples = 10\n",
      "  Batch size = 4\n"
     ]
    },
    {
     "data": {
      "text/html": [
       "\n",
       "    <div>\n",
       "      \n",
       "      <progress value='3' max='3' style='width:300px; height:20px; vertical-align: middle;'></progress>\n",
       "      [3/3 00:06]\n",
       "    </div>\n",
       "    "
      ],
      "text/plain": [
       "<IPython.core.display.HTML object>"
      ]
     },
     "metadata": {},
     "output_type": "display_data"
    },
    {
     "name": "stdout",
     "output_type": "stream",
     "text": [
      "{'eval_loss': 2.6838903427124023, 'eval_runtime': 11.2525, 'eval_samples_per_second': 0.889, 'eval_steps_per_second': 0.267, 'epoch': 3.0}\n"
     ]
    }
   ],
   "source": [
    "# Evaluate the model\n",
    "eval_results = trainer.evaluate()\n",
    "print(eval_results)"
   ]
  },
  {
   "cell_type": "code",
   "execution_count": null,
   "id": "0f887de8-24f6-44ca-b9dc-79a9533b4dc1",
   "metadata": {},
   "outputs": [],
   "source": [
    "import random\n",
    "\n",
    "# Get a random index\n",
    "random_index = random.randint(0, len(ds9_test_tokenized) - 1)\n",
    "\n",
    "# Access the 'text' property of the randomly selected sample\n",
    "random_sample_text = ds9_test_tokenized[random_index]['text']\n",
    "print(random_sample_text)"
   ]
  },
  {
   "cell_type": "code",
   "execution_count": 43,
   "id": "a1f9ae02-7bf0-44b9-a803-aad8da06c86d",
   "metadata": {},
   "outputs": [
    {
     "name": "stdout",
     "output_type": "stream",
     "text": [
      "The question at issue on this appeal is whether two provisions of the State Immunity Act 1978 are consistent with the European Convention on Human Rights and the European Union Charter of Fundamental Rights.\n",
      "The EAT declared that sections 4(2)(b) and 16(1)(a) of the Act should be disapplied so far as they prevented Ms Janah from bringing claims based on EU law, on the ground that they were contrary to the right of access to a court in order to make a declaration of incompatibility under section 4 of the Human Rights Act 1998.\n",
      "By the time of her dismissal she was permanently resident\n"
     ]
    }
   ],
   "source": [
    "# Example of generating a summary\n",
    "\n",
    "inputs = [random_sample_text]\n",
    "\n",
    "# Tokenize the input\n",
    "input_ids = tokenizer(inputs, return_tensors=\"pt\", max_length=1024, truncation=True, padding=\"max_length\").input_ids\n",
    "\n",
    "# Generate summary\n",
    "outputs = model.generate(input_ids=input_ids, max_length=128, num_beams=4, early_stopping=True)\n",
    "summary = tokenizer.decode(outputs[0], skip_special_tokens=True)\n",
    "\n",
    "print(summary)\n",
    "\n"
   ]
  },
  {
   "cell_type": "code",
   "execution_count": null,
   "id": "0e69bec9-c0b9-40d5-bf89-e9a02f016cdd",
   "metadata": {},
   "outputs": [],
   "source": [
    "# Save your model\n",
    "model.save_pretrained('./trained_HX100_model_2')\n",
    "\n",
    "# Save the tokenizer\n",
    "tokenizer.save_pretrained('./trained_HX100_model_2')"
   ]
  },
  {
   "cell_type": "code",
   "execution_count": null,
   "id": "feab2f49-0d1b-42a5-9331-a913a61ee30d",
   "metadata": {},
   "outputs": [],
   "source": [
    "from transformers import AutoModelForSeq2SeqLM, AutoTokenizer\n",
    "\n",
    "# Load the trained model and tokenizer\n",
    "model = AutoModelForSeq2SeqLM.from_pretrained('./trained_HX100_model_2')\n",
    "tokenizer = AutoTokenizer.from_pretrained('./trained_HX100_model_2')\n",
    "\n",
    "# Move the model to GPU if available\n",
    "device = torch.device(\"cuda\" if torch.cuda.is_available() else \"cpu\")\n",
    "model.to(device)"
   ]
  },
  {
   "cell_type": "code",
   "execution_count": 45,
   "id": "e73a2dbe-1358-4dbb-9431-c9e9c495c276",
   "metadata": {
    "scrolled": true
   },
   "outputs": [
    {
     "name": "stdout",
     "output_type": "stream",
     "text": [
      "------------------------------------------------------------------------------------------\n",
      "Example 29:\n",
      "Original Summary: [INST] Summarize the following judgement: l Misc.\n",
      "Petitions Nos.\n",
      "401/and 4012 of 1968.\n",
      "Applications by respondent No. 1 for revocation of the certificate granted by the Madras High Court on 15th October, 1968 under article 133(1)(a) & (b) of the Constitution of India.\n",
      "AND Civil Appeals Nos. 2183 and 2184 of 1968.\n",
      "Appeals from the judgment and order elated October 9, 1968 of the Madras High Court in O.S.A. No. 25 and 27 of 1968.\n",
      "M.C. Setalvad.\n",
      "V.P. Raman, D.N. Mishra, and J.B. Dadachanji, for the appellant.\n",
      "section Mohan Kumaramangalam.\n",
      "M.K. Ramamurthi, Shyamala Pappu and Vineet Kumar, for respondent No. 1.\n",
      "Rameshwar Nath and Mahinder Narain, for respondent No. 2.\n",
      "The Judgment of the Court was delivered by Shah, J.\n",
      "M/s. Tarapore & Company hereinafter called the plaintiffs applied in Suit No. 118 of 1967 for an interim injunction restraining the Bank of India Ltd. the first defendant in the suit from taking any steps in pursuance of a letter of credit opened in favour of M/s. V/O Tractors Export, Moscow, the second defendant.\n",
      "Ramamurthi, J., by order dated April 12, 1968, granted an interim injunction restraining encashment of the letters of credit pending disposal of the suit.\n",
      "In appeals under the Letters Patent preferred by the second defendant,.\n",
      "the High Court of Madras set aside that order.\n",
      "Against the orders passed in the two appeals, the plaintiffs applied for certificate under Arts.133(1)(a) and 133(1)(b) of the Constitution.\n",
      "The High Court observed that an order granting interim injunction \"is a final order, as far as this Court is concerned, determining the rights of parties within this lit or proceeding, which is independent though ancillary to the suit\", and they were competent to grant the certificate.\n",
      "By our order dated October 28, 1968, we ordered that the certificate granted by the High Court do stand revoked.\n",
      "We set out the reasons in support of that order.\n",
      "Article 133 (1) provides, insofar as it is material: \"(1) An appeal shall lie to the Supreme Court from any judgment, decree or final order in a civil proceeding of a High Court in the territory of India if the High Court certifies (a) that the amount or value of the subject matter of the dispute in the court of first instance and still in dispute on appeal was and is not less than twenty thou sand rupees or such other sum as may be specified in that behalf by Parliament by law; or 701 (b) that the judgment, decree or final order involves directly or indirectly some claim or question respecting property of the like amount or value; or \"(c) . . where the. judgment, decree or final order appealed from affirms the decision of the Court immediately below in any case other than a case referred to in sub clause (c), if the High Court further certifies that the appeal involves some substantial question of law.\n",
      "\" The suit filed by the plaintiffs is a civil proceeding, and the suit involves some claim or question respecting property of not less than twenty thousand rupees.\n",
      "That is a matter not in dispute.\n",
      "The expression \"judgment\" in article 133 ( 1 ) in the context in which it occurs means a final adjudication by the Court of the rights of the parties, 'and that an interlocutory judgment even if it decides an issue or issues without finally determining the rights and liabilities of the parties is not a judgment, however cardinal the issue may be.\n",
      "In the present case not even an issue has been decided, and it is not contended that the order of the High Court amounts to a judgment or 'a decree.\n",
      "The expression \"final order\" it has been held by a long course of authorities, occurring in section 205 of the Government of India Act, 1935, section 109 of the Code of Civil Procedure and article 133(1) of the Constitution means a final decision on the rights of the parties in dispute in a suit or proceeding; if the rights of the parties in dispute in the suit or proceeding remain to be tried, after the order, the order is not final.\n",
      "In Ramchand Manjimal vs Goverdhandas Vishindas RatanChand(1), it was held by the Judicial Committee that an order of the Judicial Commissioner of Sind vacating an order of stay granted under section 19 o,f the Indian Arbitration Act, 1899, and refusing to stay a proceeding was not a final order within the meaning of section 109(a) of the Code of Civil Procedure.\n",
      "Viscount Cave referred to Salaman\n",
      "*****************************************************************************************\n",
      "Generated Summary: The plaintiffs applied for an interim injunction restraining the Bank of India Ltd. the first defendant from taking any steps in pursuance of a letter of credit opened in favour of M/s. V/O Tractors Export, Moscow, the second defendant.\n",
      "The High Court observed that an order granting interim injunction \"is a final order, as far as this Court is concerned\"\n",
      "\n",
      "\n",
      "------------------------------------------------------------------------------------------\n",
      "Example 7:\n",
      "Original Summary: [INST] Summarize the following judgement: l Appeals Nos.\n",
      "15 to 19 of 1962.\n",
      "Appeal from the Judgment and order dated October 10, 1958, of the Bombay High Court in Income tax Reference No. 22 of 1 958.\n",
      "H. N. Sanyal,, Additional Solicitor General of India, N. D. Karkhanis and R. N. Sachthey, for the appellant.\n",
      "701 A. V. Viswanatha Sastri, J. B. Dadachanji, O. C. Mathur and Ravinder Narain, for the respondents.\n",
      "October, 23.\n",
      "The judgment of the Court was delivered by KAPUR, J.\n",
      "These a peals pursuant to a certificate of the High Court of Bombay raise the question of interpretation of section 24B of the Income tax Act in an Income tax Reference.\n",
      "The question referred was answered in the negative and against the Commissioner of Income tax who is the appellant in these appeals, the respondents being the heirs and legal representatives of one Amarchand N. Shroff deceased.\n",
      "The appeals relate to the assessment years 1950 51, 1951 52, 1952 53, 1953 54 and 1954 55.\n",
      "Shortly stated the facts of the case are these Amarchand N. Shroff, Mangaldas and Hiralal were partners in a firm of solicitors.\n",
      "Amarchand died on July 7, 1949.\n",
      "Thereafter the partnership was carried on by Mangaldas and Hiralal up to November 30, 1949, and on December 1, 1949, Ramesh son of Amarchand who had by then qualified as a solicitor joined the firm as the third partner.\n",
      "After the death of Amarchand the arrangement between the various partners in regard to the realisations of the old outstandings was that in respect of the work done up to the death of Amarchand the realisations were to be divided amongst Amarchand, Mangaldas and Hiralal, in respect of the work between July 8, 1949, and November 30, 1919, the realisations were to be divided between Mangaldas and Hiralal 'and in respect of work done after December 1, 1949, the realisations were to be divided amongst Mangaldas, Hiralal and Ramesh.\n",
      "The firm kept its accounts on cash basis.\n",
      "For the five assessment years 1950 51 to 1954 55 the following amounts were received : Rs. 37,847/ , As.\n",
      "43,162/ , Rs. 34,899/ , Rs. 13,402/ and 702 Rs. 32,523/ by the heirs and legal representatives of Amarchand out of the outstandings.\n",
      "The Income tax Officer sought to tax these realisations.\n",
      "For the assessment years 1950 51 and 1951 52 he assessed the amounts in the hands of the heirs and legal representatives of Amarchand as a Hindu undivided family.\n",
      "Against that order an appeal was taken to the Appellate Assistant Commissioner and then to the Appellate Tribunal.\n",
      "The two members of the Tribunal agreed in holding, though for different reasons, that the amounts were not the income of the Hindu undivided family but merely represented inheritance or realisations of the assets of Amarchand.\n",
      "The matter was not pursued further by the Revenue but sometime later proceedings were started by the Income tax Officer under section 34 in respect of the same income in the hands of \"Amarchand N. Shroff by his heirs and legal representatives\".\n",
      "The status of that entity was taken to be that of an individual and not Hindu undivided family.\n",
      "The various amounts were assessed to income tax in the hands of the respondents under section 34(1) (b) read with section 24B of the Income tax Act.\n",
      "The assessments so made were for the assessment years 1950 51, 1951 52, 1952 53, 1953 54 and 1954 55: On appeal the Appellate Assistant Commissioner held that.\n",
      "the notice under section 34 could validly be served only for the assessment years 1950 51 and notices for the subsequent years were invalid.\n",
      "The assessments for 1951 52 to 1954 55 were therefore quashed.\n",
      "The Commissioner of Income tax took an appeal to the Appellate Tribunal and the Tribunal held that assessment could not be made on Amarchand and that section 24B had no application to the income received after the death of Amarchand and that it was capital receipt and not revenue receipt.\n",
      "The order of the Appellate Assistant Commissioner was therefore upheld, On the application of the Commissioner of 703 Income tax the following question of law was referred to the High Court : \"Whether on the facts and in the circumstances of the case, the sums of Rs. 37,847/ , Rs. 43,162/ , Rs. 34,899/ , Rs. 13,402,/ and Rs. 32,523/ were assessable to income tax in the hands of the assessee \"Amarch\n",
      "*****************************************************************************************\n",
      "Generated Summary: The appellant appellant was the heirs and legal representatives of one Amarchand N. Shroff deceased.\n",
      "The appellant was assessed to income tax under section 34(1) (b) read with section 24B of the Income tax Act.\n",
      "For the assessment years 1950 51, 1951 52, 1952 53, 1953 54 and 1954 55: On appeal the Appellate Assistant Commissioner held that the assessment could not be made on the income of the appellant and not received after the receipt of the income received by the appellant as a Hindu undivided family.\n",
      "\n",
      "\n",
      "\n",
      "------------------------------------------------------------------------------------------\n",
      "Example 190:\n",
      "Original Summary: [INST] Summarize the following judgement: This is an application by the Attorney General for Northern Ireland to refer to this court what is claimed to be a devolution issue.\n",
      "The reference is made under paragraph 34 of Schedule 10 to the Northern Ireland Act 1998.\n",
      "In material part it provides: the Attorney General for Northern Ireland may refer to the Supreme Court any devolution issue which is not the subject of proceedings.\n",
      "By virtue of paragraph 1(b) of Schedule 10, a devolution issue includes a question whether a purported or proposed exercise of a function by a Minister or Northern Ireland department is, or would be, invalid by reason of section 24 of the 1998 Act.\n",
      "And section 24, among other things, provides (in subsection 1(a)) that a Minister or Northern Ireland department has no power to make, confirm or approve any subordinate legislation, or to do any act, so far as the legislation or act is incompatible with any of the rights under the European Convention on Human Rights (ECHR).\n",
      "By the Welfare Reform (Northern Ireland) Order 2015 (Commencement No 8 and Transitional and Transitory Provisions) Order 2017, the Secretary of State for Work and Pensions commenced a number of universal credit provisions for claims on or after 27 September 2017 where the claimant resides in an area known as No 1 relevant districts.\n",
      "Although it is for the Secretary of State to appoint the dates for commencement, he does so by a legislative technique which, the Attorney General contends, requires action by the Northern Ireland Department for Communities, which is one of the Northern Ireland ministerial departments.\n",
      "The 2017 Order defines the No 1 relevant districts as the postcodes specified in the table in the List of the No 1 Relevant Districts.\n",
      "It is the Department for Communities which must issue such lists.\n",
      "The same holds true for a second order made by the Secretary of State relating to No 3 relevant districts and No 2 relevant districts.\n",
      "The commencement order was drafted so that Universal Credit could come into effect if the Department published a list of postcodes, which postcodes together make up the district within which the benefit will commence.\n",
      "The basis for the Attorneys reference is his assertion that the universal credit provisions in question breach articles 8, 12 and 14 of the ECHR and article 1 of the first protocol to the ECHR and are therefore invalid per section 24 of the 1998 Act.\n",
      "The Attorney General submits that a devolution issue arises because the provision of lists by the Department for Communities is necessary in order to give effect to the Secretary of States commencement orders.\n",
      "The Department refutes this, contending that its role in issuing the relevant lists amounts to nothing more than providing administrative support to the Secretary of State.\n",
      "The commencement orders define the relevant territories by reference to lists of postcodes issued by the Department.\n",
      "The lists were not prepared, however, pursuant to any statutory or other power and do not have any independent legal force or effect, the Department says.\n",
      "They are incorporated by reference into the commencement orders and therefore have legal effects solely by reason of the act of the Secretary of State, not the act of the Department.\n",
      "Discussion\n",
      "Acts by the Secretary of State or by departments in Westminster do not come within the purview of section 24 of the 1998 Act.\n",
      "In order for a devolution issue to arise, therefore, it must be shown that an act has been carried out or a function has been discharged by a Northern Ireland Minister or a Northern Ireland department.\n",
      "Section 1(1) of the Northern Ireland (Welfare Reform) Act 2015 stated that\n",
      "Her Majesty could make provision for, inter alia, social security and child support maintenance in Northern Ireland by way of an Order in Council.\n",
      "Section 1(2) stipulated that such an Order in Council could confer power on the Secretary of State or a Northern Ireland department to make regulations relating to such payments.\n",
      "The Welfare Reform (Northern Ireland) Order 2015 was made on 9 December 2015, pursuant to the 2015 Act.\n",
      "Article 4 provides that until such date as appointed by the Secretary of State, a function conferred on a Northern Ireland department under the 2015 Order to make Regulations for social security and child support maintenance is to be exercised by the Secretary of State rather than by the Northern Ireland department.\n",
      "It also provides that any statutory provision relating to social security and child support maintenance may be exercised by the Secretary of State (as well as by the Northern Ireland department otherwise entitled to exercise the function).\n",
      "These provisions were deemed to be necessary because of disagreements over welfare reform among the Northern Ireland political parties.\n",
      "They were important, the department argued, because they concentrated the power to make regulations relating to welfare provision in the office of the Secretary of State.\n",
      "Actions taken by the Secretary of State could not constitute devolution issues.\n",
      "On one view, it would be anomalous that the provision of lists of postcodes, something entirely ancillary to the introduction of the welfare provision reforms, could be used as a hook on which to hang the argument\n",
      "*****************************************************************************************\n",
      "Generated Summary: The Attorney General for Northern Ireland submits that a devolution issue arises because the provision of lists of postcodes by the Department for Communities is necessary in order to give effect to commencement orders by the Secretary of State, not by the Northern Ireland ministerial department, which is one of the ministerial departments.\n",
      "Section 24 of the 1998 Northern Ireland Act provides that a Minister or Northern Ireland department has no power to make, confirm or approve any subordinate legislation, or to do any act, so far as the legislation or act is incompatible with any of the rights under the European Convention on Human Rights (ECHR)\n",
      "\n",
      "\n",
      "------------------------------------------------------------------------------------------\n",
      "Example 71:\n",
      "Original Summary: [INST] Summarize the following judgement: Civil Appeal No. 1377 of 1982.\n",
      "From the Judgment and Order dated 17.11.1980 of the Bombay High Court in Special Civil Appeal No. 251 of 1977.\n",
      "F.R. Nariman, E.K. Jose, P.H. Parekh and Miss Sunita Sharma for the Appellant.\n",
      "Y.H. Muchhala, B.R. Aggarwala and Miss. section Manchanda for the Respondent.\n",
      "The Judgment of the Court was delivered by SABYASACHI MUKHARJI, J.\n",
      "This appeal by special leave arises from the judgment and order of the High Court of Bombay dated 17th of November, 1980.\n",
      "The main question involved in this appeal is whether the appellant was a licensee or a tenant and also incidentally the question whether the Court of Small Causes, Bombay had jurisdiction to deal with the eviction petition in this case.\n",
      "The premises in question belongs to the Bombay City Weavers Cooperative Limited.\n",
      "They filed ejectment proceedings against one 1060 Sugrabhai Mohammed Husain, their tenant and obtained a decree.\n",
      "It is stated that the appellant was a monthly tenant of the suit premises since about 2nd February, 1965.\n",
      "On or about 9th of February, 1965 a fresh document of that date, was executed and it is alleged that the appellant continued by virtue of that agreement.\n",
      "It is alleged that this agreement was entered into between the parties since the respondent wanted to charge more rent or mesne profits.\n",
      "This agreement is in writing and this was for a period of five years, i.e., from 1st September, 1965 to 31st of August, 1970.\n",
      "The main contention involved in this appeal is whether the appellant was a tenant or a licensee? The answer would be dependent upon the construction of the aforesaid document.\n",
      "It is necessary, therefore, to refer to the said agreement in little detail.\n",
      "The agreement is described as an agreement of 'leave and licence ' entered into between the respondent on the one hand and the appellant on the other wherein the respondent had been described as the 'licensor and the appellant had been described as the licensee ' and the recitals therein recite that the licensor was seized and possessed of and was otherwise well entitled as the monthly tenant of the workshop premises situated at 231, Ripon Road, Cooperative Building, Bombay, being the premises in dispute, and whereas the licensee had approached the licensor to allow him to occupy and use the said premises for the purpose of carrying out his business of workshop for a period of five years and whereas the licensor had agreed to allow the licensee to use the premises under the said leave and licence of the licensor for a period of five years from 1st of September, 1965 till 31st of August, 1970, that agreement was being executed.\n",
      "it was stated that the licensor gave and granted his 'leave and licence ' to the licensee to use and occupy the said premises for the period of five years.\n",
      "Clause 2 of the said agreement recites that the licensee had agreed to use the premises as above and merely for the purpose of workshop business.\n",
      "It further goes on to state that the \"licensee shall not under any circumstances be allowed to use the premises for the residential purposes or any other purpose save and except specified therein\".\n",
      "The period of leave and licence was to commence from 1st of September, 1965 to 31st of August, 1970 and it was further submitted that the licensee and the licensor shall not terminate the said agreement earlier save and except on the ground of breach of any of the terms and conditions written therein.\n",
      "The licensor was entitled to terminate the agreement earlier notwithstanding the fact that the period of the agreement might not have expired.\n",
      "It further stipulated that the licensee should deposit a sum of Rs.2,500 for the due performance of the terms and conditions of the agreement.\n",
      "The said deposit was to be kept free of interest and the same was to be refunded to the 1061 licensee on the licensee surrendering possession of the said premises by removing himself and his belongings on the expiry of the period of the agreement or sooner termination or determination thereof after deducting all the dues if any for payment of compensation.\n",
      "It further stipulated that the licensee shall pay to the licensor a monthly compensation of Rs.225 per month.\n",
      "It is further stipulated that the licensee would be entitled to keep the keys of the said premises with him and shall be at liberty to work in the said premises for twenty hours subject to restriction of rules and regulations imposed by the Municipal or any other local authority or authorities.\n",
      "It is further provided that the licensee shall be alone responsible and liable for any breach or contravention of any rule or regulation of the said authorities and he shall indemnify the licensor therefor.\n",
      "The document further stipulated that the licensee shall be at liberty to construct loft and electric fittings and apparatus and tools and shall\n",
      "*****************************************************************************************\n",
      "Generated Summary: The appellant was a monthly tenant of the premises of a cooperative cooperative cooperative building, Bombay City Weavers Cooperative Limited.\n",
      "It is alleged that the appellant continued by virtue of an agreement entered into between the parties between the respondent and the appellant on the one hand, the appellant and the respondent.\n",
      "The appellant continued to occupy the premises under the agreement of 'leave and licence' from 1st of September, 1965 to 31st of August, 1970. petertoddIt is further stated that the licensor gave and granted his leave and licence to the licensee to use the premises for the purpose of carrying out his workshop business for a period of five years, i.e.\n",
      "\n",
      "\n",
      "------------------------------------------------------------------------------------------\n",
      "Example 63:\n",
      "Original Summary: [INST] Summarize the following judgement: Tax Reference Cases Nos. 3 to 5 of 1975 Tax Reference under Section 257 of the Income tax Act, 1961 made by the Income tax Appellate Tribunal, Cuttack Bench, Cuttack P.A. Francis, Champat Rai and Miss A. Subhashini for the Appellant.\n",
      "C.S.S. Rao for the Respondent.\n",
      "The Judgment of the Court was delivered by 308 PATHAK, J.\n",
      ": These references under s.27(1) of the have been made by the Income Tax Appellate tribunal, Cuttack Bench at the instance of the Commissioner of Wealth Tax, Orissa for the opinion of this Court on the following question of law: \"Whether on the facts and in the circumstances of the case, the Wealth Tax Officer was in law justified in including in the net wealth of the assessee interest due on accrual basis (though not realised) on the outstandings of the money lending business, the accounts of the assessee being maintained on cash basis ?\" The respondent assessee was assessed to wealth tax for the assessment years 1965 66, 1966 67 and 1967 68 (the respective valuation dates being March 31, 1965, March 31, 1966 and March 31, 1967), in the status of a 'Hindu Undivided Family.\n",
      "In each of the assessments, the Wealth Tax Officer included a sum of Rs. 1,50,000 estimated as the accrued interest on the assessee 's money lending investments.\n",
      "The assessee appealed to the Appellate Assistant Commissioner and urged that as it maintained its books of account in accordance with the cash system of accounting the accrued interest on the money lending investments could not be included in the wealth tax assessments.\n",
      "The contention found favour with the Appellate Assistant Commissioner, and accordingly he deleted the additions of Rs. 1,50,000 representing accrued interest.\n",
      "In doing so the Appellate Assistant Commissioner followed \"Commissioner of Wealth tax Bihar and Orissa vs Vysyaraju Badreenarayana Moorthy Raju (Orissa)(1), The Wealth Tax Officer appealed to the Appellate Tribunal and contended that accrued interest was liable to be included in the wealth tax assessments of the assessee.\n",
      "The Wealth Tax Officer sought support from a judgment of the Andhra Pradesh High Court in Vedreva Venkappa Rao vs Commissioner of Wealth tax(2) A.P.\n",
      "The Appellate Tribunal observed that the judgment of the Orissa High Court was binding on it, and accordingly by a consolidated order dated April 3, 1972, it dismissed the appeals.\n",
      "The Commissioner of Wealth Tax applied under sub section\n",
      "(1) of section 27 of the Wealth (1) (2) 309 Tax Act for a reference of the cases to this Court in view of the conflict of opinion between the Orissa High Court and the Andhra Pradesh High Court, and so these references have been made.\n",
      "The question can be disposed of shortly.\n",
      "Under section 3 of the Wealth Tax Act, wealth tax is charged for every assessment year in respect of the net wealth of the assessee on the corresponding valuation date.\n",
      "The expression \"net wealth\" is defined by cl.\n",
      "(m) of s.2 of the Act as \"the amount by which the aggregate value . .\n",
      "Of all the assets, wherever located, belonging to the assessee on the valuation date. is in excess of the aggregate value of all the debts owed by the assessee on the valuation date. \" According to the scheme of the Wealth Tax Act, the net wealth of an assessee has to be determined as it obtains on a particular date.\n",
      "That is the \"valuation date\".\n",
      "Clause (q) of s 2 defines the expression \"valuation date\" as follows: ; \"(q) Valuation date, in relation to any year for which an assessment is to be made under this Act, means the last day of the previous year as defined in (Section 3) of the Income Tax Act, if an assessment were to be made under that Act for that year; Provided that (i) Where in the case of an assessee there are different previous years under the Income Tax Act for different sources of income, the valuation date for the purposes of this Act shall be the last day of the last of the previous years aforesaid, (ii) in the case of a person who is not an assessee within the meaning of the Income Tax Act, the valuation date for the purposes of this Act shall be the 31st day of March immediately preceding the assessment (z year; (iii)where an assessment is made in pursuance of section 19A, the valuation date shall be the same valuation date as would have been adopted in respect of the net wealth of the deceased if he were alive.\n",
      "\" 310 The computation of the net wealth of an assessee calls for a determination of his assets and debts as on the valuation date.\n",
      "\n",
      "*****************************************************************************************\n",
      "Generated Summary: The respondent assessee was assessed to wealth tax for the assessment years 1965 66, 1966 67 and 1967 68 (the respective valuation dates being March 31, 1965, 1966 and 1967), in the status of a 'Hindu Undivided Family' The Wealth Tax Officer included a sum of Rs. 1,50,000 estimated as the accrued interest on the assessee 's money lending investments.\n",
      "The assessee appealed to the Income Tax Appellate Tribunal and contended that accrued interest was liable to be included in the assessments of the Assessee.\n",
      "In doing so the\n",
      "\n",
      "\n"
     ]
    }
   ],
   "source": [
    "import random\n",
    "\n",
    "# Select 5 random indices from the combined_testing_tokenized_dataset\n",
    "random_indices = random.sample(range(len(ds9_test_tokenized)), 5)\n",
    "\n",
    "for idx in random_indices:\n",
    "    # Example: Take the tokenized input from the tokenized testing dataset\n",
    "    example_input_ids = ds9_test_tokenized['input_ids'][idx]\n",
    "    \n",
    "    # Convert to torch tensor and move to the device (GPU or CPU)\n",
    "    example_input_ids = torch.tensor(example_input_ids).unsqueeze(0).to(device)\n",
    "    \n",
    "    # Generate the summary using the model\n",
    "    summary_ids = model.generate(example_input_ids, num_beams=4, max_length=200, early_stopping=True)\n",
    "    \n",
    "    # Decode the generated summary\n",
    "    generated_summary = tokenizer.decode(summary_ids[0], skip_special_tokens=True)\n",
    "    \n",
    "    # Decode the actual (original) input summary\n",
    "    original_summary = tokenizer.decode(example_input_ids[0], skip_special_tokens=True)\n",
    "    \n",
    "    # Print both summaries for comparison\n",
    "    print(\"------------------------------------------------------------------------------------------\")\n",
    "    print(f\"Example {idx + 1}:\")\n",
    "    print(\"Original Summary:\", original_summary)\n",
    "    print(\"*****************************************************************************************\")\n",
    "    print(\"Generated Summary:\", generated_summary)\n",
    "    print(\"\\n\")\n"
   ]
  }
 ],
 "metadata": {
  "kernelspec": {
   "display_name": "Python 3 (ipykernel)",
   "language": "python",
   "name": "python3"
  },
  "language_info": {
   "codemirror_mode": {
    "name": "ipython",
    "version": 3
   },
   "file_extension": ".py",
   "mimetype": "text/x-python",
   "name": "python",
   "nbconvert_exporter": "python",
   "pygments_lexer": "ipython3",
   "version": "3.12.6"
  }
 },
 "nbformat": 4,
 "nbformat_minor": 5
}
